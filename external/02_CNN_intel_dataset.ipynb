{
  "cells": [
    {
      "cell_type": "markdown",
      "metadata": {
        "id": "jICEboXo3Rc_"
      },
      "source": [
        "* `Pull the Dataset from Kaggle` [Here](https://www.kaggle.com/datasets/puneet6060/intel-image-classification)\n"
      ]
    },
    {
      "cell_type": "code",
      "execution_count": 1,
      "metadata": {
        "id": "GUt4SY384Pwo"
      },
      "outputs": [],
      "source": [
        "!pip install -q kagglehub"
      ]
    },
    {
      "cell_type": "code",
      "execution_count": 2,
      "metadata": {
        "colab": {
          "base_uri": "https://localhost:8080/",
          "height": 229
        },
        "id": "coP_H1iv3_t_",
        "outputId": "f6579a38-7fb6-42c2-ed01-838081d94097"
      },
      "outputs": [
        {
          "name": "stdout",
          "output_type": "stream",
          "text": [
            "📂 Please upload your kaggle.json file:\n"
          ]
        },
        {
          "data": {
            "text/html": [
              "\n",
              "     <input type=\"file\" id=\"files-91e161d9-62da-4f66-ad97-2c01fe181d6d\" name=\"files[]\" multiple disabled\n",
              "        style=\"border:none\" />\n",
              "     <output id=\"result-91e161d9-62da-4f66-ad97-2c01fe181d6d\">\n",
              "      Upload widget is only available when the cell has been executed in the\n",
              "      current browser session. Please rerun this cell to enable.\n",
              "      </output>\n",
              "      <script>// Copyright 2017 Google LLC\n",
              "//\n",
              "// Licensed under the Apache License, Version 2.0 (the \"License\");\n",
              "// you may not use this file except in compliance with the License.\n",
              "// You may obtain a copy of the License at\n",
              "//\n",
              "//      http://www.apache.org/licenses/LICENSE-2.0\n",
              "//\n",
              "// Unless required by applicable law or agreed to in writing, software\n",
              "// distributed under the License is distributed on an \"AS IS\" BASIS,\n",
              "// WITHOUT WARRANTIES OR CONDITIONS OF ANY KIND, either express or implied.\n",
              "// See the License for the specific language governing permissions and\n",
              "// limitations under the License.\n",
              "\n",
              "/**\n",
              " * @fileoverview Helpers for google.colab Python module.\n",
              " */\n",
              "(function(scope) {\n",
              "function span(text, styleAttributes = {}) {\n",
              "  const element = document.createElement('span');\n",
              "  element.textContent = text;\n",
              "  for (const key of Object.keys(styleAttributes)) {\n",
              "    element.style[key] = styleAttributes[key];\n",
              "  }\n",
              "  return element;\n",
              "}\n",
              "\n",
              "// Max number of bytes which will be uploaded at a time.\n",
              "const MAX_PAYLOAD_SIZE = 100 * 1024;\n",
              "\n",
              "function _uploadFiles(inputId, outputId) {\n",
              "  const steps = uploadFilesStep(inputId, outputId);\n",
              "  const outputElement = document.getElementById(outputId);\n",
              "  // Cache steps on the outputElement to make it available for the next call\n",
              "  // to uploadFilesContinue from Python.\n",
              "  outputElement.steps = steps;\n",
              "\n",
              "  return _uploadFilesContinue(outputId);\n",
              "}\n",
              "\n",
              "// This is roughly an async generator (not supported in the browser yet),\n",
              "// where there are multiple asynchronous steps and the Python side is going\n",
              "// to poll for completion of each step.\n",
              "// This uses a Promise to block the python side on completion of each step,\n",
              "// then passes the result of the previous step as the input to the next step.\n",
              "function _uploadFilesContinue(outputId) {\n",
              "  const outputElement = document.getElementById(outputId);\n",
              "  const steps = outputElement.steps;\n",
              "\n",
              "  const next = steps.next(outputElement.lastPromiseValue);\n",
              "  return Promise.resolve(next.value.promise).then((value) => {\n",
              "    // Cache the last promise value to make it available to the next\n",
              "    // step of the generator.\n",
              "    outputElement.lastPromiseValue = value;\n",
              "    return next.value.response;\n",
              "  });\n",
              "}\n",
              "\n",
              "/**\n",
              " * Generator function which is called between each async step of the upload\n",
              " * process.\n",
              " * @param {string} inputId Element ID of the input file picker element.\n",
              " * @param {string} outputId Element ID of the output display.\n",
              " * @return {!Iterable<!Object>} Iterable of next steps.\n",
              " */\n",
              "function* uploadFilesStep(inputId, outputId) {\n",
              "  const inputElement = document.getElementById(inputId);\n",
              "  inputElement.disabled = false;\n",
              "\n",
              "  const outputElement = document.getElementById(outputId);\n",
              "  outputElement.innerHTML = '';\n",
              "\n",
              "  const pickedPromise = new Promise((resolve) => {\n",
              "    inputElement.addEventListener('change', (e) => {\n",
              "      resolve(e.target.files);\n",
              "    });\n",
              "  });\n",
              "\n",
              "  const cancel = document.createElement('button');\n",
              "  inputElement.parentElement.appendChild(cancel);\n",
              "  cancel.textContent = 'Cancel upload';\n",
              "  const cancelPromise = new Promise((resolve) => {\n",
              "    cancel.onclick = () => {\n",
              "      resolve(null);\n",
              "    };\n",
              "  });\n",
              "\n",
              "  // Wait for the user to pick the files.\n",
              "  const files = yield {\n",
              "    promise: Promise.race([pickedPromise, cancelPromise]),\n",
              "    response: {\n",
              "      action: 'starting',\n",
              "    }\n",
              "  };\n",
              "\n",
              "  cancel.remove();\n",
              "\n",
              "  // Disable the input element since further picks are not allowed.\n",
              "  inputElement.disabled = true;\n",
              "\n",
              "  if (!files) {\n",
              "    return {\n",
              "      response: {\n",
              "        action: 'complete',\n",
              "      }\n",
              "    };\n",
              "  }\n",
              "\n",
              "  for (const file of files) {\n",
              "    const li = document.createElement('li');\n",
              "    li.append(span(file.name, {fontWeight: 'bold'}));\n",
              "    li.append(span(\n",
              "        `(${file.type || 'n/a'}) - ${file.size} bytes, ` +\n",
              "        `last modified: ${\n",
              "            file.lastModifiedDate ? file.lastModifiedDate.toLocaleDateString() :\n",
              "                                    'n/a'} - `));\n",
              "    const percent = span('0% done');\n",
              "    li.appendChild(percent);\n",
              "\n",
              "    outputElement.appendChild(li);\n",
              "\n",
              "    const fileDataPromise = new Promise((resolve) => {\n",
              "      const reader = new FileReader();\n",
              "      reader.onload = (e) => {\n",
              "        resolve(e.target.result);\n",
              "      };\n",
              "      reader.readAsArrayBuffer(file);\n",
              "    });\n",
              "    // Wait for the data to be ready.\n",
              "    let fileData = yield {\n",
              "      promise: fileDataPromise,\n",
              "      response: {\n",
              "        action: 'continue',\n",
              "      }\n",
              "    };\n",
              "\n",
              "    // Use a chunked sending to avoid message size limits. See b/62115660.\n",
              "    let position = 0;\n",
              "    do {\n",
              "      const length = Math.min(fileData.byteLength - position, MAX_PAYLOAD_SIZE);\n",
              "      const chunk = new Uint8Array(fileData, position, length);\n",
              "      position += length;\n",
              "\n",
              "      const base64 = btoa(String.fromCharCode.apply(null, chunk));\n",
              "      yield {\n",
              "        response: {\n",
              "          action: 'append',\n",
              "          file: file.name,\n",
              "          data: base64,\n",
              "        },\n",
              "      };\n",
              "\n",
              "      let percentDone = fileData.byteLength === 0 ?\n",
              "          100 :\n",
              "          Math.round((position / fileData.byteLength) * 100);\n",
              "      percent.textContent = `${percentDone}% done`;\n",
              "\n",
              "    } while (position < fileData.byteLength);\n",
              "  }\n",
              "\n",
              "  // All done.\n",
              "  yield {\n",
              "    response: {\n",
              "      action: 'complete',\n",
              "    }\n",
              "  };\n",
              "}\n",
              "\n",
              "scope.google = scope.google || {};\n",
              "scope.google.colab = scope.google.colab || {};\n",
              "scope.google.colab._files = {\n",
              "  _uploadFiles,\n",
              "  _uploadFilesContinue,\n",
              "};\n",
              "})(self);\n",
              "</script> "
            ],
            "text/plain": [
              "<IPython.core.display.HTML object>"
            ]
          },
          "metadata": {},
          "output_type": "display_data"
        },
        {
          "name": "stdout",
          "output_type": "stream",
          "text": [
            "Saving kaggle.json to kaggle.json\n",
            "✅ kaggle.json uploaded and set up correctly!\n",
            "Downloading from https://www.kaggle.com/api/v1/datasets/download/puneet6060/intel-image-classification?dataset_version_number=2...\n"
          ]
        },
        {
          "name": "stderr",
          "output_type": "stream",
          "text": [
            "100%|██████████| 346M/346M [00:02<00:00, 164MB/s]"
          ]
        },
        {
          "name": "stdout",
          "output_type": "stream",
          "text": [
            "Extracting files...\n"
          ]
        },
        {
          "name": "stderr",
          "output_type": "stream",
          "text": [
            "\n"
          ]
        },
        {
          "name": "stdout",
          "output_type": "stream",
          "text": [
            "✅ Dataset downloaded successfully!\n",
            "📂 Path to dataset files: /root/.cache/kagglehub/datasets/puneet6060/intel-image-classification/versions/2\n",
            "✅ Dataset moved to /content/intel_dataset\n",
            "📂 Final Dataset contents: ['seg_train', 'seg_pred', 'seg_test']\n"
          ]
        }
      ],
      "source": [
        "from google.colab import files\n",
        "import os\n",
        "import kagglehub\n",
        "\n",
        "# Step 1: Upload kaggle.json manually\n",
        "print(\"📂 Please upload your kaggle.json file:\")\n",
        "uploaded = files.upload()\n",
        "\n",
        "# Ensure the uploaded file exists\n",
        "if \"kaggle.json\" not in uploaded:\n",
        "    print(\"❌ kaggle.json upload failed. Please try again.\")\n",
        "else:\n",
        "    # Step 2: Move the file to the correct location\n",
        "    !mkdir -p /root/.config/kaggle\n",
        "    !mv kaggle.json /root/.config/kaggle/\n",
        "\n",
        "    # Step 3: Set proper permissions (read and write)\n",
        "    !chmod 600 /root/.config/kaggle/kaggle.json\n",
        "\n",
        "    # Step 4: Verify that the file exists\n",
        "    if os.path.exists(\"/root/.config/kaggle/kaggle.json\"):\n",
        "        print(\"✅ kaggle.json uploaded and set up correctly!\")\n",
        "    else:\n",
        "        print(\"❌ kaggle.json upload failed. Please check the file path.\")\n",
        "\n",
        "# Step 5: download dataset\n",
        "try:\n",
        "    dataset_path = kagglehub.dataset_download(\"puneet6060/intel-image-classification\")\n",
        "    print(\"✅ Dataset downloaded successfully!\")\n",
        "    print(\"📂 Path to dataset files:\", dataset_path)\n",
        "\n",
        "    # Step 7: Move dataset to /content/{dataset-name} for easier access\n",
        "    target_path = os.path.join(os.getcwd(), \"intel_dataset\")\n",
        "    !mkdir -p {target_path}  # Ensure target directory exists\n",
        "    !cp -r {dataset_path}/* {target_path}/\n",
        "\n",
        "    print(f\"✅ Dataset moved to {target_path}\")\n",
        "    print(\"📂 Final Dataset contents:\", os.listdir(target_path))\n",
        "\n",
        "except Exception as e:\n",
        "    print(\"❌ Error downloading dataset:\", e)"
      ]
    },
    {
      "cell_type": "markdown",
      "metadata": {
        "id": "TyoFmYBp6in-"
      },
      "source": [
        "----"
      ]
    },
    {
      "cell_type": "markdown",
      "metadata": {
        "id": "6npgIQlT78q2"
      },
      "source": [
        "* `Import Libraries`"
      ]
    },
    {
      "cell_type": "code",
      "execution_count": 46,
      "metadata": {
        "id": "oiEU2DKt6y1G"
      },
      "outputs": [],
      "source": [
        "import glob\n",
        "import os\n",
        "import joblib\n",
        "import matplotlib.pyplot as plt\n",
        "import pandas as pd\n",
        "import numpy as np\n",
        "import tensorflow as tf"
      ]
    },
    {
      "cell_type": "markdown",
      "metadata": {
        "id": "Kfci396H7-7O"
      },
      "source": [
        "* `Explore Dataset`"
      ]
    },
    {
      "cell_type": "code",
      "execution_count": 4,
      "metadata": {
        "id": "WspUnZ8j6ydU"
      },
      "outputs": [],
      "source": [
        "TRAIN_FOLDER_PATH = '/content/intel_dataset/seg_train/seg_train'\n",
        "TEST_FOLDER_PATH = '/content/intel_dataset/seg_test/seg_test'\n",
        "PRED_FOLDER_PATH = '/content/intel_dataset/seg_pred/seg_pred'"
      ]
    },
    {
      "cell_type": "code",
      "execution_count": 5,
      "metadata": {
        "colab": {
          "base_uri": "https://localhost:8080/"
        },
        "id": "8V5k2yJg3VWu",
        "outputId": "e17563cc-7c00-488f-b8c9-6f881e8096ec"
      },
      "outputs": [
        {
          "name": "stdout",
          "output_type": "stream",
          "text": [
            "For training data , found 2404 in folder glacier\n",
            "For training data , found 2274 in folder sea\n",
            "For training data , found 2382 in folder street\n",
            "For training data , found 2191 in folder buildings\n",
            "For training data , found 2271 in folder forest\n",
            "For training data , found 2512 in folder mountain\n"
          ]
        }
      ],
      "source": [
        "# For training\n",
        "for folder in os.listdir(TRAIN_FOLDER_PATH):\n",
        "    images = glob.glob(pathname=str(TRAIN_FOLDER_PATH +'/'+folder+'/*.jpg'))\n",
        "    print(f'For training data , found {len(images)} in folder {folder}')"
      ]
    },
    {
      "cell_type": "code",
      "execution_count": 6,
      "metadata": {
        "colab": {
          "base_uri": "https://localhost:8080/"
        },
        "id": "48f9ugLK7U1I",
        "outputId": "d6e14684-7a8c-445a-83ef-963ebd8dd275"
      },
      "outputs": [
        {
          "name": "stdout",
          "output_type": "stream",
          "text": [
            "For training data , found 553 in folder glacier\n",
            "For training data , found 510 in folder sea\n",
            "For training data , found 501 in folder street\n",
            "For training data , found 437 in folder buildings\n",
            "For training data , found 474 in folder forest\n",
            "For training data , found 525 in folder mountain\n"
          ]
        }
      ],
      "source": [
        "# For Testing\n",
        "for folder in os.listdir(TEST_FOLDER_PATH):\n",
        "    images = glob.glob(pathname=str(TEST_FOLDER_PATH +'/'+folder+'/*.jpg'))\n",
        "    print(f'For training data , found {len(images)} in folder {folder}')"
      ]
    },
    {
      "cell_type": "code",
      "execution_count": 7,
      "metadata": {
        "colab": {
          "base_uri": "https://localhost:8080/"
        },
        "id": "qU-XfCQs7xI6",
        "outputId": "4442e7a8-2074-42da-97d7-f536802d3737"
      },
      "outputs": [
        {
          "name": "stdout",
          "output_type": "stream",
          "text": [
            "For Prediction data , found 7301\n"
          ]
        }
      ],
      "source": [
        "# For Prediction (Has no labels)\n",
        "files = glob.glob(pathname=str(PRED_FOLDER_PATH +'/*.jpg'))\n",
        "print(f'For Prediction data , found {len(files)}')"
      ]
    },
    {
      "cell_type": "code",
      "execution_count": 8,
      "metadata": {
        "colab": {
          "base_uri": "https://localhost:8080/",
          "height": 241
        },
        "id": "um3Rd4ks8s3G",
        "outputId": "35fd4eee-1b64-438a-fbc2-17fd49c1e6b1"
      },
      "outputs": [
        {
          "data": {
            "text/html": [
              "<div>\n",
              "<style scoped>\n",
              "    .dataframe tbody tr th:only-of-type {\n",
              "        vertical-align: middle;\n",
              "    }\n",
              "\n",
              "    .dataframe tbody tr th {\n",
              "        vertical-align: top;\n",
              "    }\n",
              "\n",
              "    .dataframe thead th {\n",
              "        text-align: right;\n",
              "    }\n",
              "</style>\n",
              "<table border=\"1\" class=\"dataframe\">\n",
              "  <thead>\n",
              "    <tr style=\"text-align: right;\">\n",
              "      <th></th>\n",
              "      <th>count</th>\n",
              "    </tr>\n",
              "  </thead>\n",
              "  <tbody>\n",
              "    <tr>\n",
              "      <th>(150, 150, 3)</th>\n",
              "      <td>13986</td>\n",
              "    </tr>\n",
              "    <tr>\n",
              "      <th>(113, 150, 3)</th>\n",
              "      <td>7</td>\n",
              "    </tr>\n",
              "    <tr>\n",
              "      <th>(111, 150, 3)</th>\n",
              "      <td>3</td>\n",
              "    </tr>\n",
              "    <tr>\n",
              "      <th>(135, 150, 3)</th>\n",
              "      <td>3</td>\n",
              "    </tr>\n",
              "    <tr>\n",
              "      <th>(134, 150, 3)</th>\n",
              "      <td>2</td>\n",
              "    </tr>\n",
              "  </tbody>\n",
              "</table>\n",
              "</div><br><label><b>dtype:</b> int64</label>"
            ],
            "text/plain": [
              "(150, 150, 3)    13986\n",
              "(113, 150, 3)        7\n",
              "(111, 150, 3)        3\n",
              "(135, 150, 3)        3\n",
              "(134, 150, 3)        2\n",
              "Name: count, dtype: int64"
            ]
          },
          "execution_count": 8,
          "metadata": {},
          "output_type": "execute_result"
        }
      ],
      "source": [
        "# Check sizes for Training Dataset\n",
        "sizes = []\n",
        "for folder in os.listdir(TRAIN_FOLDER_PATH):\n",
        "    images = glob.glob(pathname=str(TRAIN_FOLDER_PATH + '/' + folder + '/*.jpg'))\n",
        "    for img in images:\n",
        "        image = plt.imread(img)\n",
        "        sizes.append(image.shape)\n",
        "\n",
        "pd.Series(sizes).value_counts().head()"
      ]
    },
    {
      "cell_type": "code",
      "execution_count": 9,
      "metadata": {
        "colab": {
          "base_uri": "https://localhost:8080/",
          "height": 241
        },
        "id": "HADTV9AJ85nH",
        "outputId": "83799a0a-a3f2-42d4-822f-9b3d1276a1cf"
      },
      "outputs": [
        {
          "data": {
            "text/html": [
              "<div>\n",
              "<style scoped>\n",
              "    .dataframe tbody tr th:only-of-type {\n",
              "        vertical-align: middle;\n",
              "    }\n",
              "\n",
              "    .dataframe tbody tr th {\n",
              "        vertical-align: top;\n",
              "    }\n",
              "\n",
              "    .dataframe thead th {\n",
              "        text-align: right;\n",
              "    }\n",
              "</style>\n",
              "<table border=\"1\" class=\"dataframe\">\n",
              "  <thead>\n",
              "    <tr style=\"text-align: right;\">\n",
              "      <th></th>\n",
              "      <th>count</th>\n",
              "    </tr>\n",
              "  </thead>\n",
              "  <tbody>\n",
              "    <tr>\n",
              "      <th>(150, 150, 3)</th>\n",
              "      <td>2993</td>\n",
              "    </tr>\n",
              "    <tr>\n",
              "      <th>(76, 150, 3)</th>\n",
              "      <td>1</td>\n",
              "    </tr>\n",
              "    <tr>\n",
              "      <th>(149, 150, 3)</th>\n",
              "      <td>1</td>\n",
              "    </tr>\n",
              "    <tr>\n",
              "      <th>(110, 150, 3)</th>\n",
              "      <td>1</td>\n",
              "    </tr>\n",
              "    <tr>\n",
              "      <th>(72, 150, 3)</th>\n",
              "      <td>1</td>\n",
              "    </tr>\n",
              "  </tbody>\n",
              "</table>\n",
              "</div><br><label><b>dtype:</b> int64</label>"
            ],
            "text/plain": [
              "(150, 150, 3)    2993\n",
              "(76, 150, 3)        1\n",
              "(149, 150, 3)       1\n",
              "(110, 150, 3)       1\n",
              "(72, 150, 3)        1\n",
              "Name: count, dtype: int64"
            ]
          },
          "execution_count": 9,
          "metadata": {},
          "output_type": "execute_result"
        }
      ],
      "source": [
        "# Check sizes for Testing Dataset\n",
        "sizes = []\n",
        "for folder in os.listdir(TEST_FOLDER_PATH):\n",
        "    images = glob.glob(pathname=str(TEST_FOLDER_PATH + '/' + folder + '/*.jpg'))\n",
        "    for img in images:\n",
        "        image = plt.imread(img)\n",
        "        sizes.append(image.shape)\n",
        "\n",
        "pd.Series(sizes).value_counts().head()"
      ]
    },
    {
      "cell_type": "code",
      "execution_count": 10,
      "metadata": {
        "colab": {
          "base_uri": "https://localhost:8080/",
          "height": 241
        },
        "id": "f68ZvK_09YKH",
        "outputId": "fef25343-d62f-43af-e058-799585c3eaca"
      },
      "outputs": [
        {
          "data": {
            "text/html": [
              "<div>\n",
              "<style scoped>\n",
              "    .dataframe tbody tr th:only-of-type {\n",
              "        vertical-align: middle;\n",
              "    }\n",
              "\n",
              "    .dataframe tbody tr th {\n",
              "        vertical-align: top;\n",
              "    }\n",
              "\n",
              "    .dataframe thead th {\n",
              "        text-align: right;\n",
              "    }\n",
              "</style>\n",
              "<table border=\"1\" class=\"dataframe\">\n",
              "  <thead>\n",
              "    <tr style=\"text-align: right;\">\n",
              "      <th></th>\n",
              "      <th>count</th>\n",
              "    </tr>\n",
              "  </thead>\n",
              "  <tbody>\n",
              "    <tr>\n",
              "      <th>(150, 150, 3)</th>\n",
              "      <td>7288</td>\n",
              "    </tr>\n",
              "    <tr>\n",
              "      <th>(124, 150, 3)</th>\n",
              "      <td>1</td>\n",
              "    </tr>\n",
              "    <tr>\n",
              "      <th>(129, 150, 3)</th>\n",
              "      <td>1</td>\n",
              "    </tr>\n",
              "    <tr>\n",
              "      <th>(112, 150, 3)</th>\n",
              "      <td>1</td>\n",
              "    </tr>\n",
              "    <tr>\n",
              "      <th>(143, 150, 3)</th>\n",
              "      <td>1</td>\n",
              "    </tr>\n",
              "  </tbody>\n",
              "</table>\n",
              "</div><br><label><b>dtype:</b> int64</label>"
            ],
            "text/plain": [
              "(150, 150, 3)    7288\n",
              "(124, 150, 3)       1\n",
              "(129, 150, 3)       1\n",
              "(112, 150, 3)       1\n",
              "(143, 150, 3)       1\n",
              "Name: count, dtype: int64"
            ]
          },
          "execution_count": 10,
          "metadata": {},
          "output_type": "execute_result"
        }
      ],
      "source": [
        "# Check sizes for Prediction Dataset (Has no labels)\n",
        "sizes = []\n",
        "images = glob.glob(pathname=str(PRED_FOLDER_PATH + '/*.jpg'))\n",
        "for img in images:\n",
        "    image = plt.imread(img)\n",
        "    sizes.append(image.shape)\n",
        "\n",
        "pd.Series(sizes).value_counts().head()"
      ]
    },
    {
      "cell_type": "code",
      "execution_count": 11,
      "metadata": {
        "colab": {
          "base_uri": "https://localhost:8080/",
          "height": 190
        },
        "id": "osA7pLjpZlCN",
        "outputId": "9dcc5672-50a3-4deb-b6da-a579ccf5a8ad"
      },
      "outputs": [
        {
          "data": {
            "text/html": [
              "<style>\n",
              "      .ndarray_repr .ndarray_raw_data {\n",
              "        display: none;\n",
              "      }\n",
              "      .ndarray_repr.show_array .ndarray_raw_data {\n",
              "        display: block;\n",
              "      }\n",
              "      .ndarray_repr.show_array .ndarray_image_preview {\n",
              "        display: none;\n",
              "      }\n",
              "      </style>\n",
              "      <div id=\"id-0d052164-e597-453c-8c07-dc26671fbcea\" class=\"ndarray_repr\"><pre>ndarray (150, 150, 3) <button style=\"padding: 0 2px;\">show data</button></pre><img src=\"data:image/png;base64,iVBORw0KGgoAAAANSUhEUgAAAJYAAACWCAIAAACzY+a1AAC+2klEQVR4nHT9Z7SlV1odjD7PSm/e+eRUOQepVKUcWupWS91NZ9o00TYYMMFgsMGYHA2fbWx/jA9s7ocBg7ENhiY0HdVBWWplqaokVa46Oe705nel+2OXBL5j3P3jnP3n7LHPO9eT5pxrLfyVJ3MAADAAAGjefU/BAlhBrSyzyxfefO6pJ958/VXYWm/t3/X+Rx76xKc+WRgVZ7o0rFCu4zezXCpjrMnRWkaAI0dDtLY3P8haay0DigyNMVIWgePqqkSOwGhiSyDoADdSUaBKa845Eu07pEp7Z198/uL5N3zGbjlx8pZjx4MwTKXMDEgqFHKtGGHEMmOw0mCttdQQsEiIsGgAwBJrjLYWmKWMCS0VIcAIATCotTGGE2SCK6WkNRrBIlhrwVhGCGNMW2IBEAAAiLUAYK0FAGUVIiKxAIDGWmsJWkC+sz0kSnUcOLpnZnYq7PbzYW6s4/aT/rAsq4owwQkhSTyo0gyROEHDDyJKaVEUSinGGCFEa0040VpTtIJxtGCkIkYjo9oqZJQQBAAKiIj4K0/mN/H7exCiBW0kGMMIOIJ4nPqC1yK/HuHGxuALX/jcX372M+m519t33vOhD39ybnaftsTzAtd1PU9QhlVV5UVlDSNMACGV1GAs55wgKq0tGsqIzEvKkBAidSXRCiFcyo3WhJDRfyJlCbbyBPUZaYRBKwzPvfHG888/v7q60ui09x8+PD2/2/Nr8TBzXZcHnHIAq7WyxhBjASkvZaWtooJzQrXWViIiIgVrNQPklDFCwFgppdSSc65Qa2uREkYoIQStNRoQ0SAQC+++RhCaEapgrLVorbWaAAKhTHgeQlDGHkij8jhJJfGs8IjHJDLKHGNAW0UAKQHX8fvDtNsb5HkeBEGr1RJCSCmllNzllFICxiiNFgRlCEYphRQQkRAkhBBEYwz+8hMJ3Fxl7wAJZvRFGSdordXSmopaa7VSxgo/REKmplq1EK5fWfzMn/3py994Qef5bSdP7t+/d2pqQhNw683J+V0sqPfjKssVYQ6xoI2y1iKlmoDWWgiBiKgMRUsAla60VACGCCalFIwxTijh1tqqkpwytAYRfd+NakFV5UvXrr79+qsrN64vzO9dWFhod+plWVhjmo1WWG8poLlW0hppjQFLACkyapgBLUlFGYICW1kOzHE8wmipK6ly5nBCQOnKSEMIYVQwSrUuCRgAYq0FSzSgBbAWLBm9sWAtGgMABBGItcQKVc057MDMhEthoztY7RfbWbkTD7nnN1rjWtlSFUIwYwARCeUAwBiz1g4Gg36/TylGUUQ4I4QQMFYbwXjo+a7DETFPY2M0IjLGEK219l0Izd8tMzAAgJQgojVKS0nRMsYoAaVtIcELfFnloPPI44FgoUNUlr78jefPnn19aWnJCf2g3kDhRu2xyam5vXsOtJudMAwrVcZ5UWmlDSiAylrBXWMMMdZBCtpYq5kjCGeABrRWShkLhHKLHAAoWq2lBksIENACTcNjjTDI8/LyhYtXr122WndqjSAIgTmWUAU4MT3RGW8bsHlWam2tBKkrHjJlDSpCgSBwANAIBg1laIy01lK0jHBEarTVRnFq31ncxBp8F0KDYKwdRSWxQAiOIARqhC72+OL4/KTMq+WNne2SFNThgZcUpdGwvd3NyiysRZRySngpK8YIYwLREsIIuRno3UEfADhFVzgUCRrLGfEc7jmulJXWmhCCxGqt8VeeSP4OtlH8jdIFEgBAtIhI0BpjjFLGGMIdx3HyLBGModWyKlxXUEoIIWEYOpxvrq+dffWVN8+/kQ5jn4Nvtaoy5jq79u+99Y47du8/ACB2BkkvL1IFWaUEd0Ph6lIpq/wgSNPUEYIxAgDW4ujLaGvASkqQE8oYMwhKFdKUxph6vV4UBWOkEUaQlquLS5ubm1qq8fFOmvTTwcBYVW+3ZuZmx9uTnhcsbWwYi4YioVxao6xBCpxzWRVoLCOUc86QaW2NsQYtEDuqLKNANBZHj3iUSEdJlQIisQQQ0Q6yYScQRxrB8dlWkamN3mAtxYHUllNpjeN4ZSWlUYgkGxZVpTQBxxMEaFFkxoDjOMJxEJFQ0Fpbbay1qpJGKkbRd4Vg3BpNKTqO4zgOpfT/L4SEcaWUHKGNSMBQSimlVVU4jpOnhee6hIAxRhlVykq4rrVWa83ANgK/5jp5PBxurXRXrq4tXdsZDAqll9bXl1fWpienbz1z+/3ve9/YzAwVdGtrkHSHYInhRBtwPF9KWVWVEC5jQimFiNZqygDRorHGGGstcAqMArFlWXKXE0JsUQllXSYYYwSsrLLt9ZV8MPR8hzqsPxxsb/aSON2zb/++/Qc7U2NJlg3SgSUIYMuy9DzfWmuBWYtGA1jLCSOMVVaNHg55B7CbPxFHbwANBQQAtEDAhKFPimFb5if3zHJGklxe2077uSytJoIrINICcGo0oiIIVFFTKSnLylpLCCGEKG211ha07/ue4yIiGAsAoKSupO851hpjjAUNxloE/OUnMgCDfw9CAGMRLBAAYhEJYdZaraW11qIh1HLOq7RglKIlQjAASxgO4qEXeoQwWZRGWc9xGWNgKiEgcJ2qkGtrG/3eQJdl0tve2Vx54RtPbSzfaLRqn/jYxz7wgQ80O53tPN1J80FWMSfUyCjlplRVUfquSwghjEktlZGIyBkjhBgN2irKbKWltVZQzjVYZTUj3GEWDDHaZ0wINszTnZ0drDD03J3tzY3N1ZXFG9aoI4cPnj59ut1uZ2Wx3usBdxWhSiMCFZSDtFVVoKAWARHRGgJgrf77FccgIOIIQmstNXoi8CNQNZUd3TPHqClKvTGsgLv9NEbPv7G13SukdVxZGRd9Rihwq0YJnFJrrZRSKWOtRUqMMbKspJSC0SiKQtcjhMgyF4KPmj5rFCCOIByBZ96FEACUtkgJIlXGWItIAZECGAuSc6alFpSpsmKMSSk5Z0Cs1MpaSyknhFgD1qJBo62mlFKkjKDLhMuoLpIi7aEqBDHdzbWvffXLjz/2GIA5ft89t9x+5lPf+mnhuPFQ9vtJFudgjCPcrJKGcE0AKEGGaKxWilhGGalUygVDQo3S1BKCTBFQVhEKaAyxQMAYgoQwgZQBapMPB71AOK1mfXt949lnn7569SpheOe99x06dnx+z3xR2a2NbVlIQQSlWIAe5cx3Jghj38mlAGaU8SgSYsFay7SZiYKFTs2ReavmgKqYcJNUaaBpnpAweu3qjc2iZFFTKuuAB0obVEAsjjoTaxGREIaISElVVVYbIQQBWxRFnqayrFxX1Gq1WhgAgDGGEMBffDIDADQab0JoEBEADFhjkVJaacWoQGLLQvq+XyltjCJoOUEKqLU2xiBSO/onCUFiERGMsdYasJoSS4BYg6CotQgGERGRISGEFHler0euYAzt6tXLf/B7v33hic9BkUW7DnzHp7/rmz780Xp7bKM/3E7yQlHihrnWlDMDRmvtOV5VFgDKIhDKEcBWyvO8OEtd3zFGgTW+cNI0Fb6nranS3HEcDZoJPpoFEBGMGh/vmCpfXb7x9ONfPf/qa/UwuvOOO+6///7xiclePBxUea611pYgI4Qai8aAtoiIjBBEa42iWnNCHcF9xpipIkHGIr8WCNBVkWZaIifUGE2j6M317c2izJiwyFRWBY5rlBzVUUIIAh09+dGXG60bACCAiEgAAIAxkiRJGifGatd1XdfFX3wys9YSayxotIaMGojRNKG1cDyllCXoOI4sSq01UkdrDWAYuQk2IYQRbsxNcgAtAFhAQywYBIUEiEUwaNUoyg1Bi4RYJoRbVZXrunme2qqYazSgSvbs7nCQq1euf/5vv/C5L3y+n6S33n7nHfe/597736uR9YdpfzhggnmOi9ogYmWMpUxaQETOeZ6kXuhVVWW1bNTq8WBgAPx6VJYlQ2KtMRSV1qpSUb0xHA4dx6HEMtAmT+qemJ+cEATPnj375DNPX7p2PS3y2++++8jxY7t27akq1esOgBDPDShnSpk8TwHA9xxGqCpL1EZw6hJgYAJBo8AlqGVeEI2CsFroWu5c3NzZzCvtuIoQKw1DcITQWhulrbUIdPRIb9IL8E70AyIiRQQAKUvB+IgBAKOVNfgLT6QjCAENWjOa7hGRUpoXxWh6q6oKEQkiIoIlQBAoAWINwCgKCViHEgQDRgMAIkWkSBgiGiwR3x2m0IBVo29kwWW8ynJCCPPdqqoEEFc4aTwkBJBoN3AmJtuRT5aXNt5+6+wTX/3KxsrKgd1777n77oO79rqMJ1vblQF3bMa4QQU2LnONUFVVo15L0zT0gjTOarVGXlQ3uSFGlMwpI5WUnusaC1prThllRBZ5LXCrIjVaIgVknDnCr0VR5F4+d+3cq6+/8dqrVpvjJ47ecuJkrRZmRV4pWW82/TAqZFVJzRhjjFNjUUmoKobguIKANVo6RASOsCpnwokrGJRKISm0ZIxYa6UFba3VBhEZMgNgjDHGAMH/HwjZO89NMEYpBQCjlDIaf/7xBMCQ/6MW3mxKlTWc0HcjGsESQsCAtkYbowlYREopoUjBaqVuZmMLQCgCBUIRLYIkiHCzfqBFGJFYoGTkuKaSeVk6UYCUZkluDbpugJwZrAqZo5WOYA4C1cXkeN2jmPSHl8+/tXj5+mC7G7jO/oOHGlPzKztdKvj4zJTwPdd34p0eAUzzwvVryiJ3PKt06AdGV37g5mWRZhkiSqM9z4vj2GGcULBWc86t1RosodwgKKOJtsxAKNxWo+Y5ZHl547VXX7569WpRZLv37pmenanVallREEbHxyejKDJKC0JlWRilEJExgohoCTHKEYAGlaFJpjSBQlZ+6FVGV8YagJu5zxJrrR4VRUreDcRRmmUEKBKKaIwBYyklo1jEn398CAAjCP8eQQOl0n4QKCmrqnIcTgiRZaEq6XBhLRiwCJQwSghoMMYYxtgI7Hc/TYMmYAVQBGoJfWfcvNnLUbBgNKdMW6UJgCUMMAzDfpJZNECRMUa0NVpTQM4gTrY933Ep50gouGEtymV14e1zb3zjWSuLwPXa7WajGS3MzjgAge/X2uMDKW1Qu7a4WCXZxsoSqpJypzU1P7trb1bl2iqttec7SilrLaNCw4g+ohyIqiooFRfUEmsRyIi/soQxEYZhGLLNzf6Na1eWrl1RsmzVwlYtEpRoazSyyanpyZlpx3GUUpXUShllJGe2qipiBbGMclFUpSHYjQe1Ws1aa/RoCtQ3+wlKtTXW2lFSvAkhEgJIEcCMuh7CKCUE8Oe+PkC05O/1ogCgwRqLjLGqqgghAFCVuRAi8hyZZwiggVlEQAqUaKsqLSkQRCSWEwqIFokBlMQCtYwCNQT/LjOAQQuc0zzPGaecUwAYDXwAIDxXaqWNQcTRqhy1R5Zo1xNxf0AIcUSQlpXhhIGcaYRCV1srK0vXrsbDnXhns+34YPSTz3/jwK2n1mX15sVLD9x+x+6pSVT5iy++PLHr4NFTt0/Nz0qr8rIUrmMAldFaW8YYowIBQGqqrUMZYySRGRJirR2RaIwxBGqsYgQpgXoY1gIx3N6+dulib3sLKaGObymtqirLMiHE9PT03Ny+RivMZVrJQmXGamItKm2I7yuj8ywhhBBkAIDvNKWIaEYVEfS7EFLAEYSj1ApojDEABn/+a13Ed0lcAwAGyWiMKGSFiEHglWVptazX69RUIVVoIdNkUOhs1PahIWBd5EQjNQwtQWKRGsslogWD7GYZRSQW7WgEBgVWCGHRGqWZNQwJcNTW5kUqhBDctQhKKa0lpZxTpiuttaYMkVKpK6SEcFaWJSfcKimk6TQDTuRzX31s8Y2z2aD/hT//i3/z+3+wXhWV1fPNzly78fyTX1laWvr2f/z9l5ZW9hw6zHy/MNhLk0Jp4TpCCFlWDCwFBCCCcWttmmeO4xijKCGMMbBEKWWsIoRQSqy1hABjjBJCwQrGXSGSOBsOBoNBj6ANXdcqvbnWXdlcLm06tzC7b2H/3OxuAOwn+aCsKiU5EdZa8n8Mm6O5kAKAJWZU//5u+jQa0XJCCQVCiLUaf+4rvZvVjlgApcECEGMRKZeqdNES0GU6aEU+kfqlZx7PNxfHxzqTC3saEzNBsyn8gHIGAEmcG4W6MkoaabSh1nCtKRomLN5MAgQALdCRWAPWC/y8rDiSkIpKlhVqwpBRNFIZA0gpENRWISIjnGjUWhPOSpkRipSTspBUiKo0gRvYKoeqdAR4xKSra+1arT8YPv3yC5/4jm93fad743qytf5X/+u/f+d3fuegMH/6V38TdMbGZ2Zm53a/79H3lAryXNZ8HveGHmeO720Phlv9LlAmhGv0TeYFESkBuNnBaUJuzm/aGmuREEIA0QIDRKMpQ1dwakweZ3laSK14gHEWX710tbszTNOsMz6598ixvQf2hy7LMhnHcVEU2lhKKSFkxBi8O1Tc7PwtAAAl+I4aiCMU8Re+khpjhOPkRUKEArAIwgAayk2ZT7gYYT7V4G1Bvvbnf/X43/y1TXY4MdRhAIAaavWmRlqfmHJa47P7DnbGp8fn5oNmvQBbUtjIi40KU2UD16OAsjSCEmINZURbRSinlOkKXMKUrnggsjImBhghFBlYUoGxCAhmVIosGosGwP596Qf0SIh4t38DBxERBafcIV/64uc2Vm/8yr/+yWe/9tiLzzzxr3/qZz/9nT/40W/99lMP3ruxvfHFz/zl4oVLw+7OiYP7n/jil4bd7vsfevD8tau/8l9+a/7w/ouXrzIeFBV33dBqY4xijAAaqzSlN8PmXVZMSgmAnuuoskAwFsEYQwAZoYTxUelSqipLaa31HLdS8uLFi+fOnVu8emms077z3nvvvOsuvybSHJI8z9JCypu1aRSXnHNljVXac1yrFaU0T7NarQYA+HOPZYyROEspAzdAU+SkkIyKStCWJ4bnX/39f/fLHgxO7F2Y8evD1eWyu6lVtj3Y0VqrvCSAYdQmfpAQWjFHEqoIQS78RiNoNQ7ddubORz4Sjk3vbPeHRVUBU8iAYKUVEIuEhX6tyHLfcStZlKYMa0GZZwyQWW4QNKEWgVhAow0ai2bEezMDCKARAIABEguIxACYm0gjEqvKshZ5DFUZD/7zf/r3r3/9q/e+98GnH3/6P/z2Hx645dRib014QuTFTLOZ7Wz95q/8yvf+w+/8jV/9lVq7efyO2//XFz9XgXnqK09qjZu9NCtUUZaEEMqZNFopRRlDvElrUEI454IyY8xoYh51/Frrm6yyVlmWBW6gtR4NrwDwTg+F7XpIKXnm+eeefObpfpJIo3ft2vPoo4/umluQpcyTPM5SBIKUVFr5vl9mGWeMWGCEklHv8xNfHviBq6pcg9a26nDSTrPAYX1uGtR+8d/9e76zsrFyAVTJCJ8a6yTbG8N0mKEljkspNVp7zK2qCgSzlMZlmeclI9RIJTgSQqylrcn52x969Ni9D/K5XauVlH5tUCprCCFES0XAMocoXXmeB2CVkVYbaigiWs4tAlHGasUIGjSKjFIxAQCNaIH8vRA01tqbAxEaDZohEAp1P6yHIbUm6ffm5jrXr/X7WUJCrzJlyLkc9NcuXto7O/34E19rT0888omPIKPpIFm5dPVnvv/HxxuNO99z975jB48cPeFE0SDPS0uY41nKHC8oy3LUKOqyMFqiBSm144cGCCEAaI1USlWUIedcGgmjr23BGrQWCGEjD0OaJmHkB5EvBAt9sbay8cTXH3/+mWdnp2cffviRdnusMrbV7sRpzl2mdeU6XBeq5gdJb6C1xp9+PI7jQa3uc6LHPL76+kt/+uu/Rsrh+JG9H3vkofUnnqa97sbK5TRPSoBut7t3dlaCnj9xLDNmMIjzNONS1QJ/q7uVZClzvTxNA+YFjmBoiyTWSZ5rk6BTRc2q1rzzg9908MydU3sO9vtFUG9RR3STYcUtEFrkFeecuswYQzQSQg1BAIJaoQWKYBA0GgBCLYBFjcTi31FQFO2IFQIw1mpCCOFMSsmQDAeDVr3BCE2SzHEciwCMlqpEqyNHxOtr/+OP/gip+aEf+2evXbm0vLzMC9Wk/m/9+E/feu89H/v0R2+sLu0M+8AYd4NGZ2x6fqHdGePcKaqqWa+3GnXUxhotKFPG5hI0ACHIGBsN39pIi1hVFXcEpVwppQxQyqy1SttKSSGEtZoSpBTzLKFgx8fGakGgpPylX/ilIAiytHj00UddIZIsU0bedvpUkRVZnLSbLdd18ReeSsoyl1BNOrb7whNP/68/8JOdGoekiEErnzGqTM1xBskwUaXjefUgHGbp9NEDmlIESpQpekMEE7VqYRRlWZbE8Vij8+orr09Oz2xvbgSCtsc6wdj4ysamlnpxcbFIqpmFvafuenDXyVOq0bTtDu2MpdaCFRaJQqNHOt0IKWvREkaIBg0w0k/gnRmTGDRALOCoHNqRngAABrS1diS5OY5DCbfG5FkphEDKlFJEGUpRhG6axY7F7fW1b7zwTFEVbhi2Gs2JWnNyYuLoiZMGYJAWBiynDK3Os+HOxsYbr7z80gsv9na22s3Gwf0HpqenXSEa9db09LQf1VrjLWmhqFSW5ZXUFghQZgE4F3lVSikBLKXUgh4NUa4TEGR5mhZF4Xme4/CqqpSSYeT3e1unjh38uZ/+6e7Kaj4YTnc6xgAw4fjBnv37ZmZnO1MTjufiv3ps3aV2PBIXnvjC+b/+k+Lq+Y6gQlemypGC5o5FYjO5Z99eCEQFxkqjEf1OUxPIh0l3e2e43Y3j+ODhI+128/r160tLS4cPH73jrnuocBfm5ov+Tq3ux1Vx9PChP/39P9pcWvIJf+mlV/3WeL+y/vzu6VtOjd1y2/477rFea2sQu76ntQYAOpJQrR2ZDKRSAMSOuDogI6gAgPARzIYikpu0EljQhBDGeZ7nN0U4ZRzHMQYsIhrkxpRlCS41CA3Pq8q8UauVVa60doRQSW4QcmuGReH5NaUMZ8RlaKqKat2M/LFGg4JdX1s598bZF198cWVlpd1uz8/P+2EwGPQcTyws7D589PjE5HSpTJLmStud/oALMepKjFUwkgEt6hLQklGNtGiUUpZY13XiZOA7jAPMjLVtlb/+/AtJt8uYuHZ9KSnKj3zso3sPHrhw+dLV69fwX35leW/Dv/rlP3/6T/+QJtstl3oGXEp0mSuje2ncqDeJJWEU7Tq6fztNDHClDEUAq1ArANjpdYtcbWxsnjlzx7333r096CJnYaNx9dL1E0cOQ5Zcuvgm84SU5f5d+69duer7YdwfrK8sPvHEEzPT8xulmb7jge/62V+9KEF5TYFMVZUxmhPLiQWtDEWkVFuwAGjRIhgggIYaQLAMiQU9mmxHji4A0KBH8Sf1iOhiShmlVBAEZVnqogqDAAmprJZaM7BaSorgBW4hS7SWKmuUsYw4npsVGWEMtNVaC+YIxo1SqpKuYIxRh4sg9KKA5IV+++233jp/tr+5SZG4rjDG7PS6RVHMzi8cOHTowNHDUa2BnA6Gxc5gWClpkVJgTKHDHA06K1IN2gs8RFuUWS2MqjzjVFit0UIQRJ7jI1pqlSu4qmQcx0IIxhg73BAXnv3ys3/6B2Gy5TOkshJeKMsiz/Jmq6GtrcpSV9AemwLmxMmmF9URseb7g37PADl09MjxIDh6+Mgrz7/w0vPPP/aFz33q09/y2S994ZOf+ubf/53/fOrQga898fX9uxe8wHn66Zc/+qGPfO5zn/uxH//Jz/7NZ44ePXj61mMvP/9S7/U33f72zmsvTOw+6LVa/QpiQiojAS0ZzRB6RIxQtCMaH4CMVBELFkbitbEWEQ1BvEleEO64aZo6jsM5Hw6HYRhaa9M4cbkIoiBNU0I5dQUYQ7lwOK+qIkky4QlElKp0fTfPSqM0I5Qi0aiRUkJIpbS14EZRVVZS21KXwyLf2AFrZWty4gN790TCNWW5vb29vLI4GAys1XlZXLl04W8//9mN7R2pzN59B06dOXPg4OHWWCd0WdaXsqySrGDU+K7QUBltotBTZQEAhFFpgSBPSt1NB57D0eSBK1RR+o4ri0pLhf+f3/mT//TrvzzjkxbDfDCglLbHWnmRxVvbFG2z3kgKSak3sWuhPjWxM+ypMnYYX7q+euKOO5565Y1d+/YHjrjt6KHF86/tm5/+xd/4rbdvnHv4jnv+7f/171975aU0TZU1Rw8dfvqpr//Ev/rJf/ET/+o3fuPf/tD3//AnP/HxK1cu3XvvvV9/6ukHH37kj//4f589+9bRIyeyWuvAt37H+MlT2qIBWxVSCBeQaG0JE1mWecJhDsuKFCkRnFVFKdjIjWfVTVLxJg1EkVlrQRuAkYBGRtMxw3eoYELt3/O/jJLwzZHOWktG8g7iyPRgrAVNLEViR04UNHb0e5S3AQDREkDUapS6GWOcc0Bb5kWWZb1ejxMKaLIkXV1dXbx+dW11I83i8U778NEjt91+Ztfu3cJzsrwaDpM0z7SyGgAs8YSntVbKuK5HAChXuiw8Jpq1es3ncT/Fh/cfoagFJ8WwH1KhlNLMCsbanhs4YnlpCZBKQ9szsxO7dw3LfGXpmkX6T3/0x59+6fXm7ML07NzKtSt1l21cedsh+uH3vfeXfv4X/uq5b3z89jt+9J/9s5dffPH0qVMvv/jCex96z5/8yR8fOHJoY33rvrvv297YbLfbF69ecZuN1197Y9+uvfecOvNffvP/fvbq4qO/9G9u/9SnN3b6mgjmBnFeCu6XZcmYEIJZLbWWnPNKS22sH3hVUd6kBsm7wrclhCDAu5aWm/gRQgGtKpFYC8SABYM3TRVoR6wjWngXQkCKiCODmrUWLbzjcRoF+k3t+p1x5l1uUyPiaN3c5KyN1aqqhZGxCrVWqlJlZbTklHGHVap8+9LF559//sWXX1pfWh2bmvrIRz72wQ9+cPfCjBBQlrC62s3SnAkujaaUal3VQr/KckaoIMgIxXtnxud37RqbnDp/7tx0rXbt8pVC43iz6eqSo4nqfl6VLnW2BvH+W287eOp0xdzDp+9YTDJDucu4NVqXmTHGGgx812TphfNvtOrh2+fOnT5+m82z7tL1hYmONerZ55/+1z//Uz/zMz/zI//0B59/6jnf8d3AfePS+Qfe+9DFi5eR8rA25kzMOgdP2NZEbllJnIy5iohKG0rpiPUAqyhaZtEgUQDaGCb4qP1hhAKAHZktCDFacUIpRUusBa201mAJGAJICDKkBgENGoRR0BipbnLF7zDGCMSSdzxO7/Bb5B31fGR/vdlwvWOoMUAsZUAIGAvaWKMJIZxQSkCW1WhtEQrGWmM1IYRSKpUeuWaE50xP1HUFX/vyY5/9i7984amn7PbO/lO3fvf3f+/9Dz3oN2pxlReVUqWRZeX7PqKtiqzVaOI/fOjuo8ePXbx89fLbF7CQRtmg2eptbu6dGFtaug4Bp8I5ceyWW8/cOXfg4FAZrz6+nmaV7wrfe/OVV9eWFncv7JqcnA6bba21Lct66Mg0CRxRJsVgczME3dvefPPsuV/8pZ9/6JH3vPLaKx9738Pf993f842nn91/YN+eg7tffOXFkydP/vH/+J8PPvLhP/nMZ888+MiDH/z4paXVWGFz11632ao3WoPBAKxGCoQTBFpVSgMpkVYG5U1fIOA7dBRaYq11KAEAC8ZaCWgQLaUECJZlSQilSBiSkQtGw00XzDskHZD/E8J3xSYKiCOn2juujXemUnPT4g3EEIaUEMCR9kIQ6EhnIGCMGY1JyhqllLYGEQkyoMR3BWNEFbkp87rnTdYbLiGtGun1y9/6nd/+vT/6w3JlCVr1ow+8547b7r7jzJ3T09OMgKrKwHfxZ//ZP+1vbWTb6xfPnnd5LcurxmSbAty4dKkxNnb0gft/4F/+VKXERq83zOM0jesi6Pe7X33qsdfPvV6r1VpRc2t586GH3nd9+fpWr7t7357p8bGZ1lgjDBzfyYqcMF84fhg0VldXG/Vo6dqltLvmUBxrNS++ed4XLBB05fLlRx955DN/+Zc/8a9++hd/8Vfvf+Ch51585YH3vf9/fOYzSVEIIfbu37/vwMGZ3Qt+p4NehEFjqEwCrDY2URljGZEWcqkqbQwQZYyU0mOCAHJERpGBRVCgdWU1c11jkdp3gw0M6BGtbEeTJdqbBiccuS9HmJF3FYOR2dBaiwiABhEJjP7CABBlyEhVGL1GZRIARt4UY8zoY6y1BBApKVXFOUerdZkxYyOXB5xztGWRIWKn00JOJQEvcAelXFpaefml1y6/dSmPk+76+vzk5C0njuPP//APv33+tfWlS5OtzvbGkHHXOvzG0uJ4Z+J7fvCHFm659dLymkJHWrBEpb3u3/7Z/67S+M57bg1rISUijTNTwt49+3eG3esri1lVpoOhijNGMWj441OTQW3MixqN5rgrHEaBo5meaFlTJYM+1XZzeaXpeTJN497O6TOn/s0v/9IPfPf3P/61Jxb27qGUTo538jx/6aUXesPBG2fPU9cljuc029HkTG1iujO7MD47H7U6xPN4EFDH5X4owpC5HhKWZXmlla60UmrUa1BKLSMFgAFLtAVr2UhhIAQpSKMQ3908MbJBv1PPwI6kaoSbEFJAaw3Au9XxplvJWmsAR2rRza7nHXuRqiQAoZQSSgFQa62lMmCREW2ksNYT3OOco2HGEDCMUe46jPO1zY1SKeLwYZIEQeQ4nstF3QsiD1Vmz77+Gn7X/Q9euXFp97GDYeiff/GVeJiFY9O7Dh37tn/0jy1ly8uLV69fdR2epumTTz2zsrzIjPrEJz5x6u67kPIqL+JB4roBEc4wLxeXVxhjeRyjkfFgB0AnSWKNKYqCEPA8Jwy8IAqCKKw1GrWgTlG06uP1sDkyblFUi5cv171oeXnZq7n5oFen9MK5Nz7yiY9+7nOfy4bx9UtXqkHGXUcxJJxxa4eDFJyAeUG902pPTdU6E0GrHbZaXr3Jw4ZTbwStcadR09zJjUmlyo1KpSRstOsFmDTEaAJIRimS4EjfNoDUAtME0RoKBv7OO3qz4b1pSIQRnJQQtCP8tAUijXzHTkjIO0YkADAajDGWjALdAkFGqFKGgKFIbnazMHKUU0TM8xwpc3yvKmWlJGNMa00pqapKcAoADAljDO+b27PnyP5outMbdFevXt+7//D4wr73f+ijq5tbFy9efPzxr33zJz76z3/kB6cnxnvd7p49ew7v23/s1lu8+rghLEtSIQQQ5E7gBY2RokbApnFfqjzP87LIVV72utsWZJVngFYj7Az6jLucuoJ79bCtgTLPaTSjZuSOj3VaQb3RaGRlsrOx2hLO2tJiGIaXL18+cfz4m6+8fun1czKNhYOgCznoF1mZK1JqQwR3fU9aSIrKcu5GTb/V4bVm1JnwO2Nuo+m3O26r6UTR9Py8cBzuCGttmVdFUUgpLRDLCFBiR14hi8QC1wSJlVRbNNagAY2WEAoEkAJSHDkKyE1E3wk+bY22ygAQetMLg0AppfomrtYSpDDaSDOiw4FzjhZUJak1Ix2jqqrROhsZQaxBKSXc3E5lXE/E8dALXACCFFhn/35abxal3hlk+2694/6HHg6a9RurN1569tmzZ88ub3XDsTGFZCuJP/jo+w/s2b3V6zfGJh1vTBu0yAFUqWUy6Pe2hpRAXvVq9SDwwmajPrdrPklSBkJLg1ol6TCO4+6w50WxlLJIUo4kz4bKSDnQ3U0jCCLakYAyPzNbq9WqTnP25AnU4u6Dty6vL8/f+0Dn6Jlrb5/fvHK2HQojM6vBGBZneVEkWZ5UcUx03gyaaXdDpnFqr3YtAqFKmVqnw8MwbLfPUeaFQaszzqNw6sC+5sxUp9luTk4NympQyX5ZKWOpQSREu8QYY4EAJQbAAjDC0WiiLUVC0I7sEVprRSilBBlDox1kWSEJR+5wblhZSmROXpWUWG0VIcgJA0NghLLDClVaQTjlBBiUlVLKULCCjHZOMYsI1iJwQZVVaK1FUsjK8YS1erQrDj/10Y9XVVEL/fbE5IMf+LBGvH7jytOPfzXd2T5/7s1uVv3Kr//G7oW5v/6LPzv/youMk7ld+/bsPXTmjve++dbFXXumCCfSaC0NZNbqanwq/PO//DOX+/V6My2LVmfM96IgiJpBBADCcYTnVkoCQNofpkmys7O13d1Oi9wYhdpoq7jjKaVUVnBOU11VClq1ifHJqbDuz8/PtqJ2mQyWL7557c3Xax4VjChltLJgJUcY7uxQZY1SaZruDAb1WnNnp2eU9YRjjKmstkiklJ4fFlpT39ehS8KIOMHY3ML0nv37Tpw8cMsJKjyrYKvf3+73qetJbajjSmukKgVlrnCIMlqWBJBzDgSl1kAop4xYULK0GrjDFCopFdGoNDLhUU6skdqUBgylFA1HBQSRMiahopxYY8okG6s3q6qS7/j8CSC3SAHNaJyy2lgAQgEAQSNai2AA8OMfeUQIt8rVPQ88dOD48a898fhrzz+tyuzNN98cLbOyKBamZ+6+586Pf/ITru//37/z/7zw4iv/83989od+6Id27Zp0PDY9v3v/3gMyqfbt2vX1J7+YZsPRiFZVleMJhdYadB0HgYa1musFyN1mo12P6kK4jusLITTYNE13dnb6w3hpfTtPE5XExEjgII3hTu3D3/ShX/2Ff90IxCMPPHT6jrsLRRevXXrjqa/WPNocb8Vx7FhmiyrZ6oa+1027wMncnvm33r7ouaHvBpub2wywEzU21lYYI+tbm5ZQg8QNwzQpGXfiOCaM1Ztt4rpu1Dh06tSt99x76p67MuAJEZtp2c0GyqrRjMEAXUq11tZaDZYQIhgdgSmlZK47smMTwpQ0ShllrMM5J6CtqgAMwsi1zQCJNQiGoOEUVSUd18+yHIhg3DFgCVo+yr0IGiwaowEsMABgoAGsJmAB8Jseva/VnkiTKi3VzO6FN8+d7a+vbq4tI6VBELiMM4uBy7S1GztdqdX3/dPvffiRD41N7j59+vZmQ3S723fcc98//M5/9Os//0v97a3bTp9oNuszMzNFUQjBh2mCnJZSEkLTrAjDmjJgEf0gKgsthOt4vud5fhjVarV6ve76oRM2CBgXod/dXN/eGsTp2ubOmdOnvv6Fv6FGri+ttcanHv74p8Za7eHKtd/9rd/0XGzV63P1MY84tiqXVpZqE43KVpPTE6vrG5yJ4TCpNVqC0LIfT3c63d5WrVZz/aA3GDLuDIfDs6+eDRx3tLkAGe0lWTgx1suLYVl2du89eNvdt95975m77/QbtV4cJ0WpLZTaWMpyWRkLjFNrra0UBes4XpLnlDscyYgqqgchlpUuS0EQCGoklbWSAiKOPERa6xHfJFwnzyoDhFIHkBijCVqKdtRSWWuJttaCMgSQMtSI1iBYAPzJH/res2+9NTY33xqfWF1dfuqJx7k2xGjf9fI0bdTqqiriOHYc4fturR6ur64Zwp9+6fzJW0/tmhtfXl48dds9/+CT3/yff/M3tlaWQZXG2FJDs133amEY1Wutjh/WhOsMk7jZaDPGKKVJnjmOQxglSI0xWslRVeeOIIzXajUG2GqPiajtBDVElFJyaous3N4anD1/tpd03//I+2YnZqaarV/5yX+uev1QWV9whYZ7QqGu1cNWVE+SpNFqr2ysAyWNRkOVlUPJ8vXFfXv2xHHcS+N9J45fvnHtzltuu3bxsoM0TdO1rY00TamllqDXqm/sbHMkaZwZja325JGTp0+/56G9t9yGrVZXypwxTQhwaoyRSimlEMD3wjzJEZGgDRweoimuLfZWl8Mw8PygHjVE6FceMxSJUspCjGi9QFkWJwUFJIwaglqWDlICCMQaCqNDA6i2aGhpEYEysEhu6m3srdfOpUVGg+7y+trFN16faESB65VZDkpz1+VgXM9zOPdDT8k8TQaNelhvjhMwZZkLRq02UVSnhBgjwRS1wGOMFUpxwRih6yurVy9ft0CSIncDP/KDqBbMzcz6vl/KDAAopUKIYORKBgmVioeZzYf9/nCjOTa3/+hweaUsZafTMca0Wq2phbmDJ4688vKzX/7S5++5+345M/dr//Y333zu2QvPPr+xeCOXuRAsiVOj1GCt5won7ibSaDd082ES+j5jLIyawg1lf1hK7YXBwSMHV9bXtge9VlQHwabn57SqXGSFLK4v34i4Hg/8fpkRTRyZvvX4l5763GdNveGOjR+5/Y75Q4f2Hj4cNJvAmO+4IvS54yZxQYglgAKA9bt/8fu/98Rf/Fk79Adpoi2gJZZQFTA3cFtB5AbhwVOnjp65c+HQcaLt+MTMIM0SI7WgII1FtIgWwAABMBTAoiVIEYgFAwgIYNGwmhNmRVWlOWh5z/HjUJXrW5txnBR5KRxelYXv+6qSFUUWsHrNy5OcBd5OkjhBqC1IqfNMGsINI9FEixoo84K4Ii7zuus2m02XJtZaR+B9D9y/dGPx+rVrO0tLvu9GrUYlJQD4ntcIoiAIHMdBwaJma2tr58bK+nhl77zvfROU9IZps9nMhkmaxts7a+lbva99+bFWo37t7dfy/npR7D146ujSm+e++Y6PvfDcs24UdIu8n6RUEVPq7vYm51wOq3hzOEDCOWeBf31xxQlcwvhgs4fECu4w7oBwOZIkSQBIXKXzu+am9u9eunYDSlUngbVWaiU4mWh6Fm26c3358Y3Lj/3FVzT4jdb8/gP7jp2Y2L1bNJpBZ6IRNkLP/czv/ddzn/9CDdQHbjmy1dscOLbUWlsERgwaXaUsS3ATz7/+2ut/8PvuxPih2+84eed9EweOBp1xDKO+LiwBtDclUkCi0YK1iNqiBWvgHYGbLa8stiYnWRBqKbsby1OtVt0PHcdJi8pao4u0KLMwigZpUg8aeVlJYwjjtWYrK3JLbKPVHJuYAMYn5mZ31o3P3H6/P0ziWrMR+GGaJBYNoaTKy/Z4e2V50XG4ILbdajDBjS6zLMv73a42VhsgiIR5zTYI5+rq6sVLl7c3NsenFu55+JHFxUWURRT6Y+3mxFj7b5O/euG55285cfjw0aOFkjvrm/tP37a1s3PPo48OhkPwxMbGVsMNt1bWqmzeGrPZ3RKM5YNBvzfsbm9bTmkmjDGXzr0thGCuUypJgGmtTSn90Afk2tKd7X5ZKpc6bk14ngdgknQIYDmhRZ5yYNkgyfOyGnQvPvPky197jPi+3+m0puaOHj853u5svPHCsU4j3ly5+PpLsSruvPf+QZIneWasJQIE0pDwiDlmGK9ubTAXJ1D+t3/3ayas777lzMkH37v/zJkSGQLVAAhgDbyzL8WC1Yhg7UgeM8ypObVaiCwAZmhrrD7ZKoktk9gLfEBrS8GJrUrV8jgTvjGGgrGGZFnm+n5V5ZRa6ohSKUV50J4IhTc5t/vilQtxMgginwdOP0mHg35h9f/8y884lMqi8Chlgiqroigs0rSSVeR7upIUiaUs6Q6sEJ5ASvX55557i7/2kQ9/cmtt9fKbLxpjjt/6QLc3PHv2rfn5+dN33Pvggw8ai73egHbGd9KKukFSlFhVtfE2U7Iz3ZiaPHjjxo0Tdx9bXbzBiopYIim/sbJSFNX6xpZGWpbloBszxiDTo022RZynecZK0GClVEErNKZK457rOs1abZDEew4f2truAnIyjL1SgzHNvFCq2thcz1duDDbXnnntG8JxFmamd5KUuWTh0L5ulmQaxmbm+MbW1RtXD546unj96vLS8rH9B/eeumV36EzNzTbarc5E5/z5ty6//OwzSzfef/89hR92K7k1SCjj1gCgYIyAUWiNBeCMp0WutWInzty2s9HTlaaURq3GlcWlJB32k9gwboymUIGWnDuCcJ8K13M3t7fQErBkZKQUnpvnudR2mGbDXrcTtjc2u2FY2+luKWv6cb8zOXHy9OncVHGW7qyuEkKqJHEDP01TA7bWbIyPj+uyAGNdx7ly9QaKYGZ6MpFxlqR+M9zsJmHgddfXbZ62mm3QcOstt/3bf/d/nThxkBJnZWVtZ2dnfHwcHT57+CCiZbVAF5kLSsep0no1TirP7yngnQksVeAIjeTeo8cG3UGW5llWIOLO1rbniksX3s7zvF9mRhqfsUG3x6hAjsvLy57nULSyVEpZ1wmWl9YdP4jzfH73rjIriQGZZ/Ggv2t+RhYpFOVgZ3un3yuG3SpNK6unWvv27j9YSLK1tRMJZ256Jsuy60uLpw6e/Lbv/SeDMtu9b89XvvTl7e1uPfCP79+7f3o+NuS//8d/v0Ppg9/6rf7YhNJADBkRbBa0qiruOojoCYEg2OzuAxcufSXkvrL2xvWrnak2s6rl+6MzARiHLI+tAZmWOxvbDLDeaPjCIRZkWUZRp98fOI5DCAHCg7CxvLZmyurw4T3j4+NKy6heY5QFQUAMr9fr+3fvItI89dWvbO/s1JuN7V43CEO30ZBSVmWZVnrXsSNXry9KkMIgE66qub28QqKuXb305tNPMeF8+gePXlu6/Of/43cPH9jVbk3t27t/fWNtarzuUbm5tb016BljPNdtBFFtfHZ692EkLC3KNCkIQl4UcVU0IvfVa9eOHjrYv3HjtttOn33lxQMHdxdJfOunPuo5YjAYrG9urqysNludz3zmr/buP7h1Y9MCCuS9bEgx8wI/LVLHE0jMcH3JIWxhbt5IxV3u1GoT8/P97Y361ES4vnHpzfOdehOrstVsr61teG4YcrdZr91YvPzmC2//8I//81On72RhcObA6f/2//5XtTOc7oyffeP81NRUvd1gRV4TzuaN6wfnx2LHXd0cuH7DGFWpkgoW1JtZksZlFjBWZjk7d+EKOE5Yj5auXZmfntq1Z9er597Y2dkZa49RAGTIfUIJpyGxpXIpT8vM9byylEaD64Xl5g53BCDVyHJLxmd3J71tythgMKjXo2Ec7983PzY9TR2WZdmw36uKbBCn42OTcZxGtQZzPSeqe5xNjU/U/Nq1a1eurS4TAtIYSjgJaShrysj52ekbobe51SvKRBN16c2LJu1KhX/a7X/oA4/U77/rkx/9xJ133rL30IFjx0/unpsDQtOk7K5t9obDJCvCqN4cH2/Oz5dlTkDtvqXWTWLebHbL3Gt3xqcmL114a0uq4U53vNl2WuPHFvYsLS39v//9j7/xjW98+/z8Sy+91N3qUiRxd/jqqy8bq6gNja2KoSYIayurQCgwPjEzSxmv16IqS5v1JuPu9lZPBF5RVPPz8xffuhhF0Ze/9oWxsfbv/D+/ffd73/v0iy90Jhb+5otflsBDv1nkptGeSksVD9fn52a0VqcWZv7md38n3LX7I5/6zhurmxVB5vJC6jhLmWBCiHQw+Nzf/BUjToDCW+9tTEy2VH/40lefXN3cpIIvbXQZodZayhnlIqw3gGNFYVhmbZcDpdqSPJdC+BY5cmd8YV9v0N3ZWI9lOUdpVGswRj03iovq5TfOr6wtR1HEGbnnjtuZ6+eVjPxapXW327+6uGQAkiQZdqsH77tNlZXneRSx1RmfP7D33MWrAKSoqrH5yYqbzlg9TdO6h63I3x5kx44c+pEf/tGf+Bc/fvupI1CmL33tsWe+8PlhVjY7E0L4YRAdOnTotjOnp+YbSTHorm4kSTrabu5Htcn2WMVd0pncYWHj2B1xlut6lXju6vLSrfuP7axuvnJjKUZy/uKlmfm5/Qf3p4Nuu177J9/7LUaqCxcuXrl2I2o0v/iVr87Nzuxsbikp169dd7i7VOiiKBi1VZbNTUysbayH21sS7Y3Vq9dXtn7n937rg9/yrc999ouL15fOnnvrx3/65w4cPdkMG7saYy4FDLzxej1E2F5ZLosMiGVFcuUbL/z1G+f9qdlH/9F3L2dVTxvXDXJZEVdMz84+8dRTTAECQS5QOOzClWu7ZuemZualKj0hqjLvD+K0KIpSlmXph40SbKZ0Wkom/CTJ8rIygIRyS8X45IJbb01OzlOdb195ixDmCLcoda011p6aJK7DGH3z/Fm/VlcWuHCQCkaMKcr2xJQltF5W7UaijQ1qkePyLMsuX792bnnx7UuL//if/ERUa+0/dOiVc29prRu1OqdolWaMnTx169r2+sbW+qH9e1CWNddBRktlltc3wJCN1e3Lb732v//Xn+QGwhqdmp2an9s1Pj61Z+/BtX5venzs7Ftv1putneVl5od+WJuYmMgH8cLhI5t5Nn/06FYyqE9MuIRWWbqTp+i4m1LFa+vD7uDwoWMmaAZh7SfveTDNYl0WyaDvWvu1L391dmZhcXH51TdeHp+YbI9PoONsbG6/duHND33kQ1/51V8+e+HCzvqmPzaz3E9O3f3AwdvuksqA0kU/Xl1ejGoBJfj22xebQWgYnZ2caCXJ0UP++vY2DpNf/pEfPXb3fQ9+8KO5rlJq06SXyfjzn/0zZmypZF533O5Of8+Jo57jb66uqTyvPJcwrI03AwPamu5wGDU769vbrhMFTj3uJXv37p+ene71+8JzZWXiQZWWRhC+vbFRc2vdbCl0HYsgrQkbzeZYlmVJZawX1ZAL7vlKWkvI5OxcUhU7g6Hv+yrJnaBmwOZF4Tk8aLYT4u1kXBq6vLJ54/Kbc7NzWZITHxqtsTivxmbm77rv3i8/8aXb7jsdUJ7348FgYMAqDrsO7PE9T0ulSnXj2vWRFVFruXn9xitPPV9vdL77B77vxWee/i+//V/2799/6PjR+V27nLGxG+uXCJDracqDgLvOvt17dKktZW7YKNJMARTGVtztV70N0b6WrrQ45Emxsrg0Pd4pjaWcfvzbPoVSfvpbP/7CN74xHCRvXboCvvPqk2//xn/4dx/45Ie3ev2lld6VxVfd1jhxaotXFhdvXOmtLZ88ccQY01yYNAY0YQv33k0JN8bGack72E8yXXe2t7eOz+8trlx+7Ld/a/eJY3OnjkWh64bs3/7qTzElpctFlgwJoYM02+72s34sKNFlkQ8LpDTJ0iiKFOCBI8dmkvzyxYv79x/sDQef+gefdnjaHfRrtRoidjqdSGlO6EQUlVvXk+am1Hk/SURviNyd331weXm53pzMSlNKTbmgDAfDZGZ8Zs/k1Esvv1yWZXN8xm80KROe5yX9uF1r7z9yemz3oALWHJsY7Ixdv3bJdXzfD7I8n5me2LOwSxv4/Fef0kZORG2oVC309x3cX+jKGGWqUmtZa4bqcjFZ72RJyjgFYybHxx987yMnjx79yMe/ZWI86nXXH/vi5SKTczOTRZrJUi7s3Tc+Ozs5O7d07QrnwueetKTQdnp+99TMNKWiM+uvdnvtufkyG24M+u3paWBIbc1QvLy5pdJ0fRhrwg+dvm3y8NG3Ll46ef99B07c+kd/+hd7DhzoDrOx6V2LWztL628NBoPe9kbW7c4N08e++hUuBOdOo9NpTU4K14/8iBEWul7o+5Hnjc9O71uY6W2t97u9y2++emHp/NSBXa2JNpY7zKFORXi3l6CuHM+d7IypoGGMcaKgkCpJi90Hx55+5omgXkciag1374G9yxsrru/+6Z//abtJhXDvuXtqagqj0PWMpsi4T3Ob1sNblJUHAEjQmJvba4AHtUkhmkli0jxfXFmsh1GpsJeoQLt33v3I1atX281aEe9w5srSEOpluR0kUqFTGmiOT129wD0/JIhaS8qFUuqeO+/42lceP3PfNyWlFIDDrVWdxYWmq71kMOiFjAy2N2+/5QSA5Zxyh1qCupJTC3vueeA9f/v5z93/ntPc5XEcL12/0ahF6TB2hKCcXn3rwo1r1wyaoiwpZ0EQNVrjDz/6Yc9mX/3L/54l8dT4dFhrtCfHO51O1Gw4jlNUVT/Py6wSYcdrzxWEdDc2I+qvJv2xffv37t3/7OvnNgfF2b99bHJienP45sb29rMvvHjnvQ/ce++9g/5wenzig9/UlmUhjVxdW+ttbG1vbulKhpHveZ7v+81a6HF2/sprnuNGtdb00YPrg9XXX376zO2n0o1F1qjX1xavBWHYilyH0jhOrly7QbmTq6rRbveH2Td/+tuH2fDQ4aNa2fWdzQtvn59Z2OUGfimrWn0WjK2K0hh98cKb3WE/YH7c3Ww4Vhfx1OyEJsSnYnl5fW5+3zDeiurtdqf+/f/0B8caPli71Y3XBurGyvr9970nScvtnc3BdnezO6gFYZZVM9MBcrcYxrlUnamJVqezvbXRj2MvGNvs9o6fOCKVWt/YOnj3mRw5J7YzNmmTvuvxIwt78zxNu9tc+Jpy7nnAKPe8YRb7jcahEyfWur0LN5ZA+IMsFY5/73serLLcobyIM1eIy5cvF0URNWrb/R53xKA/FAzmZyeffOLxJ7/6BQbadaL22PjB40cvXr4auCF3PL8eTc3O7dpzADhWRdXrduemp77xxuuh5y6tr77x9tsAUG+1k6wYxv0XX3zRC6Jds9Ozk+2yzB3H29jqccZcETkOH2vXXSEow8F2t6qqbjzY2tq6fP1ykeWe4zZaTca3hq/Gu/fPlYX+4l//9bC7xhAtpRhGXlXkm0trYInfjNKydJnY2lyLk1zpbGt93XGc5tj85nZ/fWt4653zO/3ew+9/NE97i9euZUVCmUaiCVjXYSWjroNbvWR1VW/1h62p/JYzd21srqXxcHt7u+aSc+fejFxCKTWETe0+WmtTxmFqbmLfoT1W5vGpIyDza1euZ0p5HpcqH8RdXeXUEcM0424I3PPrzROnb7+xuqotVJWM2mPdrQ0CTj+VY0FtbHK3kyWd8bm19e4gt4b7fn1sc2tDBHXHjw7ccstzL74SG5amZZnbQW9t/8ET5996th74oKpGGHCfezVvp9fjwqFM+GHwyX/wqZ1+74WXXgQAbaGsisXF6yvrK1mWqdK2Wy03Cs69/BIQvr6xc997Hrztttue//qX+72do4cPuY5jUQ2TeH35xuLS9Q89/EOOwKeefsbxWBR6flAbDrJmp+0L+pXHvqzKYnyiFYa+sTqKIuG4zWbz0MEjxOFG2/5Of2Nja5gmJDfJkA8H2OlMGFIyQoi2Jpc2H8YU6NTkJNYbO4MeUabXHUxOOUuLK8qatfXNQjmO4/zIj/ywAsyyPEmS/Xv33HL8eLs1DQAPP/TerKyMNMtXLy9eONsdxsXmRpJX6HZUpZtRc11uImJRFKsr6wtzE2CqYVok6lLUHmv1WoSzq1evlulg6fK5PXNTjU5n//SCMz7Rmpye7HQc0mw7KDgjXChjmOMmSfaNp5/NDQVr1leWosDzg+jAwp2vn32tJe0wk5FgB4/dUva3osbEVi8BdLo7G7cfPLa0vOyEteNn7nTcQGbF1uaG5k5tYr5I+93+JncYdZk1lgluDbMWjxw55nvh2tb60eO3jNW9Kk85F1LK69evS1nFvb7rut1elzpumlWUwN13nlq8fv3P/+xP2o36M08+xhjza3VCyMzUdJ4kP/j933vgwIGPf+qT3PEunHv9sa88/v5HPphlmc8RTeZyYKi21m8wxgZbaxaZF7b9Wp17fq3emN+9Z+/+w3EySLOC0KBSRxDWf/d3n2CUuJUirutSoeZ2zasi/9qXHxOu047qYaN5Y2UTmLfTT+t19g8efq/v+//tj35v775Dd99976svvXz94muU0rvueGT/oWPPvPZCKSvP8Sdb9bvf8+Cnv+1bomagQQxife36auRHk2NT/Z1Bvx9fuXKdIaiqQC4aE7ub9abgXGu9vry0ub5CdLGzs2NKNYhLZztRyAIktsreeOFpC7pZD06ePP5b//E/hQ7/8MMfXN7s0tbUxWtLWZbEvZ3KwTweqCL1BOeU+24YNuCZla27ztz+4vPP1erhbbec+dqzz9Gw0Z7dl+VaiJq0fb81e+x0Z3trGa84tWa4s77sukKUOgpba6sb73ngfSurG//19/9odmH+ySff+uD733fu3IWiyNrNyA+DVqtx48aN1kSn1PrG5s53f88/Pn3X6Z/9uZ+veyTLh44jNNg47hHC3treroV+wMm1C2/+8s+++oEPffjkiVOLFy4W971nZfnGK08/UaZxXKlbbz001mq0GrWpielCZt0kWz/7+qsvv7K0tILMm5iYeOjBu44fO2nBj5NBsyE++sHvYkmSNaMWQNWot24sLpZZfMfpM1VVKVlu7PSzsorj+IEHHnj4kfd/9StPPPPMM4zD6OTIsqic6bEirypLNBWOXzNVjoS/eeHKc08vba0vGZBxWu47cMuBwycW5ual1EeOHNuze/bbPvkRYqt40L909Vo3URvb3WSQOI5TrzV3ttatRCWtEL5Spum4596+dOb4calZvz9MkuGxE/LatRuf+6s/27d79pXnXghb7V0nbw87Y2HgL8wene50ZufmRK2eFGWRpJnLNxdjpfHHfvwnv+1bv+XhRz549cqN9ZXVuYONJM6YG9bD9iqu5YVGxhsTc4SJ4er1QgKC9vxgZXntjrvuyqVkfvjPf+pfJ0n2xNdcVmu0p+eybJjnSXd7+8ih/cJ1FOpBPLz3vrve+/D7fu4Xfv6jn/hg2e8tXr3KXccPg7KS3e2eAlmr1TzH7YyPLW9uXb16df++Q1OT48Yq33U42rBV+8A9d62urqwsXr1xsXhF241u3M1BhE6n1Tp27FCpSZIML7z15q0nT0xOdYSYMUptb20xa7AqS5UPunFvz+zE+PiR1157nTCGiJOzM6xe3H33nX/yx3/wG7/+awcPH5+enR32B0bzG8vr1It6sbbUyQBYvWGEL6VlhCqAIKqpouW7fJBmjs8MkY7nlEbdWF5eWb3+p3/8u3sXZsCYXXsO7Np3otmaXJid8wNvZm7hwQfu62+sWl1dunCRe54I/D3792iLrXaHMKfZHu8NklqzNRhm1xeX2uMtEI7UdnNzQMlgaWml3LP7+Rdf7EzNImGC07rvHD169Pjhg+cvXfhH3/t9e/fsWllZct54faLRhqi+1Y1vvfv+uLulQDPhEOoHkd7Ry5Wi4+Njg25vq987evJUruUT33jpzP3vHWoLXo3X2ryWd1qdpLdeq9eFGyAXnBDXD8/cfterr597/rmXPEHvv/10vz/oTE5sbm3P7to9MTW3tbJmLYhQBM3WmGCdsSkN6EW1fr87Mdl2A3ews729sVkkabvWiKaDrfXNRnNsWOp+MizzwVY2LBTISm+tLr36yqv/8l/9xNmzZ6Og8aEPfYj5DuoytWV+/PCB3s7miy++uN3tJVkqPLeQhvqNJ5568o033hgfn7SWCDc8fGyv0vCr/+bXv+1bv92gsohKk3NnX2eEckJlVVijjdauHwShx72g0emMtzta653tnuN4skpb7bGJqemqqm4sr5UYHj1264WrV4PAu7Z4/fwbL9UdNjc10emMtcfGm9ML48pKZbwgvPf+++J4ENZajUbj0KEDjKjIcySS6QMHNPXW1tbybKjBaq2MlkYpI4mt8vWlKy88++yP/uiPfv6LXzhz+hQj+NADD0VjExCOL+wiq0vXD+/fPczTpCgLpbzmeP3E6auM/5tf+4Vv+vAHf+xf/lR3GH/2i1/adfhwqaDWGjt525lhv+83xqbGWxfOJd1urxFGUpqyKk7ccuvu3Xt/+ud/qTU+XgyHjgg649PKqEGaXXvuhSgID+3ep8pSVfLoyZOLG2uA1DLmhkGcDo8dP9gZH5scb7/w/It3nDkFpthYXeOUl0WOCiLfE5Jsd3dUBa1muzY5iZRPT4xfvugGnlvmGVu7/lZ388aJI4c31lZu3LjRaDSm5meHcUwIWe9207IY5gUQd27+wPz0gYNHT1hmvMD/sPDXtzaTYTdL4nyYbG3szO3e3WqGjNYOzHQosVZXSZYOk5QSN+7ngkpB3aQoBQ8OHjrebtfSLDY8d8PIMALIROi1p8ailYYabCVxb2NruzNIZ43ox9ns5NRWr/+1p74uOLnn7vuigHUmW1NjbZfRQgI4PK2qTrveJ6pejw4fPjg2NWMMaK2zYX8z6bbqNQAThM7bb51ljMnKLhw4rLyNfn9418ljS8uLpVGWsnprotNqQSNkqnj59XOn77jPjZpRa3xmevrA7v1hvTU3v7DI+BZhlTZKKt+Ltg1pdSbmK3Xj2vXdu/Z95bHHP/6xT273ulWWri4tF6WaXphVhHdmvWQwRC6oQSTitXPnk6podcYsZUFUS7KiUjIp84lmozPeqnTlUBKGITVIqS7jTFiSF9WnPvLxotK7d+9dmJ0rKu17rbtuu2vQ3SFSsvWVRY8z1xVDSo8ePdpsNpfWVjnnW9vbrhuePHnn7r2HFub2Hjl4xGhqgGgotKxkZeu+P9EK437PWrznjnoh7WgXSFnmSTwcDvuEsDCoUR5y5gZB4PmhtljJTFf7CUggVFlOKS3zDMESjFqN2t49u1Q3EARVLzUW8qxwXb8oZVhrcCGSuL+ysrJvz64vfelLMxNjqpLK4uEz93C/BmDDyGOCFlWZ52VRSq1lq16DqSnPFYyxe+65hyFoZQfDTHOXRK3t7W4lc2sqa1RVlsvJ9fXlpXhrfW118c57797p9te2tsGoUydvCWoREIwHQyurRq3p+l6vu330yPGZibFbjh3N0sG5198Iw9oXvvCH/+zHfmxqfm7XzOwX/uIzr7/W7Q6TB9/3/tb4xIW33l69vkhdClo+89zzeVXeevrMqeNnXC9Y3liZmF7oDlLQxg1DwmhZ5ZwzYhBK2W7U07LKKfvoh75pZXldStnd3FCGAHpWEq0tpZxNjc8iI0lWuWGkq+L1117WUsVZvu/gsTP3vc/QZmd2jjs0SYcU9MbKilXZcJi02zNaS4WZF7hFZgnjFgEICsaD0HeF04hqliAXjiEOINOyUsZKbQcDvWtuPk36C7NzSinXC30vzNIBR4yLKgBBaq04joEw1w8JReHS/qDL+aE77rhn8caV/fsORWGr2RhTGvwwiPNcllllNADJs2G9Hl26dt2rdZKs1ForYwebfQJ6ZxAnWaWyBIAAd/yoFnQ6wnHCmleL9oElwveTXG1trntc9XobRVHEcfzC8894roCqml/Yq3iw79DRlWvXglqw04OZ6UluTTzodoexluX8nr2cO9/9vd89uzDv+h4Ye/zWU1vdLWV0t9uf270vrNUPHDr8+Fceq9XCH/iBH/r9//aHnHAlje8HWa7rjUnXbeVFPjkxRgQFo7WSWkllla6McJzQD4b9YZamiKh0KQ1V2gBhlQFLBSuqShChK7W8eMMluGfX3o3VtdWVjeefe+77fuhfLK4nlNCdYX99fblM07F6HaloNpuUohtE27043u6GQXNlbXVkEDJaje4JcLlwHIc5JePCIkFrEMDhbrPmtOfGtJKglTFgAK3WHgNEDDyv5geyyqMoskwowgqlXc8/98b5F557vllzCLInnnr28cefPnHr7a1GhKAcz3WCWqFUWcrBcAjaUCSMUIdx4nlaFkmSbG0s7du379q1K2mvF0VRhbStNM9kEHhbO4UgttuLLSGUiTD0JycnZ6cnGGP/8Lu+C0AVWdbf2R4MM15vai21Uclw4NYba+vrusheeemV9z384Hin8fTjTzBChR9cuXiRcE4BG36we/fe2fmZZqvj+tGtt9xWD8Jer3fj2vWJyen773tobXPLIqa53NjsIXGm5/d4DLY3bkiZd9otXWY+E1abJEm0BW2zSmq0oHTlONxoRGKYoAYAGGPDalD36r7j7l5YcAnr1JvXL153XX9iotNqB8+9+NK1tfVorFFrNxv1CYYsDMN4OGw0W1tbW7O7DyZJXJQZQUZHZ5+BAtSj3R5SyWI4BFVpVTkOl9oAdaXR5dCz1rrCoVww4RNCgsgnhBnC/EaDU1IUlaGCu25eFABk78IuwQmnamp6QklbljIIgqrIB/2eykyRDxzHoQZnxiYYklPHjgauG7lhrqr6WNPVeZXtEGqR6KpIBqpIDDI/WGhOFlnOQyGlKZTpjI8XRcW5c+ntt7tbGwf2Hvpff/LfW82oVg9rUaPWGW/NzXHHeeDB+5ES4gd5nkMl19fXpdZxWl546+2qKAnjj37gQ0aVlVJT9eaw1z/X79ca9aDW3On1T58+3UuyW87ckUtz73se2ukN5hb2ZJoiD6vSPPDQI3/2P/8o29mmRHlhND09B5W6cP78ZKdNKN2OS0UpIHU4lrow1lQyttxDikgJ63RaiJjnaStsrF5fPP/aua3uDnPE4uLi+9///h/9iZ+55ZYTuan8MODMB0u4oDu97cFweOrUqSRJwsgDK7VUeawYYxaqqiqMAcIYpR6BgIKUVcYILytlmWuAlFVOLcRpUimjDJZFxSghhAgvQEo5pYQx1w+UrgiByPObs1NK5lk+IBxd4dVqwnX8LMscx2GUlFlOCEFGkYKUZT2qlUVlrK5UVXEipZ6ama+kvuPu9zAjoyDMpElL6XqN1fV1tCZqRJevL1rkSZJmiZ9lRZpm/f6wXm+2W6GU1Y2lxbYCpzMNef7G22/GaTKz94CxSLU+dduZeqs+1qr919//QzR2aWWZINvc3r525WqSZ1dvXB8m8ekzdxzZvedrT/7xQ+97dHV9e2OrFzU7WztvLq+svfdh9/qNlbPnXv+Ob/9WqdX3/JPvG68xBqqXJb1Bf/nq9dbEzNXLF/0wXNrYNtQptVFZ6oYesbqQkjFHW1NKyWhlHc91fPHWhQvJTu/AgQPT+xd6gzjuD0oUe46e6sfptOvIqkjjdHt78/rS5dnZ2en22Mc/9PA9d90mHLpn1+6pqenIb4RhrVYL641QI9MGpdbGGCCu69atskKgYQII2jx2OHG1BkscEWqtGUKWJRptqSRDTLM4Hm5bUxGjyjTRpR4fHx+bbKzcWBdeQ7i1nDsA0GnVh8NhrdWqlOac51XuCM6QRYEwljhVRShMTM5FUZAqhYjFMMn6ZZYl1toqNzXfq2Q6NdY5deL4+NgsJaysMn788JVLF+uNTqPejof9SmaqMqqUqGypqiOHDr/yyiuMMSTCluVXv/7kwcMHZibHfuOXfnXQ3Zqenj50+Gh7bNIPg8NHj/zsiWNKqSwv8lLfec+9tWbTC2tpnCwtr3le4Lk1a5jjB1WZKZ0vL97421deRDXI02FnaubwoeNh2Dp64sw3fegjYRhVxOVCTM0JVaT9JKUIFRDCQ+7Fmlh27tXXT5661VK2b9++8Ji3tLQk0Vo0buCHItBVWQwHV1673NvaHMSDNy+8efb8G9/xXd/5nvse0mXx1vnX+v04fJRNdtq/+DM/YTUQAn4Qho1Wc2xybHyy3mw1Go3x8UlOeFhrcBFQQQlI4TojfDloisahlHiCC6GskWU+2Z7RWuVZ4nECVu9s7szMzF25fsX3wzjJ4rT0/EiW1erKNe44GgRygYj1elTkSRRFusoJMi4cY1UUhKpSgotSykarY1TV6rTBaGOAc1oqbzjstxvNnc0NRFpVRZHHBvDG0urU3O6FhXEjK2PQEqGFcJRiBKemZmpetLXTE4SOj497rut53smTJ2VZJMlQeG6336ukvnr1+n/8j78ZRdH0/MLBI8cvXrly+3Bwzz33zM/O1WqNYZwPk7TVaafZcG5hlhCYnJnEV/HwkRNp0tfE4V7Qj7OrFy8+/vjjtVpjcW3rkx//BNWl7zqEOsAZoU4QRI1G6fsBE56PSBHM+vJazQ+KLFlaWxWeW1bV+OTU7/2HX4mHQ5Xmm5vr3axojDUdShr1TmUQCG0027oqHS8aG5uYm5mSeUYtKGmSrVWZDK6cfVUpTYzlnIMlWuvQb1JO2pP1eqdRDxu+V2s1x13XdVz0woAL3/MCS1CmrgXtOA5FYQDRV73czu06wTiRqHuDYbszm8UJ51rqqpCklBqMGkkuw7grKCvLEi2xWhnuSCktQSfws2KgLQCA53mINskT4TjGWGQ0qAWMEEoDKWuMibLQJ267Pc36ADDsDowEI3NCURE6O79gCY+CkAHOTo7Fw0Enahw8eLC7vbW9zVzXHas115Y3Qyc4euCYATs+Oe3Xalu9ruOIP/j9/9pptR9+/wdYWL9w8eLxY4e1LBvN9jAtwqj2yX/wLR7aeNAvraWcJV48IxfSncapk6cuX7sahn7ot5Nk2E0GWtvuTu8wPfb6K69FbsgAKWUsy7KiKGRezM3NdDqdre62pTRNk2Snr8pSED7RaUZGVkAoEquNtgBAtNTWIqVMW6CcCOJ7VDBCN3Y23cCphb7V4HKWJAkhRAgx7CY+d3c2Fq9cuhD4QitUlZFajg7ENppG9QahtNlp12o1x/Nd4WhkR249NTE189LzLzYaDfRgbHzy7XNn2+02kNz3vbofCSEEo47LlVJlWVjQVVXpQhELZVrQMChlpQE1AhKUld7e6QFWrutubG4TJsi4MxwknILgvCql43gWyGCggVljTKPVRmuQAKVICDGAlVRKqTIvQj+wRhdFxbg3Pb9rfs/uMIyAOZR7jLsHDh6prAbG01xOzyxsbuwc2HugUasRZIHrzc/NeQ7fiXtPPP30/e95b6XMb/zqrz5wx52XL16Y3b1w8OihiemxGT5XRC3H8Q4fOAgEesPB6vrKxOSk73m1Wm281bz9ttOucNiBQ4fToiyVXti7jyqTxcPl5WWlKsJFlieMcOqSPC0swdHFWoSQmxdfje44JNQPIsrZ2OQUB2AGGCHbSb8oSyqENlZrJbkRgqWyJBEvieJc7J5sVqXJk9IVwvdd4CClrtKKIBsOh/2tqru1mmWZUTor9fTsVCsMfv+//AdO6C133f7xT3zzb/+Hf7979y7XI4xiyP3A9RhF1/eCIHB8L2q2PD9stTqO8GfnF4aDpB1GCqBCY4FobRFtkQ8FY76XJkmGBgWhDqeyKKkBVeRAWJnFyJBzGquEorVWV1opaQijjhu6rscEj/PcCyLP89xa3XWF73tb3Z1cVu3pKcrcfcdOKGOltZXBdmcm8JsfePRjo0sjqOcQY8o4jbv9W47fcunSlUZUe+97H55s1zVIwihluLK8+MTXvp710jtvvyuOB/sP7Dtw+NDa5sbOzo6MoizJZ6dmhsO+43A2PT97+fJlx3P7g3jx6hVQmowu5qpkXuajzYylksjo6LwHh3EyOgQCCRpLCBNCaANJUVpZmVIGnu/Xo1HkaaKY4At754UbaGs4ZVsb65sbK1JK7nhpkglP+FGQ6YIxIpiQRRkGjgFrCXGdKHL97jBtNepR6LYijyHxOJuaHO9vrdzQqXD4gX17n/jak40wsFZTSrnrWCDUFcz1rCGcO/V6s5J6bGoqqDfcWuj6QT2oj7dbjEMURcyQZhDMzc1Za4aDHbTadcI8zyutOOfDZICIiqrR1R8uZ9TnBqxSNo5jrS2jIk3yG0trURQZo6yWSCnznCAI8qoKotASJMJhXIRBUA6SsXqtKoo8TzXYWs0Fo3fNz93vuN3ewGpz8vgJo0pAWsjKcWt+EB0/cTofFnv2H9rcXJdA4lK7tcagt1NDmhdFVhTD4bDZbrEnn3l6anp6kCVFltfazXatoYo8L1KkVGlZFtXoCGKlVK4qimz0eufMaDDGGMCsqOIst1pZqTQB4YiiWzLUjuNwytCSjY0tYy1BIxiph42yLLMyRUq01UlVWE6FEF7II8e/cvESaM24I4RoNuqWO4U0VDgARhuZFZXjOJ12ox4FhqDVenx8vBmFo53vhEBRlZXRukyUUlWsFy+d8zxx/SKhnKDLKTIfvKIoas36Vrd79z3ve/SDH/yB7/7Ow8cOTk+PN5tNSp16rckdNj09PdasI2XC9ZByQpgyuqqKoqiklNYAQbG5vUMJCxyfWiK4y92QMNRal4NMVoXrO9KoZCs2WlKwDuOcOQDgOA5lNHBdisx1fWug3WxZZaWU0sjd+6wFai1aqw8dPJOm+XDYb8/u3upukaAVUO5FkUcR+4Nri0vTc7NIGOsO4wNH6jtXdmZnppnFQb+7trVRVQXn3Pe90akMDudFVRmKjh+tb+6MdlOAtYxQIRzX8bnjGkKKQqlSWoLEIdzlptRSylo9qjfanZk9lZIM1PrKYipj0AAGAi9M0qy3tU1cV0qJRTk/PUMF17k2RiVJURRFWuphltVb7fZYx2rFmMjzssxj5SJlzrVrVxZ27fKYKIusKLKiKnJZatDGGM4dQDxyeG93a1vpyg+D0lTEGqwygToZbHpC9HY2amG4vnKd0fL5ZzaF525t9o8ePZrn6ebmRhDUKOGeFzmuF0Z1PwprtXBsbGxmaqrV7NSareOH9ihp+/GwUQt936+qUmtdFWVZlqWpsiItKiW4H7hOlRcEqAUstNSokzQeDO1wkOVZNTE1OezHZVIcPHiwl/SbrQ4jXCnjuq61tt4SYSNA1M3xhhfUd3a2fGcCtZycnq/yohbWFxcXWRDWtre7RtnNlfX1tVXGyMTERJYlhBBVFUkvllXlOI42JlUVyUprLWFILACi4ziIGIa1IGp8+jv+oSu4IHRtZfHJr3+5KAqQtlEPgInzV67vDCrG2OxUY/fMXDpIVGVczqtKVwq15nmCZWG4JUWu2s3ASOn6XpYXO4N4s5d2+8P+YHjh6tJttxwhhDFCxzttz6ODYQaAG/0NLwgCx/HCuofRGOdBWBsd6qTKyhMOZc7S4g1rqTVUA4jABSW1VhppXFWO52lVOZROj7cBIGBiYWqsKDyV98BKCpoXMukWa3lhLIwuDqzKvKgqjSiV9cPaBz/4wc311YsX357btTAzMzPWGmuNdeZ37xF+UB9rRWG97vpFVmmFGjEu81yVlcwoYLOuKqVLMOP1OubaMmi0annZL/MKAFZX+p7nSa24oGCVQ52st1lvtoDxUoMfeK4XaqkmZmZYqZUFGG93VpcWT996CtFudXdGR7tzdP0xlwMg4xp1ro1G7A9TIQQhBIAyJowxlAvGnbIyeT5klhZ52R/GtaihsqIsy5A6uw7tnYGQEfq5//0H+779k9oQpMRz/LyMZxf2NiZmu3Ge56WDhttcJztFmQlPcEcgdwBLP2oYwg2FUlksK8bYYNgXotaMwlxrFFwRyLVKkjKNE4sQhqHWFgyGnv/SN1778KMPXb9+XSrtu36lldSqMvrk6VMWhZauF4WzC/OtsZbSeVVVQNnLL79oTBb6AeeCE6qLtBGJ9tgkUg4AVktrQosAhJdK93qDmfF61lvLh9vLl7PXnn8x8FhWKMtJoczoWDYBPHDCenNsfHqmPTUxPjM2NdFpNBqeE/lhFDmIiE7gW2OUKep+zQQKAMR0W1lDHN7tbkdCWGuL3KSDfqGpRTro9ba3t+tRrV6vs7zMmu3G4tuXDh88sL66tr66nFe5UlUUBGCMQEYQAImi1mvUS6W5EFmea7CUsaIoRgc3FkWVpTnjSAhhjutw11RZ6PmFMpYziTypsFmPaBAZS9DhKrNIgTJeIfPbk07Hz/O81QhUvHn2mS+x0XXazL314K1xYYC5ncnpW8/cs7W5PhlxY7FWbyhVCUfIsmpPTKdlRZnDOBa5cTy31mxWlXQYl0U5OTU2OncmiqLBoO/5DpHWcd2XX3gprWyzOWcIXd3cCJt+pXMAcL3g7vvv+8azX+ecOoJXRYGCKA5BswZIjTFFEqOhZVEQimWpOp0OpyzyfJ+JUPjhtB+FTSA4TBOkcMstJ86+/kaepg7zh8PN6+fXblywcZoQDpRwz2184Js+9NgTnwtc52Mf+PjnPvv5uYXZqamZyYnZKKpzz+W+y32/LGXEnLKQFJ1OvZFqIxzPgm40GnR0zYOyBhl1w+Da0uLm6prnCgedMPQdzqui1JXKtdLWWEoUo5YxpVS9Xo/jWMuq1qgXRbG902tPzyLj1phKyTyT1uDoDj1jTFFUlHuChZYInSvOHA3WIjgOr3pxzQt7SVFZQETZH9QE457PNGhlkzwdF+7czNzkxKw25PDJUytf+rzSFgghXHiO8LizM8xO3X7nysb2oNe/88ztg0HvypUrY5NTzWZz0O05lMxOTfe2N7jjIEKtHlZVwRhJ83xuYSGtADFwfS8vSsrF+toSUtJdu6GVMoYI4VaVCvyo1Hkh1dWl1SQtXMep14JbDh9M4wS5W0qVp7nj+qPD8RzG0yInDqeU1ihJ08HzTz8pHDY5OY7IZuamL7z9drtZs51QGZsV5fjEdCN0JpqB7zm7ZqZ21laKtP/iU0863FXaZFo3J8a2BvHx48cZ6KmJacGDMGo2J8aENzr/gHuep1TFOp3xtfVNbcGv18YYneh0dra2KQGGxGiJiKPTcQzYUlZIOWN9KWWSpcRxyrIUQgRBIISI4zjyg9ANZJ77flCoklMacDcI66hNnuUuckQaBoG1FhkarThnhZICkDuilIoznlW5AjCVCgKnVgup8OO0dPoDqW2cFlkuqeCMMQtEaZuDkRaSqlKMDYpC1Gs1zvnWthNFfqPRaHd8R7QC73/+0R8RwQpZuYKNbhHN4uz9d92lwdnaHMbx4NjRY41a487T95RlKfchp7YcJgjMdVgpFVoaBtHqjQ1g7iCRG+uL81Nzy8urCkipdDIcPPDeh6jnGIrEoQREt0iLqowcr95sbG6tzI3PQ+BWGqWWXrOmVKW1bk9MsLyqiPUbNcdxkjibmJld2Lt3YX7q7Ksvh4EXRVGupRtGuKg6oYNG6qQXjUcq2enmW8iI7/uOJ4IgGA6HbGpyLk9jQp1hlhe5PDY7l1XqjddfpQakvAlhpRUglkXhOE6Wl2macs5NWVRKxWmqrBmmyaAfJ4PEF2427HHhWi8gxhRZ5lvLGGs1mgTM6GIcRHRdVxtTq9XcKKIU8zzLs0K0As9xKeFAqDFWVVVRVE6EAMAIVHnebDZ1VSZJzJhwBGqtmeMO4jyqNatyyRqy00sYdZKkQjLwHFc6Kh8m3HGTrJiZmkyT2PNcAtaQeGJmwRAf6XacVwcPHSEUbr/z7qKUtbB27rXXzr/+WmN2WksVBE4pq1LC7fc8yL2wqiorC071/e99eLsfb/Z2zr3+hhdGzBHaGEvQImRKJpXklAfG+n6YZPmby2t5pYghR/fuwVy36tH+w0d6eXXh8hXNgDAxGG6VgMNKLW9u5qqKiJAqQ9RVYds1X6BcmJuqivLO22+J49hYZYyyCMoYP/RRl6y3NQSrjVR5VhHGFnYfbHWmvagx2R7TWnPOOedACWNMUOEIFqfDxtgkAPyj7/9+yPtaa8/zPM+bmZmx1nJLe1ubcZyuLS85lOSlLFkwf/hUfWLm7fNv6iqvpBSOv9XthZ3WxtpOPYx9DGZn5qamZpauXYUyjjxfY+V7XmkoWml1CTIXYJLedjN0KUiHoee4lBhEypkmFbWp5UbYAoVxdAGWU0/UHOHkRS6NQuJ6fiQ1UMbzQjLmAgZb20UBMs6UpGJ5ezAxMXZjs6eUWt7orXYHzAkoE8YoqRV1XF3Z+sS0CBpVUTrMXHrztbv2H3B2+k6vefbNt7KqrIzmLheC94bxt33P92z3Ez1MX37+KbA08Gu37jnqBrV0OFBJv7u5ygSNpc6NEVHAXMcNw0xbFrXmj57srt3wmy3H54yaqBYpaVSRDDbXryU7Qohub1EbwqhjLEprkixHx6kMsPc/8j4tVTFMlFK9QVcIsbW1BYgr62tWac6YNkZZo5Rp1RuqkleuXf6mj328Vqu9+PILx/ctaC0NWM5FENWsNg0v8h3xnvvv0jpr1+tZUWrqFyAsq481axOROnnrMQN2amJSZUmhqTa2KtO4txO64vLbbw621wZb13WeRKEH3KtbL2jmzCKjZGNlGazygwgIZf/frv402NL0OA/EMvPdvvVsd6u9qqv3DUBjaaIJkABhiqTJECEu4siWRhpNSKOwPKbml2PsGI83zRZh2f/ml2IUM1bYEkSRAkFCggiKOwQQTaDR6Eaj91rvrbue9VveNf3ju1Xk+PyoiLp16zvnvPnm9uSTmVI5Z3WWk0pa67qsg/MSBaSUIk+n09F40nXd3sXLq5OjRGLT9XfvH9y4dokAvU2FKZhRSq2zBIgkhQvexzRfbaq8qkZjqY2L0Ts3mtQnZytVTeeL1W45FVIBBgaSKkOplM4iA5Oo67FSKvnQ907J3OhYXpwgaSk1kHz6mRezcvzg7q13v386mUwns+2A6tXXv1cVuVJaC913Hk3+zEde+u5madslUMjLLIRglLq0va2lKjLF57vBY9t3QuURMQAok6m8kL/z9a+KBOOsMEQPjg6evnnl8OD2D3/4g1Lq4DwBOudAEqOoPvJi27XHRw+6rsuy7N69e7VkreXlm916s5nP5xyT3XTvv/1Wgu7+7feMVl3rRtMLz37sRy7ffObevXtvvvWDqlB9YF1O9vb2Xvr0j1M5U0XVOXvz+o2PvfB8letppZzdKKSj+SpkVRdgeXompPrsZz/bt+3ZanV8toygV816dbo6WSyPVl+bn8x/9md/7o++8ftPPfWMi/333/x+VhTK6LZZX5hOY0rXrj/2n/5v/95//Q//r9O6MogYLWHISmX7RlGscpUpQcA7W7PM5If3bmmTf3jr1nPP3WzWqyqX1vW70/GoLKPzVa4+RJpWo/Wmb5veO24bJ0FBJGRR5bVru3bTYJ4c+0Sp6zpmNtJMR9Nk42q1qafbk53LRXVbC+ROFJRXMsck2satVy0nyLKM2WeZBo+u913f0daocb0NnEjxOQ6FQgipM5KdNEof3Lsvplvr4N9++92/LMX2zg69I6XOlJBaKmttBGxtr5Sy1jNQSEkZTURKKee8tTbLshCCtz7ZtFhv8oIikpBKKNBaS8LkrBSkdNb09sHB0WJ+mhvR/Ol3ydTlZLZzYW9UVr/95d9anJy4bnF2clxkucyy0c5FXY8u7Fz4/Gdfef3115964olrNx7bu3zll37lPyjLXGZ5PRmTHFTZSqE3bfP4s0+rvBBKhpggxpPD+986O2Uh79w92LRW62zdt/cODj94/11djo8OT37q8z/2/e+/8fLLLx/uH/beCyGstW3b/bMv/frf+pt/7bEbV4LtIbHrG8Ghs82DZYvIzCk3emdra1qPfO9SACkyJOl9EELMZjPvfSJBUgMJ2/VpHLx1Os9CV2x69+57t47P5hfqsbc+RW6arm+73Ki9vZ2je3MgVMrkOteFcWQne+PxqDqZL4Qw3ieBIqXEnFLwzOxCkBJMno2iMFk5fvKlTwVVtV6YeksonSuTG42IRV1JKaeT2c6F6xcu38yrydlicenqFU5CScnM3rmmadpNO6unZVEx9kUxEoR5Lp23zraC4mZ1Nt3aY1ZaKUgBWRmpEhIExkCujxzTbDJOpVTEWZYlxhtX9vJ64hiZ4HQ+f+vtH4LRn/vC577+e//uvR++pbVs++7SjccPT85eeOGFsh7rLD84PJJaTaZTJTQhK8S9S1evX7/+I5/58fWmvfnY9Tw3IUXMirYNMdF61f+D/+x/Px5NsryOMW7NRr/1lX/VzJdvv3vn0pWnUEkm6WJz/8G947PlT//0T//O1792ulp86zt/ena28NZP62p3unPSO6VLVFqX+YcffiiLSpnsytWbb71+UioUgoyS4+lIKnO2aWZXrt188omjs7PmbL61syUKI3OVG3nv9vtn88M8N8xeq1KJIs/y/ftvN826PTGbxspPSiMx+qSICLmNUUpyIcif+onPZ1kWAJXWi00z3dp6/kX9sY9/HJlt10bvkaFt26Ojo6worXMXrlx1MTHSz/z0z16dTrTWaKoo6MXnX2CGUhfPPfO0kMn1DSbHEXobHAij1NWr1y/uXYq+Re9HRe697fpg6qkpRlKboiguXdhr1gsjC8I07HqeTSekMpEgpbR38UJZFuu2JSKldZbnk7qiFc3GUxKaGa31ly5fOz49QxDT8axr26Io+s361W9/h4P/7Cuf/dKv/cbu3k7bbs4W81/85V/Z2b5w+87hj77y2S/9i1+/evXqYzeelISTSXH//v0Qwsc/9fLXvva1555/mnTKi6oqp8t1d+3q1Z/43OdX67OPfvQj1nbHhyeFKWKM9XTruZdeatenUcvp9vR01QpdPP38Rz545wfVaOSc39/fv/3+B/+Xf/gP/+Zf/5ViNN00rZRaa907x0I21oUQ7t69u16t6pya5XI62vKROhfRmNF49Njs8tHJ4v69g6SNUWoyrpLtmZm0iUjyzX//x3/6Z6/KLN+4/v7h0f/tv/qH//bffu2NH7w5rkdd1yCzMQaY1uv1s88+61xYbbr/5V/+K5nO/tH//b++cHGLGH7xr/3NS1ev/u7v/W6wzjb9ZrWsR7ntm0ILANrevrZ75UY9umj7lBJjknt7F6vCSElCm0i6dSFErkb54089NqpK9m61mM9mW33fN7Z3CUuRtY29+cRT40m93vTHJ4sbN58c1XWuZIgxkb549QYJVdRVnmXXr1xfr5sUeFyNXd/tbm0/fvOma5rg/NZka2d7dzp9+vtvvpESex/LslRKTSYTrfWVSxd7207GxXJ1+uab31ssj//t7/z2vXvv2c71vbt585krV28Uqvqdr/7O8dmREOLOndvO+R/84K0rV67sbG2DoNml3b3rl01ZPXXhGlGxNZvkf/VXAJIqRlvbF6KHs8Xy45/41PWbj1O5/eTTqj07Uia/dPHGk088t+ndR176xL0P3qoM8U4ntXz5R165d/+OqjK23dwHOR73RMv1an569vLHX5JKb9aNruq1tfLV735ne2dn2bSKxHNPP0OIF3Z215eWiFiXeYyx6zop5YgqnWco47vf+/7PJAAmPZlcuHipa1pOMB5Pb958vOu6br3ev522t2Z373wAhG3THZ6ezi7eaF3cf3CEyL5v7n349p0P3s5y40NMUqM00uh/8J/+7/6///yfKcRxWRzcvz+bzVwIOsunO7uXrz1e1/V3v/f6R198IUYWQozHU9e3EqDWWlcjF/xq08zn88lkeuHCbt/fmZ8eKyG3tra893t7e7HvSYqXX/k0QCKiT37ykzuzraKqM1P3ff/cM0/PZjNtZFXPpEif++xn97a2FIm/8sW/LKWsivrw8Hhn52pVj4aJ6VmWEdFm03jvN213ulzFGL/7/TcAupBiPdrb3bu2vX1ls7f7//xH/+j6jWtPPf/SpcvXXvve65/77Gd+8PY7a+evPvnS6elZ7DrnY54Vj914cr7YlPX02vWbClxo29nWpI1J5KUuKpd498q15aptgV548ukHt2/v7e60q/n2bBradlIUch5o/87B5cuXdV57Ru8FJ13m48lklGWmqirn+/Fk0nsnpBZaP/3Cx7cvXHAevvC/+OndraJZby5fuaFV4QMkxpg4IPcudn2IHDddW6u+DdZDiAL7tjk7Plq3jcoLYeSmW4/G9aXL1yIjkbx44cpmOU/ASklre+99ORndv39/uep2t2dvfe+741Gxf//oi1/84lff+P73X//OqCicc6ykLvKLFy/fu39/NKnv7t9/cHB04cIF5+HkncOtren7776tJH1Bf+6Pv/GHzz73dApRGX1wsO/C/dWq/au//Cu27+7dvXN2cjpfnBUZOWeB8ejoyLkwnk4Wm0W1XU8vTNveJcWf+PQnmm5TlOVzzz9PJJ968oWdnZ1pNarrOsW+s61QudKl1hOj6ad/5qfquty++Jg2xeXLl0MIzvUAoLWuq/FbH/zw3r17ZwcH3/rWt17+ib/0+uuv3/rh92uDfbu5dOnC0y++2Pft/Q/eX5wcF+XIeXZItmugazf791aL05Ozs48+/8Ibx0fyCz/zMykl733b9Pv7+weHx/P5cr3qTk/mzvcx+q7rRrPpMLD98tXr9/YPv/Qvfr0opxcu7nzw7n6z3vze1/9kPNmut8dKIcY4DI195pnndIHKaMS8no4Q+fLFPa0v2+uXU/9UinZUl97FvBrnVXV6Mq/L6pOf+HhV5JvV2enJsQBar9f5ZDRfbAgNMm1dvJiXxXQ03WzaPM+1yVfL9dlivnf1MjPXdT2dTGKMRqrg3OLsTJLw3j/5+GN/8uAoerfZNIcnJ/6NqCWdnJx89KVP3rh+c7Fsj09Pbt2+k1J68sknScgfvvPefH56cnT0d/7Of/La997Y3tspqjwC37p79O677/+VX/ilO3dvrdt1a/u2bQWIvrV9Zzf16J13figF++jPlossH01Gey9/6hPMrJRqmjUnmk2mWutf/uVfLkYT1Fs3bjz20guPZ4KfvXnj8tUrk2n1+Z/4bPrUR0RyHP2m22xduGi7breqT4+O8mLk1q0S2tt0+/bt1Dbetnf37x8eHu7fuy+b9dwYMyrrui4ff+KxFOHjn/xkcK4sS+YYYxRaEUofQ9u2o9EoRk9Ek9leZ1uAznsvOEsRo2QABo7IYJs2pbBczyOwkoUg6NfLru1XwbbNcnl8tF6ezs9OU0q9TyGkxWLxS7/0S7/2pX9W5plQcrPZTKuJlDKfjExebNb2V3/1Vx977HFnQ1lWX/lXvznd2/nsj/1ELoSUEpQwWbG9veOcI5IfefZjT13bN8YgcYwxz82v/MJ/0PVtJotf/Plf7lwXIWw2m0uXr2uVXX1szEI/+9GXvve971WTrYhy79KVB8en81XXuHT38MyjdPcOiMgHPN1/cOfO/YODo9PTEw68Xq/bpj8+PH755ZdnL7x4cHDgXeujj8DAC/NYuTg7uXv37uHhweNPvVjX0+VqcevWrbfeegukvvr4i3U1vvX+W0/euHTiuj999dsxFzHGb/3hH1ze2WlXy2s3rnvA0+Pjs1v3Mylm071ROWm7eO3SY/2zq9mkkkTPfebHUlb86E/+lPzEJz7BiEoZRLQuENFkMnPOCQKllHOuqirn41DdjTFqhSGEmGg2KW1sMy1dB8AUJbdtq5SyXT8uKyHwIuwxYXLIKFHIENmnmBshADjaMs98TCFBVY2stSGEn/yJL3RdlwRm2mRSNW3buB5Q+h76vicVN5u1Ednx8ampy9VqYbvu4PBBH8JyvV6cLrTWs9m2EOL1176HiLPZ7MGDB4g8n8+rMl988Yv/9J/+T5cuXxSKmq7V6vvlaMRJ/LN//i8vXbpUVdWfffc7yFBVxcsvv/z5z3/+7bff/tV/8J9NxiOAxIxame3dvdVqhYi373ywu7vbNE0I4fToVGt98eLFG9evf/DBO1mWBWSjy+RD0zS3PrxrcuOijkz37t4XgKdny/myQTW5dl1yhNu37m+Py9OzxdnZ2dbWVlHWh8cnzXKxtXeB182TTzx949OfO9q//+pr371w8aoS4uDwMALaxKt2fXzv9osf/9TdB8f4//rv/7GPYdhFg0ze+5SCECIFl1Ialn0NZDUlpFKqqqqusyYrEkJMve9tpqve+qzMrHcpgSShCAHAQwAAyYoZGEXC8y1WCkFKcs5JqRnImLx3XiKFEIQklBijZ+sZISKQMBxRCAHonXOjYmyt7zkCJiMExMSCsixL5/vJZd/3O7OtYckPETHzeDw+OT2OMY7HNRJ72w9LKXvnBSnvvXOuc9baLgXnvZufnZyenj779FPf+MY3tJTr9drZMBD1d3Z2RpPJG29+H5FDCOPxtNs0q8UyxvjUEzfrUa6zorHBZGWZjfYu7CB7oSWg7DtXFsVoVDXNuqxH801f1+NkbbNe3Lhyef/BfVkUly9f/PC9944P9tvF2fbutuV048b1p65cXc/Pfvf3f3fv4qW2cVevXl7Pzy5e2P7ggw8uXLqYj2f3Huzj/+m//X883PoHkJCZIQYetjem5L0dwG6tdQihbfvlfHH77p2f+8tffOvtH3bN5vLly8uz9dUb12P0kROwkFIKwmG1CSKWKosxktQMZL0ry7Jp11prSDGlFCJKKRGF1pqASFJrN0WmFQpABiFcSBIMAgsNwVlBpu+dRy7LUnBiiMOy6oFIMOyrFoBa62GtvLU2L0zbtimlPDeb1dpoRUTDhF0ASsBERASJo3O9lLLITG9bDnE0Gg27WxBFimCtVcowYZ6bEAIicohaZ0IIjsm6LoTQdl1Wjc5OVwAQvD8+PhRKbtqma23XtHmWeW/vHTwYb+1UVWVI3rl9a356lhX5/oMDn/z2eOpdf+PSBe+trIu6Lneq8Xq12KwX061ZYlJCjsu8LLKyLNdd/+qffffHv/AF/C/+m/+OiAgEMkiUSkoBIqUUOCilANF7HwGV0UopAiSG1vaj6eTB8VFtjNbZpmmNMT70iIJQEUqEkIAjkiRC7733CUAZDQCbzcZkGiBBiomDRBq2D4YQCAQiq8I06yWGNGw1bzsr0Dx4sP/Cc08fHNxHlFJn1WTsvfe2M1qBFD7YIq82mw0ijkaj4weHMcYY43g8TinFGK21Fy7uMnOelTGmGFlJgyi8tzZERMzzvOvW09l4s26Dc3lukKHv+8Ewzufzixcv5kW1WKwGzT4Xf4jeBURUQgxz4kNKfXCmyBWQkBR8JEk+RWMM+6CUIhTK6M4Ha227aeqyrPJaKNk5q5TKssx1vZGCOa5d50MKvW1Xm7rMQwgBsG1bCj6FILWezGZvv/t+VuT43//jf4yIBIIYBAqBctgKlWVZ07UhBCklCREjny+6FuLByXGScmt7WivddZ1n6vt2ZzqRSEB6uNMROCIhYqGF9z4lEFL65L33KKHdbAgSczRKp5Qyra21AimkyIKs7WajcQyu63spdVXOHhzcn04qaztB5my5KuoqcjKCYowhJR9DlmUppWH36r/7+u++8cYbk8mk67rj4+PPfOYz3/zmN//L//N/8cH7t/I8R9LeByEUM8cYrffec1nmiZ33HkEQyehtXdfvvv3em2++KbWw3htjXPDL5fpnf/Znq6oKITGzEAIYjTHHx8fj8Vgp44JNCJPJ+NVvfgsALl++3PW9DV5KMkIPWymsc9t7e7PZLFinpVosVkVVGqOapsnLMTG0zVpKQqWBhHdRkygkWWsDkVIKopNSRk7ex6KsnXNy/713g/MpASYOIQ2RBQCkFPq+T9FrqSSS7Vy0LiY46zaf+OxnoMi+9Du/fXlcC6S9azcmo/EffOMPBAEJI4QgYEQRCRKzi04ZSSQjp6azN594PEK01mohvbdSCExcFeWQs4cUkxIAablcOmuNMUbnt+48GJXF2dlZSqG3i7weNV2LiEGgEjolUpRjkhKxb7uo4LnnP/rscx/RSi2XyyIvrbUXL1xDMM88/aILzqcopUSQLng+X/aBUkpmn1Iqy3GKTAiIWJfby2X31JOP13V1/2Dfe79YLHa39y5fvmydB4DVZl0Uuc4zmWutdZblAAAxGaVFwqF0s1yvmqYBAIpQ19V8Pg+cLl66/PnPfwEg+K63XTuZ1svF6Z07d1584WPz+VwrmaII3pKQxuQpuLZxHCMLkTC4fqNzHSJHhtPT1Wq1wY8/fsM5FwMLRO9C0zS9dwAcYxzCkuQjMyiAXBhUct63v/qf/x/kePJf/h//85KTRPgP/97fW84XX/nn/1whoBhWNRIiBuDIiTkWdeV89JAYsJqOP/3KKyDOqVNaUEoJgLz3ggwI6qPNskxwIgYp5enp/Pat+//tf/Nf/YO//3fzPBe6+Ot/82/dO9g/PT3ebDY7W1ve8bCLZFgwp7VkEimFTGVa6yHlzbJsKKc45zy4LMsEGRu8934ymRR5fXh4WFZZ13WC9GKxMkrkWcmMk9E4eptSSAhVVaWU1ut1SklnxntPUmqtT09Pn3nu2ZOTk7Ozs6uXr3Rdp6WMfYgxuuiywgyevl83u7u7Z/OT8XR6Nl8/88wz8+OjPM+bvtOZcs5qrTNdKKWYo1KKiPq+r+pp8FbFoKXK63rTbrLCLNarmKAajzHx7du3pV/OgVkLqUhkkrLCuCAih6KubPTW2pSiEkopJVlEwLXrqjwzo5Ex2VN7W6cnR75prl++tFOXRiAISGnYSIwJgTmVJlNKrbsuIvnECkmHZG2XnEVBFlFImVICQZ6TABwXVdM0fd8Vec59H5v27q0Pn7pxc3F4EorcgzQoduqarT17cPTtd9/5sR/7sWHcqHMupsQQlTQM0vbe9r2Usq7y27c+ODs7w8RMrJRywSuZCyHabvX0M89VF8Xrf/aN3b2p1rosRm9+7/uS8JVXXmHG1WINFK3rsyy7d+9OURQCqW+75BSRZE/37hx/+9vfzmL72muvv/baa5/73Oeefv6Zs7bNpOn7/vDswXg8ksIw8+nh0fuZRgXexSyv7rz3hqS0Wq2e+8hLt+7c3jTzV1555V/+1tcfu37dRWdttzWeHB4eJha721vzg/3g7XgyO1ssdV4ExKyq79+/P65HL7/8shQxKqO1VEJJgYQiizH6GNq+lwTFpM6yLPrUrjeJvcoKkrKqRsu2DZzm7SYAD8CN916hVBKJABJKJFBIpKK1fWczKUHS/nL+8z/9U69+7/sni+WNm4/NV8vTs7OsyIuiqsfjzjrn3Ga+1ErMJlt9azeL+e7urpFGC2kQx3ku6nHw/s3v/+AP/+iPSABA+upXfnOxnCulGCnLsr7vpZRlWRBR27ZFUaxWq1/+xV9Mwd67d+/JJ58kogcPHiTXkdFd12klMm3ef/edxVntnIsBmPlzn/vxP/zDr+/ff1CWZeRgcr3ZbPI854GppjQHFkJ1Xbe3s31hNpqN6tooxVzn+je//OtVVQmgFOPx6aHO9e7OpTzPn3z88RQ8ysSlAJZHB4ec/Nli+dnP/8SfvvrtN9547Re++Atb0/rWh+9OZhNJ2KwX86Pj+XJ5de+z9+7fWp6eTMeTEBKZ4qVP/Yhlfv7Z5374wx8WRSElykzn62Yzyccn83lMPs/z06N5UWggee9koSXtVONKm3XbRB8SUyK1adaR4bi3Nx+7Od271LbdSe8en02b1XJclkJis1pTIqFkQgoQJCQltQ2cjyath0immmyx0MvVZjbd3dra0XmGQNba2/a9Z556lhFTivP1fPvK5cCvAwvJ3DcLnWXFqF639my12tneAgzLzToBklRN2zsflVLOx/XR0Wg0mk6nk8n41p19kurD23feeuttkxfT6fRb337VuaC07q27fvOpC5cfXyzaZrOBmAai0O7eJf/d7y5WrfV9SkhLijGulx0AMKeht8s7UEqMZ+N6PAkJrEuIePny5V//7X+tDKXAWZZx8NT7g/03bjz2GJH4kz/594zADNPp6DOvfPZrX/sD5+Nf/4///ne+98P58frq1aeUKf/oT35bCCCC4EEgJoa33/3w7/3d/+h//B/+hyordrd27x8f/4//7/8JpPjCT//sa99/44u//Ctyvm4Ozha7F7b7ELMiD1FYa69fv4hMWVGO+z46b5ebLiZpdBDU++BC3LQdJO6ZTV2rLO86i4IOFwtK3JyebRXlaDrpbBtSNDrP64qjl1mGEifTrUTieD7/4z/591rLvuusC7du3emcjSEJhLoqXnvttXv3j6bb09aefezjn3QhNk2nJZRGdyGEkISSAKQzEwKPx9MQXNvZsizP80uCGMvEIcZ4+/ZtrXHYOp4S5HlusqIeTZrNKjFKY3obEwMIabTSkvq+dzYQyfFkJsSHRVEAK4DBYQNAYohDXoGk+74nlCElKTUpTUSj0UhKMjqPgrXJeCCPoVJK1eMRSUSSzvq6GgspEQQAuwhZVavGt31kBKGgHpUAgFF6Hwl1262mu9uMoJTyrs+MyjVtfNy9uLverCezqewQvIBl34+UuHbpcrNe2WaTqUyA6Nve2V5JzUQOuLHd0aJloRJB5ABGISYhZQR2wbcx2dZ+7MVnZqP69T/9dhvteFzHNnSu08kiJJ88R+bkGbzt1oRZiOCts76NkYUymdJlWQLH8aTWptC5Pjq1WmtjVJ6bASGq6zqlNEQu+/v7zGE0qru+cTZJSUSSiIbNy0LifJhS4rh3djQZA8Jytdne2dtsNl3rSGBk6Pu+nowhhd4la1OIQZCw1k6nUyI4O9toLTjh+Y5tjsMKbURM3Afvh3BJSpllWQzMCUNIIYQY2VrLKTCzc/1yudRae88kAglsmsb2PREBogseCH3bdH2fGEnK5apREhF0iqCUjMzKmARgjFFK2mUnJSWXSABAZALZctq5uHdydLxoNuOiyqREnfdNL5A2vUUpIrCF5BM3watSbTY+zzNEBGujAEIUQiitiyorMhOA7z04+MX/9f/qd7/2b04Wy63xSBO2zTrLjA2uKARgunrlEguaTUbe2xhCSknpTGUGIkhJ89OFUiovap/CZDxm5pSS7XoAyLJsudkIIa5evXr16tVLl/fadkUCnHOZKc4RO2bvrTHG+X7AVq5cSZvNZjweM4MxJsY4Go2qMg+RN73th6OUcndnm2MY8r+jk+OiKJ588sksy4SQMTCRZI5wzlBPRCRk1rbtlYu78/ncWm+kGshEzz33TFlVKQEiAkcpZdt1SqlLly7t7s4ABQEOsfHOzs7d/YO+76/duHlw+95ivULEz3zmM33fxBgFZVoa7+PJyVFVVczQ9a0EyDNz88a1PQalBAA0TSPrrdnHf+SVo8P9+fGRUqoqirOuF8oIQKU4CuxcUFk+3drKfZ9V9dHBWV1WdVk99vQzl7cmWopu043H4yeffmpc14Bps0AWNNvdOT6c05QQQZLITRa7znYRER977LHHn3paEiYOBBA5KW2G5ciASavMWk/CSCOXq9Onn366yHLn3Gw227QNlkUI4caNGz/2uR+rRzlzTNGPRqPFfJVlWQhJa+2C995mmfbeD0hYnpdPPPn0U08/e3p6SiB+/ud/fjyqnI/Lps+LKs/z6fbWU08/naKXUq5Wq+lkazobA8et6bSzNoSgVXa+8gqTdU5KrWS+WJ5N6sI5x8yCFKLIsmJvb280nXAcFt+jlLJr267vR/Xkr/zCL03HkxBCCOHo8LBt24TUNM1sNlNFsWmbvKpnGFZrKYRwXciyIvpwesY0bGmPKaVARC5GofRqtfrr//Hf3rSNJJVfunrtwfHhbHsrzdeHD466vjXGEJB1ziUOAi5dv/HCxz/ecoiJj3aOjo6Oitx85IUXVLSLk9Ot6ez23Tu3b93du7C9u7N17/7BSx9J1x97/IN33u17R1IyY9u2ZVWpZWOUfu27r7/1zrtFrmLyHCMilnUdU0IAZp7P53U1jomklIcn+5PxbLlcppSWy+V0OvFZbq39wVs//NKvfeljL71QFNntWx/cvHnzG3/yzevXry8Wq7quI6fj4+Ms06NRBQC3b937j/723+q67vT0tKpGUsrNpr1969Ziuex8evbFjywWi8Vi8eqrrypJfd93fXf12g2G+Ie//wfj8XjTNs65PCsH+QFA23VKGSmypmluXLswrsbeRSIiojzP//iP/3iyNUOGEMKALdu+Pzo++ZFXPj0ajb785S/neb61tTWZTO58eGv/+Gyz2aybjd9s7t+/Px5N3nnnB3fvfWiM7hub6Tw32TvvvNN1nZSQ57kktD6cnM3vLTY7V2/cuvfGk089I/e290IIr7322oXZeArSNZtyNMqrsm16I1WyPSDvHz7AH7413tryIX34/gdf/IXxm++9+9Wv/NZf+tyPKqWstSmlxWJx6eIuJpxMZinCzs5eDDz0uJV1NswzcO4IQeZ5ubW1kxkRo4/B5Xk+nszatiWi3rYppd3dXe+4d5bmYm/vYl0VKYaLFy5vmhUABOt0ZrZ2d/I8L4p8a3t3e2fv0pWruxcu6iyv69pay8zjcY2IWmtrPQAdHh5//etf/w//xt8yWt+9e/fNN15fb9rOh49+4pNlWbJzsiyK3AglI6eqqoq8IpKTyUQZ3Vtb5tVDaBS02WidDZmlEGpI+REpJfDeF2VZ1zVwdDYoo3OTGa2Xq5UQSkr9zjvv7OzstG1/8+YTRCSlXK/XxhhgvnXr1s1rV6fTndX6LMYoK2VUZrQcWqnrskoh9sEXZS1xDQyZyhDE4eERPf3UUwKEEIIAt2azq1evkpJFWRZVOZBFq6pq2/b+/ftCqFE1bts+hADAvu+yLGMUIGUELoqiaZrFYtG1fQTYPziUUkqhcpM1TbNcLtfrdWaMUkYp45wbfCgzJsYQUt87RKFVVhSFcw4gSSnzrOy6ru97APDeQ0wcojHGGNO27Wq1un379snJyd27d4uiWK/XiBhCaNtWCDEoATNba2OMZVmOR9MQwqZpsqzQKiOi6L0A7LoOiAb/lFJCEIFBKWV0jiiGaQODFX04JAKJaDCSDzH6aIwp84JIKmVISSEEYAIgRiCCEAKjaHu3vb2rdTaAL6PpxDvX932mDSAiopIGgdrOElHb9kN/PCJ0TVcU1VB7EaRCSAiwWm4eu3ajbXo62j/SUkXvtVQSoG83bdssNsv5at70TZbpdtNg4rooISZiatpWG9NHD5jIZCwwIHtmRkBE2ztrLQu56lqbghCCiIzSSkjn3ACaCyGU0kiSpOitlUMoqdXQvw+I681mCOKtd1lWYGKIKdO6LEsAGH4NEROQ1BkAZVmxu7s7nU6l0AhiqE4bkwOQECpGJqmlznzihJSQYgKhJDMbbWIcJsbhEKQwCutdCKGqRn3vrLUA0HXWhWjyIjIIJWOMzoWUYLNpicg5J4QwxgyogrV2Pp8PuGjbtovFQggRY2LmPC+HA7HWa50Nl+P4+Hg6Gm9dvqCE9M4x43rdtG3LzE3TWGuzTG02myqvXNdzTJIoNxkBtG27tbV1ePBAPjg+ej6k3GTBua5pp2XtAY+PjqvRuG1bCBGRpTpHMnWerdfNsDoZEFzwjEIqI5Rsmub6J1567qlnXv32dzJTPHbzie9+4xsAEKMfeGMCURCkNGyt76uq7K3VWZ6XhXUhRdhsNkC4WG9ms1lZViGk2Wx7EHCIbpiuj7kZ0rIY43K5TCnYrvvwww+HSsVm3RZFcXp2nGVZ27ZSykHY8/n84sXLiOisn81mbdvGyHmeb5qF7ftrl69ACG3bakkklFSGE8SYVquVMWq6NZtOtwbGwnQ6JaLhBEIIdV0nZillCMFbJ6Vs23Z7exsFETAiaqRMSyMFAITIHDyRTAkSY4gMhHlR9G1XFtnpwf6777798kufOjw80NJMplv92iotcq1ms9nZ6UIIYb3Xo3rIcbVUy8XZeDx+/9aH8sWPfhSJYoyjqgQfzk5OHfAoLyWJPnHkQCQGXw1EQmoiEUIcjJsSMqoUI3etBYA7t24d3d0/2D+8+dTT1y9f2prNrLWlLEgAEQsCImBkIGaEB8dHVZUtl0spydnEhGVuBNFsulsWZQi+6WxnffBxIHMUVbVqVsO8jTzP9y5cuLC3E6NfzueXL18+O13keT6qrZTy4oULy+VSaiGlBKZVvvI+KqV8iG1vp0gMmJiHUjYRbTZrIK6qggB85JSS9a4ejy9dvnrzsevrZuNWK6nU7s7e1u7OgwcPhDLW2rIqpHQp+YSQUiqKggia9UrrzAUbUxyousrkAiIzdF1v8nK2tbNazoGEygzRAPosR1UttbFdl2VZSjB4zRAaKaXWWilzcnK2u7u3f3bS9y6vklBUlFnft1uz6dnxsRxvbQdOjEBEXbNGH2Wek1bMIKUUAJ4ZAKQxQmkf4+BgmBlNkanMdQGARtW4yEpJ4uLehcl4NpnMus5iQgRAYkQcZpskYGaWShljHn/8JmC6xe+bvLxybU8pxSG6GG7fuSdVqKtS6uzu/rH1YSjbSimZ2fau7/uhLlFVVdc1w/hXRBzILJPJpGmavu9lVErHPCvX63UIIUUWQimlEkBRFEKIGBkABGCz2cAgUkgpUQqhaRpEkRIDisTIjESy6+xisULES5cuvfvu+6PR5Pj4ECF5763tZ/Ukxtj3fZ7nqYuSzmF3IYRENMYwihhZKd20fS5MTIwklVLr9XIyGYXoVqsVMyhpkMhar7I8pYhEiHhyOn/s0oXI6IInqRFxvlrrGMsyXy6XcrVuqlIXeZnnJetOCA6Im3WTFSUzs6BhmTMAxAQ+8ni6paVyvWXrISZiYBd8bwlQIlVVdev228vl+vLebnC+NIpDZOaQIqOInBKAEAqleHB8bNsWUFmXzuYr55xROoTgI3Q2ADdZlpm8qKtxSsm5fijEe/ZG6TzPz0fhdFarDEEwc5YVrrfBxeATAORZJqVkxq6zCKS1ttZ21keGvKw754WU0TcppVFZZVnOzEJQpjOT5ymBMtoF3zsHgCFxAmSkFNlan+W5yTJltDEm+JBlWdM0gkFIHGLgTS/y3MQYm941TecxpZS8j5G91JpIGJ1HRpRCKdV13R/9wR9MR6P9/Xt/9Ed/dP369eVyOduaLNuNFORCnEy3Nl0/me5Y6+u8br0VRme5SSRG4+nxgwcyKwug8/GyoFTwfeccEvkYrQtaSzKKOHkXXYi5FEAolE6JIcbovBZKCBE4+Rh2Ll0goXrvdJ6xIABIIUYShAiMSJJQRsYEmCJJoZOBzWpx4cLFC3tXtNbPP/fM7//BH627OzduPGFEWq5Xfd+fnS2Y2eSZMUYIoQQNsUOW5UNAf3J4VFXVwcHhUC2JMWZZNp/PhRBlWcYUBxdlTN53bogkQ4zWWolYFEXXtH/6p39almUKERJw8s77ddMwoo8MAIwIADGy1lmel/v7+6dnc2Y4PT0dAhYi2t/ff3+98d6fLeYDyYhZD2i49c4HFyMv15vdvQuj0aSzVnsXY9Q665xN1jfNGhGNMQ8ePLh69ep4PAZB0+2tuii7dhlSPHhwOBpPe+t7502CzobA0K6bGBMwycSIiANHIWvbnBQIQUKGxEwIgmICF0OeEiICyXsPDtddq4wWRU5E3gcUsh5PAsGya47PllGRJ+i9U3lmm1WmMkQBkBAFM8bIzCIxJRCjyVbTdCQzIEXSjMbb063d6myVF6WimPlQ12OVmbquf//3fx8wDWDbe2+/c9SsrLUDJRCAQkiTyWS1WsUYL1261HVdVVWjUZXneUwwnU6ttUTEMQ7qNWQsHPygQP/233wNmAlRCFJaG2OGeM1au24aRGFMTiQPDw+X6xUQSpSr1UprjZwGdHTDXdd1eZ63bbu9tXvvwaH3HgC0yjJTMHKe582mxQtCa+197Lpu3WxICKWUdREAGtvYTQcAKGjVNJUfA6RN156dnjTrtm17AARByuQklQtRyRwFHR2evfDxl6WUkpMPIQmps4Ki823TqLxgBGOMzkzTts4FkkrrDACkpOVyfnh4GJ03Ju+65eHB/jsfvlvX9WK1vrCzm1V17yyO6gTMCSIjAYaQkDh4jgEZCACm0+n89IwYjg4eRJe896+/9l2Uom3bDz94tzQyMrRNx8xVVX3ta1+bGAghoIzvvf/OadcRUQgOE1vbDdhNlmVkssRhNBqtm9VkOu26jkgw4TCRQihlbWc7VxRFTIwonfdCqWpUu+BtvxlWI3jvh1yCEYAEM7WdnUzyLM9TSqPJTCm17nqVF/PTE+u560PklGXZep7mp4vRxcvrTbfZxBhjYAJSwbqmtatNs1m3RTl+9rkX8tFISo1Io9FECjOfzy/tXYBd8eDosLP+mec/IqXMTBGTv3LtqmRkB8rkrbWO43y5unrtxl/62Cc2NrjATzz5jBxoEkKZCNhHTJFJihBdWZYklI8RhMwLlSI0TZMX1dZ09NXf+nJjXW5yIpFSeusHrx8eP7B9u7f92Gw8ee17bz773Ec4MCKRkiAoIgPJBEQys94nTAnSwcHdTAotOLo22i5Ep3Lyvk9+Fdo+iZqEDtEnH5SmMjPJdVJkSYgyL47aNnCSlBL7IjcxuMwoZztAFC0AIhO2tp8vF1tbOy99/ONvvPFmAo6ui85D4hR4frKGFABgvt4ACRdD1wdjVOtaALDWWmulzlxIi9XSWnu6WLpgo/cghdSakVbdB0brGABUDrSRUtquDy7u7F15/qOf1lJJKfOyICJBoLWWKgdAnY8+8rFPxRiD9Tvbl40qhBD37nzwwtPPWx/efue2zotP/+hP2hC01hLRu94IYu+Wqzlr3YUoVFSAs929KmHTe0AlrbVVaU7O5iMtC+ZZWZIRbde5ro/QucSUZcyYEOqiREiEvFqt2t5LKdu+z4qiaxrn3HSyde/evkT5oz/6o/P5YlqPSep1fyZFUgjAIkYOIQxzpQDTzvZs/+7dfrWpynJ+dkRSkJcsIoMvykoIsWnbGCMTAqS222xVJZIkIRhBmCInYaN1rVt3ruo9ADEpF5xdNpvOz1dLkPp4ubp3cPLWex8IlGU9/tjLP1qOxsDC2fiTP/Nz43HtvC2K7Bt//IcXL13u205rDQAuxNFkZn166ZMv7+zslfU4paRIDNGKUAqVZiRmRgYIvtLy3/3rr9i+KXNzdnZy8eqNVpQDkXVgUacUBGKM0fWd86npeqMkCQJSRTkqy+LDDz+0Pk0mswcnr9oQdVkZha63ARImHYH7xkUfAQUqExPZEDfrXuZ18H7TWqlzfbaYf/wTn3j5xWd/7ze/vNlEoWVMgSODIIkkCFddB03jveeum862SUmZqO2tyvLVamVdYBSbxt64flVn1Zd/+9/84l/9a+umQ6mU0UWRJ2cTM3IkSFoqYujbru/7n/vZn/3et78dQrh69brz/nR1Nl8uXOImpE23XqwajqmzbeAgtPQhtL4zZnLWNO/fOVjMFxD6alRt1m3AUxJiYNAIrURZT0xd1JOPXnliVNVCyclourH80sufXS6XnYtCwKWr1xBSCp4hMfNj1292XQcASJIZOx+Pj5dPPf1RkxfWR2Y2UkmpzxniKHyMgMAQlDEx9V3fA6asUp3vVtZGk4E2vu8HXiQgxpjmizMC9hwTAmodvWva3gfLQgYUuqg3Lown26t1q6JQyqSQgrfb05nvNkKocjRdte3Mb0WBJuoHB6fblzLn0s72RekTjyaT9z68NTJKaqW0mkwmR0dHSCCIUEsXo1KmqkY2eM/w1DPPvv/++71zkbHv+xCCDTEBep9MVhbV+PnnPuJjqgo18BmdC8k5LU0ECpxWm3Xb+xDhR1753OGD+7fuH+5uzz64e9B23d6li5H6cnyhGo/ron6qqlsXZ9Mda30bXVYUCThwAqTP/cQXXv7Mj3EIq/mirmtm7rqOCQVg4CSlCiE454Y8ZKh+uKP56fGZ1rrzcVwUzWZt24aQBQKhjDEiCgZICaTOkusXm74azUJklWUxRkaKTDEyMDJCjJDlOSfXd+tCCWOMi23rnVA2AhMK68OQ0Q6lfuQohMiNPlzOpaC+aUNwzrnEcdM26/W6aZp6PDo9PRUCi9zY3jtrqzzbv39XImRKuGatyCTgtukdn310PCrL0mT85d/6bRmY+00fIhwcHmVCO2cPDh6UZRk6n1LElHrrdy89cePp5x1T5NS26872zz777CuvfCb0nTRadraux9vPTxH56OjMh1TXYyFACDTGMCCDDAyN7x0TqOLTP/6FFz/942dnJ5cef+HvvPSZEByS8ikyECNkWRact12vhFhtWhI5g9BaFEXhYoiua7qGF4u79w+Cc0rotl+lCCEEqRUBuuBT6gb0Oct033WIOKpn6/Vya2vr8PDQ5HlIYJ1XeSExpuCVMokxMUoprU/A5BkjaOvBhqCQY/SCSICAREQkSAJS23aEKYRUGukjupCYBEktEsrI1vWSmZkphBQ9QjLIhSS7XuXjOnkfbefbddt31bhWyKFvODO5IdsulRRt10Piw9Uxh5hS2HAojBxvj8tJpRkSim9+6w8C0Hy5QkQJETjy3//f/Oqtt15/9Xe/evPqpWXTtp3XKBhASJVcLIpqNJocny4SptFo1Peubds8z13XEVFKocyLx29cDyEUWdl0bQxp07XM3DlrZCGUkVpKClklD09PdTJd4MnW5c1qAbyJMaIMEVBJEzmtmrUkAQGCABLG+kAkrfNt74QQUsoUokCsi7rj3vvoYxBCKJ2jII4JkAWBVORdT6SyvCbkg4ODra3prfc/qOrCx9h2GwAO3na2U4JSSs65rjuvBnAQg+6GEIZcM6XARAzMkYEjgA8xlmXJyZVVnhmBgiIgKnN6tgrWcUihd1IRxuSjd7YjTsG75enxG9//nhLovSfCFGKMMSvMycmJJiR1GwC+/a1vClNIqWOMQyB94+oVwFTVW3/jb/9dJaDpNjGlANS7cLZYFlUpwaZ22dzZ3Nos25hwvt5k5cinhkmm6IQ2JpEPsVm2tnORg6BMCJHnedM0pck2m03XddPpVkrQrFuOKJQUKENgIbEsy4uXrzFH27d90++WhSCVZYXbdLbtiWhoW+m73oWYjVTf9Z6TKAoplfcekCMnqZTrOpXnSBIRy6IolHGdC13QSjWpA0rA4PrAMTKSAEQUibEboDjC2dZO17c6L5hZC9AQyirrmo2PnhPkheq7pm2aFD0JZYTIJEj0ZV4HBiAVOREgMkcfOMaUAoA/OZl7b5WEuWSUIjKYojap+86fvepZtG07dG/F6H1vSaBAQOLZ9lZutMm0lISISimpzcWzE0Nye3v79v7+hYtXVFYhEqLoum5UTxDx5PTo7ffvv+1u+X7l7HI6nfTO7166bIz5lV/+JRl9UEhamlznSikAijEKpQnJ2x6cFdogChu8lLLrnYpsfRzG1rZ9J5VJCZz1fW9NnvuQIqZ2uc61sD5yii6EodK9WCxlLZt2PUYikkJgWYy923RdhyS3Zjtt2xdFsVitUkiBk7MWEENQQuUc7brthMmRxGbdYLGC4CWg7XqUDMDMw54D0kp6733nEVErWRY5p2CMwig/OD30trftMkYvhABkjqnv2+j8nBbHh0cMJITIq7r3sXN+PJkuNk2InFIiRCLCkB5BvpE5cUg+cPLRxa5Po93tS1eeOj0+MUXFIQiZZUrqsqApZll2785trdQTTzzhXJ84Nk3jvZcmCyFcvHSFQ2ytvXz58qZplut1ZPA2xBg/eO/d3vWj0choeWF7a3ty8bFrF5gDSqW0ZuZMkkwQQRAixuQRQJGIPgJjBNbaWNdpaWwMJs+W9gwkyiyzLjKIxOSZEFiavOl9QqWUZmIGYEi98yCN3azPFnPbbPJCaS33D+8Zo63tgvcpqRBaxJhAhgj9fCmECtFlIrObvshKiSakaPuodN7ZhnRp06kSgqSQiowRETCvCsa02WzKvFz2S+a0WS+890P/X981IfQE3Pft6fHJYnnmbY8oEnAIQWcmxqi1fvDgeHt7NtraGxIeFFSi6PvWHjkQxMxSSi2kVKy0QMSh5ie0GdD2Mss5pv7aE0qIqqqm257xHCLo+77ve+/dPJ41Tee9f+fd9xli13UDFh9C8N4LgZqkVEJnqizLelyVeXFlZ1ZV1WhcjSaj2Wwy25qM8lIKvLSzh8SAAgC8tzZ4OZC9rOvWTdP3fZrUgLhZb5AhKwxJ0fV90pt110RIkdNisZBSppRs3yklvI/NerO1tQUcre2sC0IokmJoy/MhJRAuAbikiqw/PAshSIGQkpQcOaToSVCutBAKmSCxUSIqjNGTAk2KiEfTyWJxBMrIosyMcYnfee/tiLLv4nw+11pXVbG//6Cua6XUQHlijsYo5ASQEBIiayUuX9pTSkmhmFFIzQgqM4h47cZmMhlVeRGTZ44DH4JRDBUSIUSMMTjn+s71NqaQGBPhcnEy9Hk1JJ0NbdMkHxB5sV6F4Ky1Ay1KSpnlRik1qUd5kU2n49lsNp1OJ5PJaDTKsmw2myilCm2UEihgWFpGwByjEkQSIyQhUUqSgDFwbxtmYE6IyBw5Jdna1oVQSKkySUJYF4QRpJUgssEnTqDF3sW93Qs7he1Wq9XOZPb2G69pjLPZLKXQdbYyItnG4IyIpCZlBKHikAotnDGni7WUmhOnPpq8klJORzWiSCk4F/u+bWzf2d52vW+dc/1qeWoK42xsO9s6LwUmvzlbnHpOQshmtV43R71naUZVORlN6qrKtSFSu0qpZtMpo+t6qygza21VlMYoAmCOcqBdxsgxpQRFUS1Xq6wo122TZ0WM/OD4yHZN06y9dSEE613btn3bdV0nkJQQAIwMDJExDS2JQgullDFmPB5fv7a3s7NdluXlK3tlWQ5CqqtCKSUAmXngtA3XYlg6QCBQEEASQmhSRJQwpeQTMAJjEBIpcAjJh5A8YmSIEVGpGDhxQOYBtcef+fm/4W0nibrV6d133pQEphrXk3G73nhvWaTG2qLYSqRbZ2OMAjAz5sqVK9/85jfLMk/Aly5e6btucXqGEmOChAQsSqO6xREhj6a7fd/H5JCoD2nVOEaNKLIsU5q01koLktIolUltlJASpSJCTVKZsiQCI+nBgwf1aHr16nWEmIAjCKnyrnMA6Tvf+cZ73/vef/Krv7parbIsdzFE52/dvf2t3/v97cuXd3Z2YoyL+WnTNMxMgBIwhCCFXsznuqwjp4FtPBrXO1vbly/sTWfjsixns9mlS5d2dnZGVa21LkxmjJFqQFtihAgAUgshMAzW0Pu+b/u+D8EzxKGkKgAFgUAiooFMjIkfcXAIBCKG5CExpod90SINgmGfBoqJ55AQiIiYOJFLHDlhigAsBlby7t6zPljvbZXLUWakorntpdIILIC1kZt1iyw2jVUyM0UeBUptHtw/fPHFF3vfAUCKAInzQhGRS+xC9H3MpBSpLzJtfVJGI0QhRD3ZCkzKFMNUWamEkBJxIEiDEaQJwUfb90qazroA7L2tcuWcW25cSqlbL2Ly666XypDStm2QnZFiGDhIAqz30XuVqSovYoyIUJbl9tbW1tZWWZZa0LXLl+q63t3drUbjyXSrKAolaXCCrrdd3wTrXAyDJ3PO+RAYAfnPGVDMzAhaa+bIkBIAAQznPnAbmBkHulti5jj8t0F4APToGcAIyFICAghWAJAERvDDv0o8XwYScNg0RQDEiaTUiCgRxMNmc/yRV35+58KuNhRtx862fbMJQReZJsnRp+Dbth+VI0JlTB4Zm+j++N9/4+knns6ybNiqcv/O3dFodOnyLinSJjd5qWSRSWXYITEK0/YNpLi7u7tuWuejiwkAbNvE5K2PLnjrY/Q2ORu9Ewzr5SrPS0As6oo5crAxDl5JYbJCMCkpjC7LOsuyS9vTIssuXrwopdy9sGOMqet6OhsDgBCotZZSBueH2AERV8uzoR8xJbbWCiFSigLR9d3QJIyIjOcRv1AKESMHjvCwrQJ4IOSnmFICGHSFOKahVORDTClxSilFRCRAIkJiAefd/ZGHByAiIQKDRxSUBAAwAWNiTMiUAgsgJkABSSCCABAIIoSgBCpCAobEAICf/PxfY47WNWz7UgijdFDkghcJlJQQQ++dlBpJVuXYFFlWKud6SWZnZ6cejdbNxltHAhL7ptusm875FDyyC4q993bZWiD0fReCWy6XWzu7iOhtT8BEMOCoxhilhCYWhNpkw1wNIiyKosjV9rTe3trNi8lsMq0LqSQWVe5SjJHrerRaLDnwul0PgGQI3no3VLBDCDEO53jeIE+EqAQip5S0zkIIkhAhMXOuzeCrAkNiTCnFxJwSESIDIg2nzjz8VhqIIA/5iQAxARAiSqOHHyIyACCn4QVEw88T8EDKQhIkMHDAhByQGYEYBAhBkggCEhNAYuJEzAmQJaBgEYlAJiZIkBgRJRF558q80GXlV03TWFlkwcbIEIgBQOuckdrekvJZXQLABx98IFDe+fCWDT4vMwKM0SOHpm+sdyikolyjqHLJzDuzsc4zLYgh1uXI5BoSjkaVUZRl2bAoyxiT52ZU5MYomZssz1OMzFFK6W3v+yZGRlKb1RkEkdjFoyiUSIC3PrR1UdvOmVwLIdpNg4gmMyG4FD0hCCWISNAw/5EjM6ph1DgMy/JiSoIgxdQ0jRACpRoOGgglCSLiFIHjoHqDtXxkUYe/ppQgMpAajCREGDwl4qBtgIhANJAcgVDg+RAYAOAEiEIIRBQAlCBG4JRSTEmhSZxwMMmJISEDEgJHiMGnlJAjEQkh8Ec+9XNKSQDwwQokY0wC7qwlkgOjEogAEAjzrCzrgiGsN8uzk9PVahV9EAIzraSkssiuXLn09JNPXLx4MTc5wDBfRpIRWZYVRZHnJjeF1AKZYvLMPDBLh+8To48xMicfAxEMa6HOVee8kwiJiAATP5wpA8ApSZTnxgoRCM+pEpgAxaPA4fxRiSMnIiABhDIBxyFtH3i4DMxMD03lI42RCpjj+bQIpkd5ITINMPpAQ2VmRCGE8CEoPUB0aejL4ZikImfDOREQIJ0HNYjIJIfWdhzcJQAMWosopJSSREgxRo848AglETHHlEKKPg3m+pVP/SQRCSUHbnLfdy54AHAhDJIb3lgoNdCot7ZnVVWcZzZVUZZlmWeZVloJKUlJkkgx+uC99y6lNDxtCKaHRGoggiqlQggDDDi8hBBSUkJIKQydQcMvn39tZiEE4pBx4tCfxswKKaWUIieOkQERiAQQOOcBGM51QCDCkE5xCufWD2jwXkPEmEIcwpBB6uncQnLiwJgEEpIUREOAMmACD+VwrppD7woDkDh3nAN9JsYAAEZpZh6Ed/51YZhJwA+V8vw5A0V4wB+cc871A3N8OAfv43BcAAkwERE+dvNpIiqKYjabTaeT2Wxy8eLF7Z3ZeDwuy7wuqzzPtZHDhUoRmq4dPnqMPoYQQuAYEwcO0XvrvUdIxpgyy7MsIyW1KWOMzrmh9pQevugvvB7eOySiASpC+HPhDd/Qx4CIw33nh9sT//xRKJEYmBji8KcUGjBxQsCEg1NhZI4SKeGgasND4vAQKcS5yoIYxI44zL4iZsYUE4IAjJAwwYCMP/qY53VsgEE6zPzoJ8Nfh0SQOfK5TUEAGqzCw8M8/xjMPIRIMYSHUS4MRxFjCCEMbfHnTXKDArz6Z98d1Ctx6LqmbdZd13nvvLfAPAANyQeGCACc0JiclMy1MkVeFIXWWpFAemiymEMIfd+3bdt1nfchRE4Jhu8wkIWyLBtiv0ffc4Cjhpu72rQD35eZh+laQ91AZ2aIEv5nwT3zcD2FEEiEADGl4aoP4h/u9WAqz9XLh/NDPM+qcOhXOr8ZESLzo3cBIAGDQT53b8N7ncsVMeEQKKVHHPNMZc6dU+V674AJAKy1Uj1MJwAGW/JQYEMSkoB4WOEnBAkhQogSiZmt6733zDzIUhqplBqmTilptNb4T/7JP3n4BaJSahgOZYwGTBJJKWWMGm7oYAmBKaRou365Xq1Wq6HYTQTMQ5V/aJlQeX4uYFL0SGAppb7vu66z1va9G3CKh5DY+SXQKosxOeeGJpXhaUqp3tnzIIPoHJVAROIUwgA9I5EkJZTUUpEUAxv//KvF9Oj5mdaQOITggnfWDz6MiAbDiJDOjS8yQAKgFJlIDuYgJWDmYTDZI0vwUCqDakfk5L0XJIfvK6UeYmN+lCGex8Y0tJe0bZtSIOCECWII0QGwEJITjqrxdDqtqirP84GTQAKIYMBoz1UZAL/9778ROCkSQovkw3K1GGjRzNE5F9x5ppk4ANMAGBpjyrIsy9Lk2aAEg2lKEQYPH0Lone3b3jkLmAYD+8g9KKWklMPbp4caM4RlzCxIK6WKohiNRkVRpJSapmmaZr5cpJR4QAEAzj0KcQphUKPBSw2EcQDo+x4FKSEHXR/OSyD1bSulVEIhETIBoRBqKHsNbonoL4oQCBUTYuIIQ7R5nkgApME8ENEAOgMACUCIybuHZLjIzMCYUtJaP+QNnZvN4XPOZjMpqchNVRVFkWsjjTFZlmkyISTnwoC1Dp+KOSIlgCQkPjyxhF/59X9hvY0+DGH0kA5rrYf5ckKcmztEjpG9t1rrrus2m41zbnD/LoRzJwcwuAEppZBSoERio8WjQOaR0RsCzvNjFWIQ6hCgc6LBcQ7xqrV2APXP4eYUHzmPwXcys5RCay2UFCjiQ19rjEkIxPDI+w5HZqQZKg8ohQAcRMLMSPQXLeoQhqTERJTieUeaFAIQB/wMEYZ7KaUEwOATM0tFnKxUiECIqEgNxkJKSYjDfquqKrJs6E9DRNQ6Z46SkIhi9N57AJJCuT4OnlYIIRVISYAxcojJ9b5liIgpJtvbRjLycNn7vmVISmUAsNlsSApEDGHd9/3gcqIPvbN/HusTKXW+v2twuMN15/MWMzyXGQASCyEGftjQpszMA3w1lMudDYlDDPwwTB88NvyFN1LngTHIRyo7yH547NAT4X1MzjFzStA03aNwCQCFUIPIo0+27ZchcExIfH7bhAjJP7peckgbUA26zuL8YxChc65pmq5pyyofik1alUpJrQaaudKyLstCKT0ITAhBKLNcCzxPQlKKApkJiRMAR98yM0oSUkhKSCwEaI1SM1EKwbXdqp2v+tBxtBHC4fGDVbPqbet937TLxWIuGcmF4JwLISkthjoREAqBAKCVULIYvokqC5RCSfPnRk+IIRWx3hljBhQiDhhHCN5ab633vmmaQRGH/tuUkrX2HMpiTikhkpRCSiUeEtEG3/noCg9NMEMcobUeWnMAQGtDUjSbjpmHBtVlWDZdq5TKtLHWxpgiJG8dIiqlEjAKSgBDtxYzWxdi1z2Kh8/fQgkjH348hJRi222EwJTCeDwe1WZvawJARVFISUJimedVneW50VojmL73fzHOIpQx+cQwJMFlXXEKMaU8GwbreanEej0/PD0OsRUSNt18tZ471x8c3M/r7ODgrg/tplsG32/atU2uruvg03g8zfP8ws0Z/uaX/2VIEVIaTgowERMiez/cSqTzzcspxsgJq6oCEkMMOZxj9MF6t1mtQ/LpoVfihzl1Z31KaZDKAHQOLZyDkKRUQwvWIDlEzPPs0VHiOaDFKaXNZsPMA2Y2hEWDeRjCa0Sx2axCSFJK59wjdX8EqRDRMIUQBQVOEinTRkszaLNQ5H0831zPARIPCGRKYd1siiKbTCa7e9uDpDNtZrNZUVSZ0jH6EH3XNUIyMqMQ7BUKrbUkIuf6wHGYUlVUmfN9OSrfeOO17Z0t5/qjowcx+fV6rYVo2uUHd96t6syFPrFrmlWI7nR+cuHCrs71plnPtsdVVaSUEnJnbbPprI3zs9XR0Ql+5Td+DQQZqYbML0QfEgPwue8JcWhNGhSCCc+nfAAMnlwpRQwuBkXCBuecjzEMqpNprbVWxhBRlmVa6wEaHN5oWDc86GsI51W0ENxyuYhpQGrOoQrv4qOu6wGtfuQ7JZFAis6jlMwpJj7P2KSwtldGD7GP1rooCp0ZpZRR0pjcdv3BwYPNcqN1NswRBRKMybm+bTcxhVFV7u1ub03H27Ot4ROWRW1MnmWZt92wylKK8xk33kejM2QKiZWQnW1TCtJIIaM0QqrI5Bq7+ldf+TUgv39we7Jdd/26adYMKfSRmcuydDHkeb5er6typLM8M+Vy08SAq3V7fHy63rSnp2eIOJmMB4x+uWj63s3Plvivf/PXSYoYY9d1QxQghXrk5IeABQBCjNGnkKIxakiZY/LARAI4QkgeGZTRVVGWdZmbbDBTg+wHfnsIIcb0KIcdykODrgxAV0opRl9VZYhuaCs5j6RAMPOw7nII/IZ4veu66H2mDYcojamqcpBTWZZlXUutiiJjBO/9EOMN5VlOoW162/e+92dnZwf3D05O5y6GmNJ4OtnZ2RpPRrnRRkstiQCMElrrgY3OSQzTFUN0AlNMQUqKyXNCAFDKhOC0wXKkhcDT5clyedr0y9v333vn3TdJxXWzDNCjjFmulpu5tZ0xJoWAIEhmIXDX+jwbxYAPDs/27x+v1p2z7B1v7VxYr7vTszkySUkk0AgtpZxOp0PNbkDMgbViZqEEMyfvQ0rMnAbFAZGAGYExWd8DMidgSHA+DhoiR6O0j36xWqzapcBz20VEWhprbdd1g317FOkIIR/GCITIiIN/NcyJE3LCEILjh2n4w8RrsLrj8XgymQzbSwVQnudE0kU3xIdSysgxz3NEXK1WXbNezhfr9fro6Gi5XrW2Z2YBmKKPvcuy7Pr1x27evFmNR4mZIQqkTGmtBEUMwelcWtul5M4zPN8DSmUMAUTvZSYFhOmsitFKxZ1tWnf0tT/+d6+99l0bbJZpFIACpBaH85PdC3vLZdN7dzI/UUbPZhfzPEOKKaXoZfDC2fXtW2dHh8vecopqtbJCKEBcLnpB+ub1p/M8/+Dd91Jw1vezS9tCuE2zxN/40v+HOZI8N02PcmqS8iEbGoBQSimFJgED9P7IwTyCwR6BZ8wxhGR9H1xMKXVNW5ZlnucD42ZgLjNz1/Xi4WsQzOD/iyKXUhpjBnCgKIo8zwdXOjxheKMBExh84TDJcrPZLBbz1WqVQvDWnZ4eI7NzDhIPSOHwBcfTyWw2mU4mVV5MRmNdVb5rj05P8qpkwsjJe59CkETEhAQoILATCIGDMYYIBvs8n891rpUS9w7uHB7de+PN75yeHXX9WYCFUEFoxZys7UIILlhr7YULl1wMs9lsNt1OKfkYg0/zxamLm8l4Nj9rX//e2wTl0eGybTyhXq1clhERjerJer12zp+dJiLIM5jNqvGkeuKJG4yuadb41a9+1XsbQgJIQ+RCBFIK+nMVwYcBypCTDRS8FB++zi1tOreKA7ggtcx0ppRMKSGxtdZ7P5iyUT0Z5g4MCeij+HbAP+EhVD9ELsPzmXm9Xg9yGuZADDkJEcLACozRGKOACGBSVVWWQ/BFlm9PJtN6NDRypBiDdc16NZ/Pz05PB/JjVuTFdJKP60BQTsejrUleFkwMAJgiMwdOUpPR1PtNgO7e/nuvv/nq69//9qZdoWLnepOb2WzLe39weGxdt3thV2tZlrnJFAArjUoNSEpSwzyMs2VVVcM4JSFEWWfWetvzZm3Ho+07t/dPT+cxxmvXrly7fiV61/f9++/fXq+aGOHatWsoYGt7u67rYbpL3/f4G7/xGybPJIkBPRECU/TWWiWImaN3Q+ssM0siFGKYZPMIBHmki+IRTIzIQ5I+OELXEVHyIXCSUg7de1LK2XQ7y3We50TEIfbeBRtcCL1tY4y290NqH2NkiJwwz3MBhIjGmLzIBkELIRLhbDYrtKqy3EghATKSdrORgKfHJ6vFolmvhrVTeZ4TpDIv1EMoQCklM5ONKl1nssgScZScMDIm67rVarVqVqvVatNuNuv57XvvL9ZHbTef7OT1SLvQ1aP88OSImWPCsqyB5ZWr19brbsC2huIxESAk53ohkJlTjEKI5FOWZUbnPlgm3jRdpkupzHK+1lpvzXa0kcyh7TYchpIISqGk1KtN29kBf7anJ2fW+qbt8V9/9bcSMz7EmmP0iEiEw9APMZQ0AYQQHJMLfogwh/LCOfbN53HgowRgkOWQGBRG00NcY8BfyrLsui6EhA9L2loppXWKUSjqva2qSiszjKUuiiKliEhSZLkpiIRS0igkwVphYmTKieS9Wx+eHtyPbSOBKQRK52BCXleBU1aXLCgflUKREKKe1AzR2i4mxxis747nh/cP7i6budSwf3Bn/8E9H2zbbmKMpGReZloqqSVgynMjBCKlhDAwsoeXj2GYdoUsmqZhBKWkc05KmeIwWbpj5nE1fkQBGUKBxC4yS9QqM8kP89Axz/Nls8jzfLjEA8AthOKERVGmlM7OFov55vT0bL1p8be+8hsh+BAiABOJoYDzKG0ngEfk/hiS89Z6D8SQMHIQREP4gMjj8fgc2ngImwkhJJIU4s819eHIEX5IWaChnPPQmwpBWakEKe+TIBWiy4YSfEoCTQzc9z1BAvRIsSwMErmYpJQKgTIFfXvv3R8e3r/X9z0mjASjyUxXWT6qXHJt3x+eHbtgUcB6vV6tz9abRdet+9A1zZIh+NCNxrn3NiY3GlUmU0LKLNf+IXXnYeQMUsphbMuANA3gagKWJDAJ7z0KgcQxsDaSEyLxcMXHVe2ci3GACJk5iqF9JqFSSipCECkRMzNFIURKgyZASufrYIb5VzEygrSeU0qSeagcIglEoDi4uRRTcN7CUO4RSFmWGZMXRXZxvEeKtNBCi0zpIeFD4sGrDdgN0aMqKPAj1tDDqpjzXgjBDy3tIPIYY66NVKLbNMw2scpznQIu2oX3Lsu1dU1VVeUoQ4jMhBTW7ere/fcPj2+R8G27OV2cNs1y1ax8cIvlUgqhtO7bvu/76XQaU4jOCy0iBxQQgY1RA+hc1LqeVNZ2AEYbCVCGELRWQogEsWtt4BAjK6WGFGsgtw2jqIYc45H7ZkY1lL6VsrYjTUoJAArBSQQe2kXFEJArZozRKy0GGNZai4jGKGDZNI0xynsvhDZGIbJ1PsUIyM63QDYGllIlQCCQvW1j9DEO1AcWAvO8rKqizEpjVJ6XWaZzU2S5lkIPu6yEIi0NSZSkgM4JDa63QIh8Dv4+MqrA/CgsGv5pvlhorS/s7Q12e0g2nHO5NtYlSHF7b2+zaOfHR1VV5EYj9NpgWRebZnF8erpqlyen+/PFyXI5P3hwi2hj3ZqJi6qwqbfRyUKVhcjzvOs6XbBwFHCRKZ1pHUIgJRgxxigEpOT7vm9aYOY8L7XWg699iEzJGBFEIiLv47Atpq7rAVNMD0m9MfoQAhFkWSaE4DA0MyNDHBjPRASQxpN6ANhCiDH6ofYbU0jWdV2nlNFapxROTzeZqYqiCOxCdBIoBGSOIQTvog8giFMK1jnvvYtRCCG3JuOyysejaT0qtcoGXgkJCD5pI7U0RMCMIbgQUghOa4MIxOydj8lFSJCSjzFThhkwReBESPg/x6kfVSoeAZ5DqWEI9I1U0WRlWfZdqxW/9+br08ne1WuXumZlClFvTe/de0/n9J3v/unrb/1ZZ9dCJpOJrDD5tJUk4hqs7YU2dtUCsWAptV7O53me++gAU1mXyLBo5lLK2LBSKqUklBRCZEU+BFkMCQX0bcscB9hBKQOQUIAxpsy0kSolaNcba23btgOZP8+NMUZKGYLr+975flJPfLBC4jlcl4JAlFoOoG8IAYCQ01DXFQLX6/Vka6ZVdnx8DJiKusizcrPZGIUQExF428XohSDkGF3Kq0oIEQNprVUCrTVGP///gxOHox9s90CCGVzjkLp52/8FePqc3gIA3oVHqCYIKR5yW85x1BiHbEFrPVihhwUjDiEQw3q9VkodHe5vlid1WZhsvFwuda53L04+vPXDL/2rf6o0ZCNZjRQpv1yfhtSZPPfByqRms1nnWu/9/uH+9evXY4J79+5dv359oIkKIdbrZVEUJlPOOYjCGONjGADCIRkdljqVZblZrYuiGOrYQzK6XC8GO0F0TsOt67qu687ZxWJh7TBzPRpj8sIAgABs23b4gkII55wQpJTa398fzkQpBcxKKaOzkGKe5+u2QRAhOqXU2dkZoVZKlbmy1mZZ4Zzz3hZFHkL03o/HUyJqmkYp1bsgpfz/AcOMR6Cn77kxAAAAAElFTkSuQmCC\" class=\"ndarray_image_preview\" /><pre class=\"ndarray_raw_data\">array([[[131, 194, 247],\n",
              "        [131, 194, 247],\n",
              "        [131, 194, 245],\n",
              "        ...,\n",
              "        [162, 217, 237],\n",
              "        [165, 217, 238],\n",
              "        [166, 218, 239]],\n",
              "\n",
              "       [[131, 194, 247],\n",
              "        [131, 194, 245],\n",
              "        [131, 194, 245],\n",
              "        ...,\n",
              "        [166, 218, 239],\n",
              "        [168, 219, 240],\n",
              "        [166, 217, 238]],\n",
              "\n",
              "       [[130, 193, 244],\n",
              "        [130, 193, 244],\n",
              "        [131, 193, 244],\n",
              "        ...,\n",
              "        [170, 218, 240],\n",
              "        [171, 219, 239],\n",
              "        [170, 218, 238]],\n",
              "\n",
              "       ...,\n",
              "\n",
              "       [[171, 171, 163],\n",
              "        [168, 168, 158],\n",
              "        [165, 165, 157],\n",
              "        ...,\n",
              "        [125, 147,  46],\n",
              "        [119, 144,  43],\n",
              "        [122, 147,  46]],\n",
              "\n",
              "       [[190, 187, 178],\n",
              "        [201, 199, 187],\n",
              "        [216, 213, 204],\n",
              "        ...,\n",
              "        [134, 156,  56],\n",
              "        [130, 154,  56],\n",
              "        [136, 160,  62]],\n",
              "\n",
              "       [[253, 251, 239],\n",
              "        [249, 247, 235],\n",
              "        [245, 243, 231],\n",
              "        ...,\n",
              "        [133, 155,  57],\n",
              "        [125, 149,  53],\n",
              "        [129, 153,  57]]], dtype=uint8)</pre></div><script>\n",
              "      (() => {\n",
              "      const titles = ['show data', 'hide data'];\n",
              "      let index = 0\n",
              "      document.querySelector('#id-0d052164-e597-453c-8c07-dc26671fbcea button').onclick = (e) => {\n",
              "        document.querySelector('#id-0d052164-e597-453c-8c07-dc26671fbcea').classList.toggle('show_array');\n",
              "        index = (++index) % 2;\n",
              "        document.querySelector('#id-0d052164-e597-453c-8c07-dc26671fbcea button').textContent = titles[index];\n",
              "        e.preventDefault();\n",
              "        e.stopPropagation();\n",
              "      }\n",
              "      })();\n",
              "    </script>"
            ],
            "text/plain": [
              "array([[[131, 194, 247],\n",
              "        [131, 194, 247],\n",
              "        [131, 194, 245],\n",
              "        ...,\n",
              "        [162, 217, 237],\n",
              "        [165, 217, 238],\n",
              "        [166, 218, 239]],\n",
              "\n",
              "       [[131, 194, 247],\n",
              "        [131, 194, 245],\n",
              "        [131, 194, 245],\n",
              "        ...,\n",
              "        [166, 218, 239],\n",
              "        [168, 219, 240],\n",
              "        [166, 217, 238]],\n",
              "\n",
              "       [[130, 193, 244],\n",
              "        [130, 193, 244],\n",
              "        [131, 193, 244],\n",
              "        ...,\n",
              "        [170, 218, 240],\n",
              "        [171, 219, 239],\n",
              "        [170, 218, 238]],\n",
              "\n",
              "       ...,\n",
              "\n",
              "       [[171, 171, 163],\n",
              "        [168, 168, 158],\n",
              "        [165, 165, 157],\n",
              "        ...,\n",
              "        [125, 147,  46],\n",
              "        [119, 144,  43],\n",
              "        [122, 147,  46]],\n",
              "\n",
              "       [[190, 187, 178],\n",
              "        [201, 199, 187],\n",
              "        [216, 213, 204],\n",
              "        ...,\n",
              "        [134, 156,  56],\n",
              "        [130, 154,  56],\n",
              "        [136, 160,  62]],\n",
              "\n",
              "       [[253, 251, 239],\n",
              "        [249, 247, 235],\n",
              "        [245, 243, 231],\n",
              "        ...,\n",
              "        [133, 155,  57],\n",
              "        [125, 149,  53],\n",
              "        [129, 153,  57]]], dtype=uint8)"
            ]
          },
          "execution_count": 11,
          "metadata": {},
          "output_type": "execute_result"
        }
      ],
      "source": [
        "# Check images to see range of its values\n",
        "plt.imread(\"/content/intel_dataset/seg_train/seg_train/buildings/1001.jpg\")"
      ]
    },
    {
      "cell_type": "markdown",
      "metadata": {
        "id": "FF0uhKC1-TU2"
      },
      "source": [
        "* `I will work (100x100x3)`"
      ]
    },
    {
      "cell_type": "markdown",
      "metadata": {
        "id": "WX7tvkYRMf0m"
      },
      "source": [
        "-----"
      ]
    },
    {
      "cell_type": "markdown",
      "metadata": {
        "id": "0D13uFn0IHWt"
      },
      "source": [
        "### `Build Custom Model`"
      ]
    },
    {
      "cell_type": "code",
      "execution_count": 12,
      "metadata": {
        "colab": {
          "base_uri": "https://localhost:8080/"
        },
        "id": "3AqYZzTX_e1M",
        "outputId": "2de590a3-2aae-47e9-c145-4388e9ce404b"
      },
      "outputs": [
        {
          "name": "stdout",
          "output_type": "stream",
          "text": [
            "Found 14034 images belonging to 6 classes.\n",
            "Found 3000 images belonging to 6 classes.\n"
          ]
        }
      ],
      "source": [
        "# All images will only scaled with 1/255 (The same datagen for all images)\n",
        "datagen = tf.keras.preprocessing.image.ImageDataGenerator(rescale=1./255)\n",
        "\n",
        "# For Training\n",
        "train_gen = datagen.flow_from_directory(directory=TRAIN_FOLDER_PATH,\n",
        "                                        target_size=(100, 100),\n",
        "                                        batch_size=32,\n",
        "                                        class_mode='categorical',   # \"categorical\" or \"binary\" or \"sparse\"\n",
        "                                        color_mode='rgb',\n",
        "                                        shuffle=True)\n",
        "\n",
        "# For Testing\n",
        "test_gen = datagen.flow_from_directory(directory=TEST_FOLDER_PATH,\n",
        "                                        target_size=(100, 100),\n",
        "                                        batch_size=32,\n",
        "                                        class_mode='categorical',\n",
        "                                        color_mode='rgb',\n",
        "                                        shuffle=False)"
      ]
    },
    {
      "cell_type": "markdown",
      "metadata": {
        "id": "27CyWMe3BAHm"
      },
      "source": [
        "* `Build a Model`"
      ]
    },
    {
      "cell_type": "code",
      "execution_count": 13,
      "metadata": {
        "colab": {
          "base_uri": "https://localhost:8080/",
          "height": 913
        },
        "id": "eXzuUPf1NaU3",
        "outputId": "8fcac081-1ae7-4d18-ba80-073889143942"
      },
      "outputs": [
        {
          "data": {
            "text/html": [
              "<pre style=\"white-space:pre;overflow-x:auto;line-height:normal;font-family:Menlo,'DejaVu Sans Mono',consolas,'Courier New',monospace\"><span style=\"font-weight: bold\">Model: \"sequential\"</span>\n",
              "</pre>\n"
            ],
            "text/plain": [
              "\u001b[1mModel: \"sequential\"\u001b[0m\n"
            ]
          },
          "metadata": {},
          "output_type": "display_data"
        },
        {
          "data": {
            "text/html": [
              "<pre style=\"white-space:pre;overflow-x:auto;line-height:normal;font-family:Menlo,'DejaVu Sans Mono',consolas,'Courier New',monospace\">┏━━━━━━━━━━━━━━━━━━━━━━━━━━━━━━━━━━━━━━┳━━━━━━━━━━━━━━━━━━━━━━━━━━━━━┳━━━━━━━━━━━━━━━━━┓\n",
              "┃<span style=\"font-weight: bold\"> Layer (type)                         </span>┃<span style=\"font-weight: bold\"> Output Shape                </span>┃<span style=\"font-weight: bold\">         Param # </span>┃\n",
              "┡━━━━━━━━━━━━━━━━━━━━━━━━━━━━━━━━━━━━━━╇━━━━━━━━━━━━━━━━━━━━━━━━━━━━━╇━━━━━━━━━━━━━━━━━┩\n",
              "│ conv2d (<span style=\"color: #0087ff; text-decoration-color: #0087ff\">Conv2D</span>)                      │ (<span style=\"color: #00d7ff; text-decoration-color: #00d7ff\">None</span>, <span style=\"color: #00af00; text-decoration-color: #00af00\">100</span>, <span style=\"color: #00af00; text-decoration-color: #00af00\">100</span>, <span style=\"color: #00af00; text-decoration-color: #00af00\">32</span>)        │             <span style=\"color: #00af00; text-decoration-color: #00af00\">896</span> │\n",
              "├──────────────────────────────────────┼─────────────────────────────┼─────────────────┤\n",
              "│ batch_normalization                  │ (<span style=\"color: #00d7ff; text-decoration-color: #00d7ff\">None</span>, <span style=\"color: #00af00; text-decoration-color: #00af00\">100</span>, <span style=\"color: #00af00; text-decoration-color: #00af00\">100</span>, <span style=\"color: #00af00; text-decoration-color: #00af00\">32</span>)        │             <span style=\"color: #00af00; text-decoration-color: #00af00\">128</span> │\n",
              "│ (<span style=\"color: #0087ff; text-decoration-color: #0087ff\">BatchNormalization</span>)                 │                             │                 │\n",
              "├──────────────────────────────────────┼─────────────────────────────┼─────────────────┤\n",
              "│ re_lu (<span style=\"color: #0087ff; text-decoration-color: #0087ff\">ReLU</span>)                         │ (<span style=\"color: #00d7ff; text-decoration-color: #00d7ff\">None</span>, <span style=\"color: #00af00; text-decoration-color: #00af00\">100</span>, <span style=\"color: #00af00; text-decoration-color: #00af00\">100</span>, <span style=\"color: #00af00; text-decoration-color: #00af00\">32</span>)        │               <span style=\"color: #00af00; text-decoration-color: #00af00\">0</span> │\n",
              "├──────────────────────────────────────┼─────────────────────────────┼─────────────────┤\n",
              "│ conv2d_1 (<span style=\"color: #0087ff; text-decoration-color: #0087ff\">Conv2D</span>)                    │ (<span style=\"color: #00d7ff; text-decoration-color: #00d7ff\">None</span>, <span style=\"color: #00af00; text-decoration-color: #00af00\">100</span>, <span style=\"color: #00af00; text-decoration-color: #00af00\">100</span>, <span style=\"color: #00af00; text-decoration-color: #00af00\">64</span>)        │          <span style=\"color: #00af00; text-decoration-color: #00af00\">18,496</span> │\n",
              "├──────────────────────────────────────┼─────────────────────────────┼─────────────────┤\n",
              "│ batch_normalization_1                │ (<span style=\"color: #00d7ff; text-decoration-color: #00d7ff\">None</span>, <span style=\"color: #00af00; text-decoration-color: #00af00\">100</span>, <span style=\"color: #00af00; text-decoration-color: #00af00\">100</span>, <span style=\"color: #00af00; text-decoration-color: #00af00\">64</span>)        │             <span style=\"color: #00af00; text-decoration-color: #00af00\">256</span> │\n",
              "│ (<span style=\"color: #0087ff; text-decoration-color: #0087ff\">BatchNormalization</span>)                 │                             │                 │\n",
              "├──────────────────────────────────────┼─────────────────────────────┼─────────────────┤\n",
              "│ re_lu_1 (<span style=\"color: #0087ff; text-decoration-color: #0087ff\">ReLU</span>)                       │ (<span style=\"color: #00d7ff; text-decoration-color: #00d7ff\">None</span>, <span style=\"color: #00af00; text-decoration-color: #00af00\">100</span>, <span style=\"color: #00af00; text-decoration-color: #00af00\">100</span>, <span style=\"color: #00af00; text-decoration-color: #00af00\">64</span>)        │               <span style=\"color: #00af00; text-decoration-color: #00af00\">0</span> │\n",
              "├──────────────────────────────────────┼─────────────────────────────┼─────────────────┤\n",
              "│ max_pooling2d (<span style=\"color: #0087ff; text-decoration-color: #0087ff\">MaxPooling2D</span>)         │ (<span style=\"color: #00d7ff; text-decoration-color: #00d7ff\">None</span>, <span style=\"color: #00af00; text-decoration-color: #00af00\">50</span>, <span style=\"color: #00af00; text-decoration-color: #00af00\">50</span>, <span style=\"color: #00af00; text-decoration-color: #00af00\">64</span>)          │               <span style=\"color: #00af00; text-decoration-color: #00af00\">0</span> │\n",
              "├──────────────────────────────────────┼─────────────────────────────┼─────────────────┤\n",
              "│ conv2d_2 (<span style=\"color: #0087ff; text-decoration-color: #0087ff\">Conv2D</span>)                    │ (<span style=\"color: #00d7ff; text-decoration-color: #00d7ff\">None</span>, <span style=\"color: #00af00; text-decoration-color: #00af00\">50</span>, <span style=\"color: #00af00; text-decoration-color: #00af00\">50</span>, <span style=\"color: #00af00; text-decoration-color: #00af00\">128</span>)         │          <span style=\"color: #00af00; text-decoration-color: #00af00\">73,856</span> │\n",
              "├──────────────────────────────────────┼─────────────────────────────┼─────────────────┤\n",
              "│ batch_normalization_2                │ (<span style=\"color: #00d7ff; text-decoration-color: #00d7ff\">None</span>, <span style=\"color: #00af00; text-decoration-color: #00af00\">50</span>, <span style=\"color: #00af00; text-decoration-color: #00af00\">50</span>, <span style=\"color: #00af00; text-decoration-color: #00af00\">128</span>)         │             <span style=\"color: #00af00; text-decoration-color: #00af00\">512</span> │\n",
              "│ (<span style=\"color: #0087ff; text-decoration-color: #0087ff\">BatchNormalization</span>)                 │                             │                 │\n",
              "├──────────────────────────────────────┼─────────────────────────────┼─────────────────┤\n",
              "│ re_lu_2 (<span style=\"color: #0087ff; text-decoration-color: #0087ff\">ReLU</span>)                       │ (<span style=\"color: #00d7ff; text-decoration-color: #00d7ff\">None</span>, <span style=\"color: #00af00; text-decoration-color: #00af00\">50</span>, <span style=\"color: #00af00; text-decoration-color: #00af00\">50</span>, <span style=\"color: #00af00; text-decoration-color: #00af00\">128</span>)         │               <span style=\"color: #00af00; text-decoration-color: #00af00\">0</span> │\n",
              "├──────────────────────────────────────┼─────────────────────────────┼─────────────────┤\n",
              "│ conv2d_3 (<span style=\"color: #0087ff; text-decoration-color: #0087ff\">Conv2D</span>)                    │ (<span style=\"color: #00d7ff; text-decoration-color: #00d7ff\">None</span>, <span style=\"color: #00af00; text-decoration-color: #00af00\">50</span>, <span style=\"color: #00af00; text-decoration-color: #00af00\">50</span>, <span style=\"color: #00af00; text-decoration-color: #00af00\">128</span>)         │         <span style=\"color: #00af00; text-decoration-color: #00af00\">147,584</span> │\n",
              "├──────────────────────────────────────┼─────────────────────────────┼─────────────────┤\n",
              "│ batch_normalization_3                │ (<span style=\"color: #00d7ff; text-decoration-color: #00d7ff\">None</span>, <span style=\"color: #00af00; text-decoration-color: #00af00\">50</span>, <span style=\"color: #00af00; text-decoration-color: #00af00\">50</span>, <span style=\"color: #00af00; text-decoration-color: #00af00\">128</span>)         │             <span style=\"color: #00af00; text-decoration-color: #00af00\">512</span> │\n",
              "│ (<span style=\"color: #0087ff; text-decoration-color: #0087ff\">BatchNormalization</span>)                 │                             │                 │\n",
              "├──────────────────────────────────────┼─────────────────────────────┼─────────────────┤\n",
              "│ re_lu_3 (<span style=\"color: #0087ff; text-decoration-color: #0087ff\">ReLU</span>)                       │ (<span style=\"color: #00d7ff; text-decoration-color: #00d7ff\">None</span>, <span style=\"color: #00af00; text-decoration-color: #00af00\">50</span>, <span style=\"color: #00af00; text-decoration-color: #00af00\">50</span>, <span style=\"color: #00af00; text-decoration-color: #00af00\">128</span>)         │               <span style=\"color: #00af00; text-decoration-color: #00af00\">0</span> │\n",
              "├──────────────────────────────────────┼─────────────────────────────┼─────────────────┤\n",
              "│ max_pooling2d_1 (<span style=\"color: #0087ff; text-decoration-color: #0087ff\">MaxPooling2D</span>)       │ (<span style=\"color: #00d7ff; text-decoration-color: #00d7ff\">None</span>, <span style=\"color: #00af00; text-decoration-color: #00af00\">25</span>, <span style=\"color: #00af00; text-decoration-color: #00af00\">25</span>, <span style=\"color: #00af00; text-decoration-color: #00af00\">128</span>)         │               <span style=\"color: #00af00; text-decoration-color: #00af00\">0</span> │\n",
              "├──────────────────────────────────────┼─────────────────────────────┼─────────────────┤\n",
              "│ conv2d_4 (<span style=\"color: #0087ff; text-decoration-color: #0087ff\">Conv2D</span>)                    │ (<span style=\"color: #00d7ff; text-decoration-color: #00d7ff\">None</span>, <span style=\"color: #00af00; text-decoration-color: #00af00\">25</span>, <span style=\"color: #00af00; text-decoration-color: #00af00\">25</span>, <span style=\"color: #00af00; text-decoration-color: #00af00\">256</span>)         │         <span style=\"color: #00af00; text-decoration-color: #00af00\">295,168</span> │\n",
              "├──────────────────────────────────────┼─────────────────────────────┼─────────────────┤\n",
              "│ batch_normalization_4                │ (<span style=\"color: #00d7ff; text-decoration-color: #00d7ff\">None</span>, <span style=\"color: #00af00; text-decoration-color: #00af00\">25</span>, <span style=\"color: #00af00; text-decoration-color: #00af00\">25</span>, <span style=\"color: #00af00; text-decoration-color: #00af00\">256</span>)         │           <span style=\"color: #00af00; text-decoration-color: #00af00\">1,024</span> │\n",
              "│ (<span style=\"color: #0087ff; text-decoration-color: #0087ff\">BatchNormalization</span>)                 │                             │                 │\n",
              "├──────────────────────────────────────┼─────────────────────────────┼─────────────────┤\n",
              "│ re_lu_4 (<span style=\"color: #0087ff; text-decoration-color: #0087ff\">ReLU</span>)                       │ (<span style=\"color: #00d7ff; text-decoration-color: #00d7ff\">None</span>, <span style=\"color: #00af00; text-decoration-color: #00af00\">25</span>, <span style=\"color: #00af00; text-decoration-color: #00af00\">25</span>, <span style=\"color: #00af00; text-decoration-color: #00af00\">256</span>)         │               <span style=\"color: #00af00; text-decoration-color: #00af00\">0</span> │\n",
              "├──────────────────────────────────────┼─────────────────────────────┼─────────────────┤\n",
              "│ max_pooling2d_2 (<span style=\"color: #0087ff; text-decoration-color: #0087ff\">MaxPooling2D</span>)       │ (<span style=\"color: #00d7ff; text-decoration-color: #00d7ff\">None</span>, <span style=\"color: #00af00; text-decoration-color: #00af00\">12</span>, <span style=\"color: #00af00; text-decoration-color: #00af00\">12</span>, <span style=\"color: #00af00; text-decoration-color: #00af00\">256</span>)         │               <span style=\"color: #00af00; text-decoration-color: #00af00\">0</span> │\n",
              "├──────────────────────────────────────┼─────────────────────────────┼─────────────────┤\n",
              "│ flatten (<span style=\"color: #0087ff; text-decoration-color: #0087ff\">Flatten</span>)                    │ (<span style=\"color: #00d7ff; text-decoration-color: #00d7ff\">None</span>, <span style=\"color: #00af00; text-decoration-color: #00af00\">36864</span>)               │               <span style=\"color: #00af00; text-decoration-color: #00af00\">0</span> │\n",
              "├──────────────────────────────────────┼─────────────────────────────┼─────────────────┤\n",
              "│ dense (<span style=\"color: #0087ff; text-decoration-color: #0087ff\">Dense</span>)                        │ (<span style=\"color: #00d7ff; text-decoration-color: #00d7ff\">None</span>, <span style=\"color: #00af00; text-decoration-color: #00af00\">128</span>)                 │       <span style=\"color: #00af00; text-decoration-color: #00af00\">4,718,720</span> │\n",
              "├──────────────────────────────────────┼─────────────────────────────┼─────────────────┤\n",
              "│ dropout (<span style=\"color: #0087ff; text-decoration-color: #0087ff\">Dropout</span>)                    │ (<span style=\"color: #00d7ff; text-decoration-color: #00d7ff\">None</span>, <span style=\"color: #00af00; text-decoration-color: #00af00\">128</span>)                 │               <span style=\"color: #00af00; text-decoration-color: #00af00\">0</span> │\n",
              "├──────────────────────────────────────┼─────────────────────────────┼─────────────────┤\n",
              "│ dense_1 (<span style=\"color: #0087ff; text-decoration-color: #0087ff\">Dense</span>)                      │ (<span style=\"color: #00d7ff; text-decoration-color: #00d7ff\">None</span>, <span style=\"color: #00af00; text-decoration-color: #00af00\">6</span>)                   │             <span style=\"color: #00af00; text-decoration-color: #00af00\">774</span> │\n",
              "└──────────────────────────────────────┴─────────────────────────────┴─────────────────┘\n",
              "</pre>\n"
            ],
            "text/plain": [
              "┏━━━━━━━━━━━━━━━━━━━━━━━━━━━━━━━━━━━━━━┳━━━━━━━━━━━━━━━━━━━━━━━━━━━━━┳━━━━━━━━━━━━━━━━━┓\n",
              "┃\u001b[1m \u001b[0m\u001b[1mLayer (type)                        \u001b[0m\u001b[1m \u001b[0m┃\u001b[1m \u001b[0m\u001b[1mOutput Shape               \u001b[0m\u001b[1m \u001b[0m┃\u001b[1m \u001b[0m\u001b[1m        Param #\u001b[0m\u001b[1m \u001b[0m┃\n",
              "┡━━━━━━━━━━━━━━━━━━━━━━━━━━━━━━━━━━━━━━╇━━━━━━━━━━━━━━━━━━━━━━━━━━━━━╇━━━━━━━━━━━━━━━━━┩\n",
              "│ conv2d (\u001b[38;5;33mConv2D\u001b[0m)                      │ (\u001b[38;5;45mNone\u001b[0m, \u001b[38;5;34m100\u001b[0m, \u001b[38;5;34m100\u001b[0m, \u001b[38;5;34m32\u001b[0m)        │             \u001b[38;5;34m896\u001b[0m │\n",
              "├──────────────────────────────────────┼─────────────────────────────┼─────────────────┤\n",
              "│ batch_normalization                  │ (\u001b[38;5;45mNone\u001b[0m, \u001b[38;5;34m100\u001b[0m, \u001b[38;5;34m100\u001b[0m, \u001b[38;5;34m32\u001b[0m)        │             \u001b[38;5;34m128\u001b[0m │\n",
              "│ (\u001b[38;5;33mBatchNormalization\u001b[0m)                 │                             │                 │\n",
              "├──────────────────────────────────────┼─────────────────────────────┼─────────────────┤\n",
              "│ re_lu (\u001b[38;5;33mReLU\u001b[0m)                         │ (\u001b[38;5;45mNone\u001b[0m, \u001b[38;5;34m100\u001b[0m, \u001b[38;5;34m100\u001b[0m, \u001b[38;5;34m32\u001b[0m)        │               \u001b[38;5;34m0\u001b[0m │\n",
              "├──────────────────────────────────────┼─────────────────────────────┼─────────────────┤\n",
              "│ conv2d_1 (\u001b[38;5;33mConv2D\u001b[0m)                    │ (\u001b[38;5;45mNone\u001b[0m, \u001b[38;5;34m100\u001b[0m, \u001b[38;5;34m100\u001b[0m, \u001b[38;5;34m64\u001b[0m)        │          \u001b[38;5;34m18,496\u001b[0m │\n",
              "├──────────────────────────────────────┼─────────────────────────────┼─────────────────┤\n",
              "│ batch_normalization_1                │ (\u001b[38;5;45mNone\u001b[0m, \u001b[38;5;34m100\u001b[0m, \u001b[38;5;34m100\u001b[0m, \u001b[38;5;34m64\u001b[0m)        │             \u001b[38;5;34m256\u001b[0m │\n",
              "│ (\u001b[38;5;33mBatchNormalization\u001b[0m)                 │                             │                 │\n",
              "├──────────────────────────────────────┼─────────────────────────────┼─────────────────┤\n",
              "│ re_lu_1 (\u001b[38;5;33mReLU\u001b[0m)                       │ (\u001b[38;5;45mNone\u001b[0m, \u001b[38;5;34m100\u001b[0m, \u001b[38;5;34m100\u001b[0m, \u001b[38;5;34m64\u001b[0m)        │               \u001b[38;5;34m0\u001b[0m │\n",
              "├──────────────────────────────────────┼─────────────────────────────┼─────────────────┤\n",
              "│ max_pooling2d (\u001b[38;5;33mMaxPooling2D\u001b[0m)         │ (\u001b[38;5;45mNone\u001b[0m, \u001b[38;5;34m50\u001b[0m, \u001b[38;5;34m50\u001b[0m, \u001b[38;5;34m64\u001b[0m)          │               \u001b[38;5;34m0\u001b[0m │\n",
              "├──────────────────────────────────────┼─────────────────────────────┼─────────────────┤\n",
              "│ conv2d_2 (\u001b[38;5;33mConv2D\u001b[0m)                    │ (\u001b[38;5;45mNone\u001b[0m, \u001b[38;5;34m50\u001b[0m, \u001b[38;5;34m50\u001b[0m, \u001b[38;5;34m128\u001b[0m)         │          \u001b[38;5;34m73,856\u001b[0m │\n",
              "├──────────────────────────────────────┼─────────────────────────────┼─────────────────┤\n",
              "│ batch_normalization_2                │ (\u001b[38;5;45mNone\u001b[0m, \u001b[38;5;34m50\u001b[0m, \u001b[38;5;34m50\u001b[0m, \u001b[38;5;34m128\u001b[0m)         │             \u001b[38;5;34m512\u001b[0m │\n",
              "│ (\u001b[38;5;33mBatchNormalization\u001b[0m)                 │                             │                 │\n",
              "├──────────────────────────────────────┼─────────────────────────────┼─────────────────┤\n",
              "│ re_lu_2 (\u001b[38;5;33mReLU\u001b[0m)                       │ (\u001b[38;5;45mNone\u001b[0m, \u001b[38;5;34m50\u001b[0m, \u001b[38;5;34m50\u001b[0m, \u001b[38;5;34m128\u001b[0m)         │               \u001b[38;5;34m0\u001b[0m │\n",
              "├──────────────────────────────────────┼─────────────────────────────┼─────────────────┤\n",
              "│ conv2d_3 (\u001b[38;5;33mConv2D\u001b[0m)                    │ (\u001b[38;5;45mNone\u001b[0m, \u001b[38;5;34m50\u001b[0m, \u001b[38;5;34m50\u001b[0m, \u001b[38;5;34m128\u001b[0m)         │         \u001b[38;5;34m147,584\u001b[0m │\n",
              "├──────────────────────────────────────┼─────────────────────────────┼─────────────────┤\n",
              "│ batch_normalization_3                │ (\u001b[38;5;45mNone\u001b[0m, \u001b[38;5;34m50\u001b[0m, \u001b[38;5;34m50\u001b[0m, \u001b[38;5;34m128\u001b[0m)         │             \u001b[38;5;34m512\u001b[0m │\n",
              "│ (\u001b[38;5;33mBatchNormalization\u001b[0m)                 │                             │                 │\n",
              "├──────────────────────────────────────┼─────────────────────────────┼─────────────────┤\n",
              "│ re_lu_3 (\u001b[38;5;33mReLU\u001b[0m)                       │ (\u001b[38;5;45mNone\u001b[0m, \u001b[38;5;34m50\u001b[0m, \u001b[38;5;34m50\u001b[0m, \u001b[38;5;34m128\u001b[0m)         │               \u001b[38;5;34m0\u001b[0m │\n",
              "├──────────────────────────────────────┼─────────────────────────────┼─────────────────┤\n",
              "│ max_pooling2d_1 (\u001b[38;5;33mMaxPooling2D\u001b[0m)       │ (\u001b[38;5;45mNone\u001b[0m, \u001b[38;5;34m25\u001b[0m, \u001b[38;5;34m25\u001b[0m, \u001b[38;5;34m128\u001b[0m)         │               \u001b[38;5;34m0\u001b[0m │\n",
              "├──────────────────────────────────────┼─────────────────────────────┼─────────────────┤\n",
              "│ conv2d_4 (\u001b[38;5;33mConv2D\u001b[0m)                    │ (\u001b[38;5;45mNone\u001b[0m, \u001b[38;5;34m25\u001b[0m, \u001b[38;5;34m25\u001b[0m, \u001b[38;5;34m256\u001b[0m)         │         \u001b[38;5;34m295,168\u001b[0m │\n",
              "├──────────────────────────────────────┼─────────────────────────────┼─────────────────┤\n",
              "│ batch_normalization_4                │ (\u001b[38;5;45mNone\u001b[0m, \u001b[38;5;34m25\u001b[0m, \u001b[38;5;34m25\u001b[0m, \u001b[38;5;34m256\u001b[0m)         │           \u001b[38;5;34m1,024\u001b[0m │\n",
              "│ (\u001b[38;5;33mBatchNormalization\u001b[0m)                 │                             │                 │\n",
              "├──────────────────────────────────────┼─────────────────────────────┼─────────────────┤\n",
              "│ re_lu_4 (\u001b[38;5;33mReLU\u001b[0m)                       │ (\u001b[38;5;45mNone\u001b[0m, \u001b[38;5;34m25\u001b[0m, \u001b[38;5;34m25\u001b[0m, \u001b[38;5;34m256\u001b[0m)         │               \u001b[38;5;34m0\u001b[0m │\n",
              "├──────────────────────────────────────┼─────────────────────────────┼─────────────────┤\n",
              "│ max_pooling2d_2 (\u001b[38;5;33mMaxPooling2D\u001b[0m)       │ (\u001b[38;5;45mNone\u001b[0m, \u001b[38;5;34m12\u001b[0m, \u001b[38;5;34m12\u001b[0m, \u001b[38;5;34m256\u001b[0m)         │               \u001b[38;5;34m0\u001b[0m │\n",
              "├──────────────────────────────────────┼─────────────────────────────┼─────────────────┤\n",
              "│ flatten (\u001b[38;5;33mFlatten\u001b[0m)                    │ (\u001b[38;5;45mNone\u001b[0m, \u001b[38;5;34m36864\u001b[0m)               │               \u001b[38;5;34m0\u001b[0m │\n",
              "├──────────────────────────────────────┼─────────────────────────────┼─────────────────┤\n",
              "│ dense (\u001b[38;5;33mDense\u001b[0m)                        │ (\u001b[38;5;45mNone\u001b[0m, \u001b[38;5;34m128\u001b[0m)                 │       \u001b[38;5;34m4,718,720\u001b[0m │\n",
              "├──────────────────────────────────────┼─────────────────────────────┼─────────────────┤\n",
              "│ dropout (\u001b[38;5;33mDropout\u001b[0m)                    │ (\u001b[38;5;45mNone\u001b[0m, \u001b[38;5;34m128\u001b[0m)                 │               \u001b[38;5;34m0\u001b[0m │\n",
              "├──────────────────────────────────────┼─────────────────────────────┼─────────────────┤\n",
              "│ dense_1 (\u001b[38;5;33mDense\u001b[0m)                      │ (\u001b[38;5;45mNone\u001b[0m, \u001b[38;5;34m6\u001b[0m)                   │             \u001b[38;5;34m774\u001b[0m │\n",
              "└──────────────────────────────────────┴─────────────────────────────┴─────────────────┘\n"
            ]
          },
          "metadata": {},
          "output_type": "display_data"
        },
        {
          "data": {
            "text/html": [
              "<pre style=\"white-space:pre;overflow-x:auto;line-height:normal;font-family:Menlo,'DejaVu Sans Mono',consolas,'Courier New',monospace\"><span style=\"font-weight: bold\"> Total params: </span><span style=\"color: #00af00; text-decoration-color: #00af00\">5,257,926</span> (20.06 MB)\n",
              "</pre>\n"
            ],
            "text/plain": [
              "\u001b[1m Total params: \u001b[0m\u001b[38;5;34m5,257,926\u001b[0m (20.06 MB)\n"
            ]
          },
          "metadata": {},
          "output_type": "display_data"
        },
        {
          "data": {
            "text/html": [
              "<pre style=\"white-space:pre;overflow-x:auto;line-height:normal;font-family:Menlo,'DejaVu Sans Mono',consolas,'Courier New',monospace\"><span style=\"font-weight: bold\"> Trainable params: </span><span style=\"color: #00af00; text-decoration-color: #00af00\">5,256,710</span> (20.05 MB)\n",
              "</pre>\n"
            ],
            "text/plain": [
              "\u001b[1m Trainable params: \u001b[0m\u001b[38;5;34m5,256,710\u001b[0m (20.05 MB)\n"
            ]
          },
          "metadata": {},
          "output_type": "display_data"
        },
        {
          "data": {
            "text/html": [
              "<pre style=\"white-space:pre;overflow-x:auto;line-height:normal;font-family:Menlo,'DejaVu Sans Mono',consolas,'Courier New',monospace\"><span style=\"font-weight: bold\"> Non-trainable params: </span><span style=\"color: #00af00; text-decoration-color: #00af00\">1,216</span> (4.75 KB)\n",
              "</pre>\n"
            ],
            "text/plain": [
              "\u001b[1m Non-trainable params: \u001b[0m\u001b[38;5;34m1,216\u001b[0m (4.75 KB)\n"
            ]
          },
          "metadata": {},
          "output_type": "display_data"
        }
      ],
      "source": [
        "model = tf.keras.models.Sequential([\n",
        "    # Input Layer\n",
        "    tf.keras.layers.Input(shape=(100, 100, 3)),\n",
        "\n",
        "    # Conv Base\n",
        "    tf.keras.layers.Conv2D(filters=32, kernel_size=(3, 3), padding=\"same\", activation=None),\n",
        "    tf.keras.layers.BatchNormalization(),\n",
        "    tf.keras.layers.ReLU(),\n",
        "\n",
        "    tf.keras.layers.Conv2D(filters=64, kernel_size=(3, 3), padding=\"same\", activation=None),\n",
        "    tf.keras.layers.BatchNormalization(),\n",
        "    tf.keras.layers.ReLU(),\n",
        "    tf.keras.layers.MaxPool2D(pool_size=(2, 2)),\n",
        "\n",
        "    tf.keras.layers.Conv2D(filters=128, kernel_size=(3, 3), padding=\"same\", activation=None),\n",
        "    tf.keras.layers.BatchNormalization(),\n",
        "    tf.keras.layers.ReLU(),\n",
        "\n",
        "    tf.keras.layers.Conv2D(filters=128, kernel_size=(3, 3), padding=\"same\", activation=None),\n",
        "    tf.keras.layers.BatchNormalization(),\n",
        "    tf.keras.layers.ReLU(),\n",
        "    tf.keras.layers.MaxPool2D(pool_size=(2, 2)),\n",
        "\n",
        "    tf.keras.layers.Conv2D(filters=256, kernel_size=(3, 3), padding=\"same\", activation=None),\n",
        "    tf.keras.layers.BatchNormalization(),\n",
        "    tf.keras.layers.ReLU(),\n",
        "    tf.keras.layers.MaxPool2D(pool_size=(2, 2)),\n",
        "\n",
        "    # Top Classifier\n",
        "    tf.keras.layers.Flatten(),\n",
        "    tf.keras.layers.Dense(128, activation='relu'),\n",
        "    tf.keras.layers.Dropout(rate=0.5),\n",
        "    tf.keras.layers.Dense(6, activation='softmax')\n",
        "])\n",
        "model.summary()"
      ]
    },
    {
      "cell_type": "code",
      "execution_count": null,
      "metadata": {
        "colab": {
          "base_uri": "https://localhost:8080/"
        },
        "id": "jhin6km1_lNl",
        "outputId": "4bc68b93-d94c-47f4-8e71-750e9638016a"
      },
      "outputs": [
        {
          "name": "stdout",
          "output_type": "stream",
          "text": [
            "Epoch 1/10\n"
          ]
        },
        {
          "name": "stderr",
          "output_type": "stream",
          "text": [
            "/usr/local/lib/python3.11/dist-packages/keras/src/trainers/data_adapters/py_dataset_adapter.py:121: UserWarning: Your `PyDataset` class should call `super().__init__(**kwargs)` in its constructor. `**kwargs` can include `workers`, `use_multiprocessing`, `max_queue_size`. Do not pass these arguments to `fit()`, as they will be ignored.\n",
            "  self._warn_if_super_not_called()\n"
          ]
        },
        {
          "name": "stdout",
          "output_type": "stream",
          "text": [
            "\u001b[1m439/439\u001b[0m \u001b[32m━━━━━━━━━━━━━━━━━━━━\u001b[0m\u001b[37m\u001b[0m \u001b[1m46s\u001b[0m 77ms/step - accuracy: 0.4159 - loss: 1.6384 - val_accuracy: 0.6453 - val_loss: 1.0210\n",
            "Epoch 2/10\n",
            "\u001b[1m439/439\u001b[0m \u001b[32m━━━━━━━━━━━━━━━━━━━━\u001b[0m\u001b[37m\u001b[0m \u001b[1m26s\u001b[0m 58ms/step - accuracy: 0.5662 - loss: 1.0634 - val_accuracy: 0.7397 - val_loss: 0.7726\n",
            "Epoch 3/10\n",
            "\u001b[1m439/439\u001b[0m \u001b[32m━━━━━━━━━━━━━━━━━━━━\u001b[0m\u001b[37m\u001b[0m \u001b[1m26s\u001b[0m 59ms/step - accuracy: 0.6347 - loss: 0.9303 - val_accuracy: 0.7513 - val_loss: 0.6748\n",
            "Epoch 4/10\n",
            "\u001b[1m439/439\u001b[0m \u001b[32m━━━━━━━━━━━━━━━━━━━━\u001b[0m\u001b[37m\u001b[0m \u001b[1m40s\u001b[0m 58ms/step - accuracy: 0.6617 - loss: 0.8634 - val_accuracy: 0.7277 - val_loss: 0.7237\n",
            "Epoch 5/10\n",
            "\u001b[1m439/439\u001b[0m \u001b[32m━━━━━━━━━━━━━━━━━━━━\u001b[0m\u001b[37m\u001b[0m \u001b[1m26s\u001b[0m 59ms/step - accuracy: 0.6811 - loss: 0.8152 - val_accuracy: 0.7717 - val_loss: 0.6438\n",
            "Epoch 6/10\n",
            "\u001b[1m439/439\u001b[0m \u001b[32m━━━━━━━━━━━━━━━━━━━━\u001b[0m\u001b[37m\u001b[0m \u001b[1m28s\u001b[0m 65ms/step - accuracy: 0.7126 - loss: 0.7481 - val_accuracy: 0.8267 - val_loss: 0.5227\n",
            "Epoch 7/10\n",
            "\u001b[1m439/439\u001b[0m \u001b[32m━━━━━━━━━━━━━━━━━━━━\u001b[0m\u001b[37m\u001b[0m \u001b[1m38s\u001b[0m 58ms/step - accuracy: 0.7207 - loss: 0.7098 - val_accuracy: 0.7427 - val_loss: 0.7168\n",
            "Epoch 8/10\n",
            "\u001b[1m439/439\u001b[0m \u001b[32m━━━━━━━━━━━━━━━━━━━━\u001b[0m\u001b[37m\u001b[0m \u001b[1m27s\u001b[0m 61ms/step - accuracy: 0.7229 - loss: 0.7055 - val_accuracy: 0.7923 - val_loss: 0.6235\n",
            "Epoch 9/10\n",
            "\u001b[1m439/439\u001b[0m \u001b[32m━━━━━━━━━━━━━━━━━━━━\u001b[0m\u001b[37m\u001b[0m \u001b[1m41s\u001b[0m 61ms/step - accuracy: 0.7402 - loss: 0.6636 - val_accuracy: 0.8277 - val_loss: 0.5164\n",
            "Epoch 10/10\n",
            "\u001b[1m439/439\u001b[0m \u001b[32m━━━━━━━━━━━━━━━━━━━━\u001b[0m\u001b[37m\u001b[0m \u001b[1m26s\u001b[0m 60ms/step - accuracy: 0.7475 - loss: 0.6512 - val_accuracy: 0.8150 - val_loss: 0.5441\n"
          ]
        }
      ],
      "source": [
        "# Compile\n",
        "model.compile(loss='categorical_crossentropy',\n",
        "              optimizer=tf.keras.optimizers.Adam(learning_rate=1e-4),\n",
        "              metrics=['accuracy'])\n",
        "\n",
        "# Early stopping\n",
        "early_stopp = tf.keras.callbacks.EarlyStopping(patience=5, restore_best_weights=True)\n",
        "\n",
        "# Fitting\n",
        "history = model.fit(train_gen,\n",
        "                    validation_data=(test_gen),\n",
        "                    steps_per_epoch=len(train_gen),\n",
        "                    validation_steps=len(test_gen),\n",
        "                    epochs=10,   # need more epochs\n",
        "                    callbacks=[early_stopp])"
      ]
    },
    {
      "cell_type": "code",
      "execution_count": 15,
      "metadata": {
        "colab": {
          "base_uri": "https://localhost:8080/",
          "height": 393
        },
        "id": "evpW1Y6dC1ef",
        "outputId": "d5d223f9-d0a4-4299-d564-cd725eb80f9e"
      },
      "outputs": [
        {
          "data": {
            "image/png": "[encoded data removed]",
            "text/plain": [
              "<Figure size 1200x400 with 2 Axes>"
            ]
          },
          "metadata": {},
          "output_type": "display_data"
        }
      ],
      "source": [
        "# Visualize the resutls\n",
        "fig, ax = plt.subplots(1, 2, figsize=(12, 4))\n",
        "n_epochs = len(history.history['loss'])  # real number of epochs in history, as we made early stopp\n",
        "plt.sca(ax[0])\n",
        "plt.plot(range(1, n_epochs+1), history.history['accuracy'], 'bo', label='Train Accuracy')\n",
        "plt.plot(range(1, n_epochs+1), history.history['val_accuracy'], 'r-', label='Valid Accuracy')\n",
        "plt.xlabel('Epochs', fontsize=14)\n",
        "plt.ylabel('Accuracy',  fontsize=14)\n",
        "plt.legend()\n",
        "\n",
        "plt.sca(ax[1])\n",
        "plt.plot(range(1, n_epochs+1), history.history['loss'], 'bo', label='Train loss')\n",
        "plt.plot(range(1, n_epochs+1), history.history['val_loss'], 'r-', label='Valid loss')\n",
        "plt.xlabel('Epochs', fontsize=14)\n",
        "plt.ylabel('Loss',  fontsize=14)\n",
        "plt.legend()\n",
        "plt.show()"
      ]
    },
    {
      "cell_type": "code",
      "execution_count": null,
      "metadata": {
        "colab": {
          "base_uri": "https://localhost:8080/"
        },
        "id": "E6ixQIVbC1vT",
        "outputId": "f42d047c-ab0e-4000-eef1-06ffa7d779fa"
      },
      "outputs": [
        {
          "name": "stdout",
          "output_type": "stream",
          "text": [
            "loss_test => 0.5163951516151428\n",
            "acc_test => 0.8276666402816772\n"
          ]
        }
      ],
      "source": [
        "# Evaluate on test_set\n",
        "loss_test, acc_test = model.evaluate(test_gen, verbose=0)\n",
        "print('loss_test =>', loss_test)\n",
        "print('acc_test =>', acc_test)"
      ]
    },
    {
      "cell_type": "markdown",
      "metadata": {
        "id": "yZDEH87ZF_gm"
      },
      "source": [
        "----"
      ]
    },
    {
      "cell_type": "markdown",
      "metadata": {
        "id": "RbeUsAL3Gid3"
      },
      "source": [
        "### `Using Transfer Learning (Feature Extraction)`"
      ]
    },
    {
      "cell_type": "code",
      "execution_count": 17,
      "metadata": {
        "colab": {
          "base_uri": "https://localhost:8080/"
        },
        "id": "P50jEsraaKo1",
        "outputId": "03df2acb-41af-4a14-fe95-4fc6b3e11f69"
      },
      "outputs": [
        {
          "name": "stderr",
          "output_type": "stream",
          "text": [
            "<ipython-input-17-82eb0238350a>:2: UserWarning: `input_shape` is undefined or non-square, or `rows` is not in [96, 128, 160, 192, 224]. Weights for input shape (224, 224) will be loaded as the default.\n",
            "  base_model = tf.keras.applications.MobileNetV2(\n"
          ]
        },
        {
          "name": "stdout",
          "output_type": "stream",
          "text": [
            "Downloading data from https://storage.googleapis.com/tensorflow/keras-applications/mobilenet_v2/mobilenet_v2_weights_tf_dim_ordering_tf_kernels_1.0_224_no_top.h5\n",
            "\u001b[1m9406464/9406464\u001b[0m \u001b[32m━━━━━━━━━━━━━━━━━━━━\u001b[0m\u001b[37m\u001b[0m \u001b[1m0s\u001b[0m 0us/step\n"
          ]
        }
      ],
      "source": [
        "# Load MobileNetV2 and use it as a ConvBase\n",
        "base_model = tf.keras.applications.MobileNetV2(\n",
        "    input_shape=(100, 100, 3),\n",
        "    include_top=False,\n",
        "    weights='imagenet'\n",
        ")"
      ]
    },
    {
      "cell_type": "code",
      "execution_count": 19,
      "metadata": {
        "id": "G55Siq6UHZUu"
      },
      "outputs": [],
      "source": [
        "# Freeze the base model (only as a feature extractor)\n",
        "base_model.trainable = False"
      ]
    },
    {
      "cell_type": "code",
      "execution_count": 40,
      "metadata": {
        "colab": {
          "base_uri": "https://localhost:8080/"
        },
        "id": "9KUFosrUITFE",
        "outputId": "31a7eb9c-e261-4d15-c8cd-f99fd968284f"
      },
      "outputs": [
        {
          "name": "stdout",
          "output_type": "stream",
          "text": [
            "Found 14034 images belonging to 6 classes.\n",
            "Found 3000 images belonging to 6 classes.\n"
          ]
        }
      ],
      "source": [
        "# Use the function for processing for the choosen model\n",
        "datagen = tf.keras.preprocessing.image.ImageDataGenerator(\n",
        "    preprocessing_function=tf.keras.applications.mobilenet_v2.preprocess_input\n",
        ")\n",
        "\n",
        "# For Training\n",
        "train_gen = datagen.flow_from_directory(directory=TRAIN_FOLDER_PATH,\n",
        "                                        target_size=(100, 100),\n",
        "                                        batch_size=32,\n",
        "                                        class_mode='categorical',   # \"categorical\" or \"binary\" or \"sparse\"\n",
        "                                        color_mode='rgb',\n",
        "                                        shuffle=True)\n",
        "\n",
        "# For Testing\n",
        "test_gen = datagen.flow_from_directory(directory=TEST_FOLDER_PATH,\n",
        "                                        target_size=(100, 100),\n",
        "                                        batch_size=32,\n",
        "                                        class_mode='categorical',\n",
        "                                        color_mode='rgb',\n",
        "                                        shuffle=False)"
      ]
    },
    {
      "cell_type": "code",
      "execution_count": null,
      "metadata": {
        "colab": {
          "base_uri": "https://localhost:8080/",
          "height": 305
        },
        "id": "nY8OtlQYGRqF",
        "outputId": "6287648d-7484-488e-a6b3-8af24c689aed"
      },
      "outputs": [
        {
          "data": {
            "text/html": [
              "<pre style=\"white-space:pre;overflow-x:auto;line-height:normal;font-family:Menlo,'DejaVu Sans Mono',consolas,'Courier New',monospace\"><span style=\"font-weight: bold\">Model: \"sequential_1\"</span>\n",
              "</pre>\n"
            ],
            "text/plain": [
              "\u001b[1mModel: \"sequential_1\"\u001b[0m\n"
            ]
          },
          "metadata": {},
          "output_type": "display_data"
        },
        {
          "data": {
            "text/html": [
              "<pre style=\"white-space:pre;overflow-x:auto;line-height:normal;font-family:Menlo,'DejaVu Sans Mono',consolas,'Courier New',monospace\">┏━━━━━━━━━━━━━━━━━━━━━━━━━━━━━━━━━━━━━━┳━━━━━━━━━━━━━━━━━━━━━━━━━━━━━┳━━━━━━━━━━━━━━━━━┓\n",
              "┃<span style=\"font-weight: bold\"> Layer (type)                         </span>┃<span style=\"font-weight: bold\"> Output Shape                </span>┃<span style=\"font-weight: bold\">         Param # </span>┃\n",
              "┡━━━━━━━━━━━━━━━━━━━━━━━━━━━━━━━━━━━━━━╇━━━━━━━━━━━━━━━━━━━━━━━━━━━━━╇━━━━━━━━━━━━━━━━━┩\n",
              "│ mobilenetv2_1.00_224 (<span style=\"color: #0087ff; text-decoration-color: #0087ff\">Functional</span>)    │ (<span style=\"color: #00d7ff; text-decoration-color: #00d7ff\">None</span>, <span style=\"color: #00af00; text-decoration-color: #00af00\">4</span>, <span style=\"color: #00af00; text-decoration-color: #00af00\">4</span>, <span style=\"color: #00af00; text-decoration-color: #00af00\">1280</span>)          │       <span style=\"color: #00af00; text-decoration-color: #00af00\">2,257,984</span> │\n",
              "├──────────────────────────────────────┼─────────────────────────────┼─────────────────┤\n",
              "│ global_average_pooling2d             │ (<span style=\"color: #00d7ff; text-decoration-color: #00d7ff\">None</span>, <span style=\"color: #00af00; text-decoration-color: #00af00\">1280</span>)                │               <span style=\"color: #00af00; text-decoration-color: #00af00\">0</span> │\n",
              "│ (<span style=\"color: #0087ff; text-decoration-color: #0087ff\">GlobalAveragePooling2D</span>)             │                             │                 │\n",
              "├──────────────────────────────────────┼─────────────────────────────┼─────────────────┤\n",
              "│ dense_2 (<span style=\"color: #0087ff; text-decoration-color: #0087ff\">Dense</span>)                      │ (<span style=\"color: #00d7ff; text-decoration-color: #00d7ff\">None</span>, <span style=\"color: #00af00; text-decoration-color: #00af00\">128</span>)                 │         <span style=\"color: #00af00; text-decoration-color: #00af00\">163,968</span> │\n",
              "├──────────────────────────────────────┼─────────────────────────────┼─────────────────┤\n",
              "│ dropout_1 (<span style=\"color: #0087ff; text-decoration-color: #0087ff\">Dropout</span>)                  │ (<span style=\"color: #00d7ff; text-decoration-color: #00d7ff\">None</span>, <span style=\"color: #00af00; text-decoration-color: #00af00\">128</span>)                 │               <span style=\"color: #00af00; text-decoration-color: #00af00\">0</span> │\n",
              "├──────────────────────────────────────┼─────────────────────────────┼─────────────────┤\n",
              "│ dense_3 (<span style=\"color: #0087ff; text-decoration-color: #0087ff\">Dense</span>)                      │ (<span style=\"color: #00d7ff; text-decoration-color: #00d7ff\">None</span>, <span style=\"color: #00af00; text-decoration-color: #00af00\">6</span>)                   │             <span style=\"color: #00af00; text-decoration-color: #00af00\">774</span> │\n",
              "└──────────────────────────────────────┴─────────────────────────────┴─────────────────┘\n",
              "</pre>\n"
            ],
            "text/plain": [
              "┏━━━━━━━━━━━━━━━━━━━━━━━━━━━━━━━━━━━━━━┳━━━━━━━━━━━━━━━━━━━━━━━━━━━━━┳━━━━━━━━━━━━━━━━━┓\n",
              "┃\u001b[1m \u001b[0m\u001b[1mLayer (type)                        \u001b[0m\u001b[1m \u001b[0m┃\u001b[1m \u001b[0m\u001b[1mOutput Shape               \u001b[0m\u001b[1m \u001b[0m┃\u001b[1m \u001b[0m\u001b[1m        Param #\u001b[0m\u001b[1m \u001b[0m┃\n",
              "┡━━━━━━━━━━━━━━━━━━━━━━━━━━━━━━━━━━━━━━╇━━━━━━━━━━━━━━━━━━━━━━━━━━━━━╇━━━━━━━━━━━━━━━━━┩\n",
              "│ mobilenetv2_1.00_224 (\u001b[38;5;33mFunctional\u001b[0m)    │ (\u001b[38;5;45mNone\u001b[0m, \u001b[38;5;34m4\u001b[0m, \u001b[38;5;34m4\u001b[0m, \u001b[38;5;34m1280\u001b[0m)          │       \u001b[38;5;34m2,257,984\u001b[0m │\n",
              "├──────────────────────────────────────┼─────────────────────────────┼─────────────────┤\n",
              "│ global_average_pooling2d             │ (\u001b[38;5;45mNone\u001b[0m, \u001b[38;5;34m1280\u001b[0m)                │               \u001b[38;5;34m0\u001b[0m │\n",
              "│ (\u001b[38;5;33mGlobalAveragePooling2D\u001b[0m)             │                             │                 │\n",
              "├──────────────────────────────────────┼─────────────────────────────┼─────────────────┤\n",
              "│ dense_2 (\u001b[38;5;33mDense\u001b[0m)                      │ (\u001b[38;5;45mNone\u001b[0m, \u001b[38;5;34m128\u001b[0m)                 │         \u001b[38;5;34m163,968\u001b[0m │\n",
              "├──────────────────────────────────────┼─────────────────────────────┼─────────────────┤\n",
              "│ dropout_1 (\u001b[38;5;33mDropout\u001b[0m)                  │ (\u001b[38;5;45mNone\u001b[0m, \u001b[38;5;34m128\u001b[0m)                 │               \u001b[38;5;34m0\u001b[0m │\n",
              "├──────────────────────────────────────┼─────────────────────────────┼─────────────────┤\n",
              "│ dense_3 (\u001b[38;5;33mDense\u001b[0m)                      │ (\u001b[38;5;45mNone\u001b[0m, \u001b[38;5;34m6\u001b[0m)                   │             \u001b[38;5;34m774\u001b[0m │\n",
              "└──────────────────────────────────────┴─────────────────────────────┴─────────────────┘\n"
            ]
          },
          "metadata": {},
          "output_type": "display_data"
        },
        {
          "data": {
            "text/html": [
              "<pre style=\"white-space:pre;overflow-x:auto;line-height:normal;font-family:Menlo,'DejaVu Sans Mono',consolas,'Courier New',monospace\"><span style=\"font-weight: bold\"> Total params: </span><span style=\"color: #00af00; text-decoration-color: #00af00\">2,422,726</span> (9.24 MB)\n",
              "</pre>\n"
            ],
            "text/plain": [
              "\u001b[1m Total params: \u001b[0m\u001b[38;5;34m2,422,726\u001b[0m (9.24 MB)\n"
            ]
          },
          "metadata": {},
          "output_type": "display_data"
        },
        {
          "data": {
            "text/html": [
              "<pre style=\"white-space:pre;overflow-x:auto;line-height:normal;font-family:Menlo,'DejaVu Sans Mono',consolas,'Courier New',monospace\"><span style=\"font-weight: bold\"> Trainable params: </span><span style=\"color: #00af00; text-decoration-color: #00af00\">164,742</span> (643.52 KB)\n",
              "</pre>\n"
            ],
            "text/plain": [
              "\u001b[1m Trainable params: \u001b[0m\u001b[38;5;34m164,742\u001b[0m (643.52 KB)\n"
            ]
          },
          "metadata": {},
          "output_type": "display_data"
        },
        {
          "data": {
            "text/html": [
              "<pre style=\"white-space:pre;overflow-x:auto;line-height:normal;font-family:Menlo,'DejaVu Sans Mono',consolas,'Courier New',monospace\"><span style=\"font-weight: bold\"> Non-trainable params: </span><span style=\"color: #00af00; text-decoration-color: #00af00\">2,257,984</span> (8.61 MB)\n",
              "</pre>\n"
            ],
            "text/plain": [
              "\u001b[1m Non-trainable params: \u001b[0m\u001b[38;5;34m2,257,984\u001b[0m (8.61 MB)\n"
            ]
          },
          "metadata": {},
          "output_type": "display_data"
        }
      ],
      "source": [
        "# Create a new model\n",
        "model = tf.keras.Sequential([\n",
        "    base_model,  # Feature Extractor\n",
        "    tf.keras.layers.GlobalAveragePooling2D(),\n",
        "    tf.keras.layers.Dense(128, activation='relu'),\n",
        "    tf.keras.layers.Dropout(0.5),\n",
        "    tf.keras.layers.Dense(6, activation='softmax')\n",
        "])\n",
        "model.summary()"
      ]
    },
    {
      "cell_type": "code",
      "execution_count": 22,
      "metadata": {
        "colab": {
          "base_uri": "https://localhost:8080/"
        },
        "id": "CUMWMw1qGRnC",
        "outputId": "2f6c81a7-db3a-4d62-8774-8c23efb8dcec"
      },
      "outputs": [
        {
          "name": "stdout",
          "output_type": "stream",
          "text": [
            "Epoch 1/10\n"
          ]
        },
        {
          "name": "stderr",
          "output_type": "stream",
          "text": [
            "/usr/local/lib/python3.11/dist-packages/keras/src/trainers/data_adapters/py_dataset_adapter.py:121: UserWarning: Your `PyDataset` class should call `super().__init__(**kwargs)` in its constructor. `**kwargs` can include `workers`, `use_multiprocessing`, `max_queue_size`. Do not pass these arguments to `fit()`, as they will be ignored.\n",
            "  self._warn_if_super_not_called()\n"
          ]
        },
        {
          "name": "stdout",
          "output_type": "stream",
          "text": [
            "\u001b[1m439/439\u001b[0m \u001b[32m━━━━━━━━━━━━━━━━━━━━\u001b[0m\u001b[37m\u001b[0m \u001b[1m35s\u001b[0m 56ms/step - accuracy: 0.5259 - loss: 1.4053 - val_accuracy: 0.8503 - val_loss: 0.4226\n",
            "Epoch 2/10\n",
            "\u001b[1m439/439\u001b[0m \u001b[32m━━━━━━━━━━━━━━━━━━━━\u001b[0m\u001b[37m\u001b[0m \u001b[1m15s\u001b[0m 34ms/step - accuracy: 0.8164 - loss: 0.5145 - val_accuracy: 0.8640 - val_loss: 0.3858\n",
            "Epoch 3/10\n",
            "\u001b[1m439/439\u001b[0m \u001b[32m━━━━━━━━━━━━━━━━━━━━\u001b[0m\u001b[37m\u001b[0m \u001b[1m15s\u001b[0m 34ms/step - accuracy: 0.8451 - loss: 0.4304 - val_accuracy: 0.8707 - val_loss: 0.3606\n",
            "Epoch 4/10\n",
            "\u001b[1m439/439\u001b[0m \u001b[32m━━━━━━━━━━━━━━━━━━━━\u001b[0m\u001b[37m\u001b[0m \u001b[1m15s\u001b[0m 35ms/step - accuracy: 0.8606 - loss: 0.3804 - val_accuracy: 0.8747 - val_loss: 0.3421\n",
            "Epoch 5/10\n",
            "\u001b[1m439/439\u001b[0m \u001b[32m━━━━━━━━━━━━━━━━━━━━\u001b[0m\u001b[37m\u001b[0m \u001b[1m20s\u001b[0m 34ms/step - accuracy: 0.8696 - loss: 0.3531 - val_accuracy: 0.8823 - val_loss: 0.3345\n",
            "Epoch 6/10\n",
            "\u001b[1m439/439\u001b[0m \u001b[32m━━━━━━━━━━━━━━━━━━━━\u001b[0m\u001b[37m\u001b[0m \u001b[1m20s\u001b[0m 33ms/step - accuracy: 0.8788 - loss: 0.3320 - val_accuracy: 0.8823 - val_loss: 0.3319\n",
            "Epoch 7/10\n",
            "\u001b[1m439/439\u001b[0m \u001b[32m━━━━━━━━━━━━━━━━━━━━\u001b[0m\u001b[37m\u001b[0m \u001b[1m21s\u001b[0m 35ms/step - accuracy: 0.8892 - loss: 0.3162 - val_accuracy: 0.8850 - val_loss: 0.3271\n",
            "Epoch 8/10\n",
            "\u001b[1m439/439\u001b[0m \u001b[32m━━━━━━━━━━━━━━━━━━━━\u001b[0m\u001b[37m\u001b[0m \u001b[1m21s\u001b[0m 36ms/step - accuracy: 0.8936 - loss: 0.2978 - val_accuracy: 0.8833 - val_loss: 0.3233\n",
            "Epoch 9/10\n",
            "\u001b[1m439/439\u001b[0m \u001b[32m━━━━━━━━━━━━━━━━━━━━\u001b[0m\u001b[37m\u001b[0m \u001b[1m14s\u001b[0m 33ms/step - accuracy: 0.8949 - loss: 0.2827 - val_accuracy: 0.8827 - val_loss: 0.3208\n",
            "Epoch 10/10\n",
            "\u001b[1m439/439\u001b[0m \u001b[32m━━━━━━━━━━━━━━━━━━━━\u001b[0m\u001b[37m\u001b[0m \u001b[1m24s\u001b[0m 41ms/step - accuracy: 0.9006 - loss: 0.2697 - val_accuracy: 0.8880 - val_loss: 0.3205\n"
          ]
        }
      ],
      "source": [
        "# Compile\n",
        "model.compile(loss='categorical_crossentropy',\n",
        "              optimizer=tf.keras.optimizers.Adam(learning_rate=1e-4),\n",
        "              metrics=['accuracy'])\n",
        "\n",
        "# Early stopping\n",
        "early_stopp = tf.keras.callbacks.EarlyStopping(patience=5, restore_best_weights=True)\n",
        "\n",
        "# Fitting\n",
        "history = model.fit(train_gen,\n",
        "                    validation_data=(test_gen),\n",
        "                    steps_per_epoch=len(train_gen),\n",
        "                    validation_steps=len(test_gen),\n",
        "                    epochs=10,   # need more epochs\n",
        "                    callbacks=[early_stopp])"
      ]
    },
    {
      "cell_type": "code",
      "execution_count": 23,
      "metadata": {
        "colab": {
          "base_uri": "https://localhost:8080/",
          "height": 393
        },
        "id": "VWyrKpHOGRih",
        "outputId": "82f9f78b-90ad-4f90-edae-9de407a4ab05"
      },
      "outputs": [
        {
          "data": {
            "image/png": "[encoded data removed]",
            "text/plain": [
              "<Figure size 1200x400 with 2 Axes>"
            ]
          },
          "metadata": {},
          "output_type": "display_data"
        }
      ],
      "source": [
        "# Visualize the resutls\n",
        "fig, ax = plt.subplots(1, 2, figsize=(12, 4))\n",
        "n_epochs = len(history.history['loss'])  # real number of epochs in history, as we made early stopp\n",
        "plt.sca(ax[0])\n",
        "plt.plot(range(1, n_epochs+1), history.history['accuracy'], 'bo', label='Train Accuracy')\n",
        "plt.plot(range(1, n_epochs+1), history.history['val_accuracy'], 'r-', label='Valid Accuracy')\n",
        "plt.xlabel('Epochs', fontsize=14)\n",
        "plt.ylabel('Accuracy',  fontsize=14)\n",
        "plt.legend()\n",
        "\n",
        "plt.sca(ax[1])\n",
        "plt.plot(range(1, n_epochs+1), history.history['loss'], 'bo', label='Train loss')\n",
        "plt.plot(range(1, n_epochs+1), history.history['val_loss'], 'r-', label='Valid loss')\n",
        "plt.xlabel('Epochs', fontsize=14)\n",
        "plt.ylabel('Loss',  fontsize=14)\n",
        "plt.legend()\n",
        "plt.show()"
      ]
    },
    {
      "cell_type": "code",
      "execution_count": null,
      "metadata": {
        "colab": {
          "base_uri": "https://localhost:8080/"
        },
        "id": "UmHOHOg_GRaW",
        "outputId": "a7744699-66cd-4998-cc19-287e524e0774"
      },
      "outputs": [
        {
          "name": "stdout",
          "output_type": "stream",
          "text": [
            "loss_test => 0.3204694092273712\n",
            "acc_test => 0.8880000114440918\n"
          ]
        }
      ],
      "source": [
        "# Evaluate on test_set\n",
        "loss_test, acc_test = model.evaluate(test_gen, verbose=0)\n",
        "print('loss_test =>', loss_test)\n",
        "print('acc_test =>', acc_test)"
      ]
    },
    {
      "cell_type": "markdown",
      "metadata": {
        "id": "lBXpkpn0QMv3"
      },
      "source": [
        "---"
      ]
    },
    {
      "cell_type": "code",
      "execution_count": 25,
      "metadata": {
        "id": "Djvy-C0wQMDh"
      },
      "outputs": [],
      "source": [
        "ASSETS_FOLDER_PATH = os.path.join(os.getcwd(), \"assets\")\n",
        "os.makedirs(ASSETS_FOLDER_PATH, exist_ok=True)"
      ]
    },
    {
      "cell_type": "code",
      "execution_count": null,
      "metadata": {
        "colab": {
          "base_uri": "https://localhost:8080/"
        },
        "id": "GbkoIzC9QS4X",
        "outputId": "c4f2202a-fede-427e-88b3-12ec687962ef"
      },
      "outputs": [
        {
          "data": {
            "text/plain": [
              "['/content/assets/idx2label.joblib']"
            ]
          },
          "execution_count": 47,
          "metadata": {},
          "output_type": "execute_result"
        }
      ],
      "source": [
        "# dump model\n",
        "model.save(os.path.join(ASSETS_FOLDER_PATH, \"model.keras\"))\n",
        "\n",
        "# Idx2Label and dump it\n",
        "idx2label = {v: k for k, v in train_gen.class_indices.items()}\n",
        "joblib.dump(idx2label, os.path.join(ASSETS_FOLDER_PATH, \"idx2label.joblib\"))"
      ]
    },
    {
      "cell_type": "markdown",
      "metadata": {
        "id": "PqIdCZtNGAA9"
      },
      "source": [
        "### `Inference`"
      ]
    },
    {
      "cell_type": "code",
      "execution_count": 51,
      "metadata": {
        "colab": {
          "base_uri": "https://localhost:8080/"
        },
        "id": "Lq-fdcPwgR1n",
        "outputId": "f9f418b5-0f0f-4d8b-f674-258c628bec00"
      },
      "outputs": [
        {
          "data": {
            "text/plain": [
              "(10, 100, 100, 3)"
            ]
          },
          "execution_count": 51,
          "metadata": {},
          "output_type": "execute_result"
        }
      ],
      "source": [
        "# Get list of images\n",
        "images_paths = glob.glob(str(PRED_FOLDER_PATH + '/*.jpg'))[:10]\n",
        "\n",
        "# Preprocess images for prediction\n",
        "def preprocess_image(image_path: str):\n",
        "  # Load image\n",
        "  image = tf.keras.preprocessing.image.load_img(image_path, target_size=(100, 100))\n",
        "  # To array\n",
        "  image_array = tf.keras.preprocessing.image.img_to_array(image)\n",
        "  # Add batch dimension\n",
        "  image_array = np.expand_dims(image_array, axis=0)\n",
        "  # Process for the choosen model\n",
        "  image_array = tf.keras.applications.mobilenet_v2.preprocess_input(image_array)\n",
        "  return image_array\n",
        "\n",
        "# Apply on example (general one sample or more)\n",
        "preprocessed_images = np.vstack([preprocess_image(img) for img in images_paths])\n",
        "preprocessed_images.shape"
      ]
    },
    {
      "cell_type": "code",
      "execution_count": 59,
      "metadata": {
        "colab": {
          "base_uri": "https://localhost:8080/"
        },
        "id": "t4uBF5bHeXkM",
        "outputId": "9caa9c33-d0ff-48d4-dfe9-523f806bb144"
      },
      "outputs": [
        {
          "name": "stdout",
          "output_type": "stream",
          "text": [
            "\u001b[1m1/1\u001b[0m \u001b[32m━━━━━━━━━━━━━━━━━━━━\u001b[0m\u001b[37m\u001b[0m \u001b[1m0s\u001b[0m 39ms/step\n"
          ]
        },
        {
          "data": {
            "text/plain": [
              "['glacier',\n",
              " 'mountain',\n",
              " 'buildings',\n",
              " 'forest',\n",
              " 'forest',\n",
              " 'forest',\n",
              " 'sea',\n",
              " 'glacier',\n",
              " 'sea',\n",
              " 'buildings']"
            ]
          },
          "execution_count": 59,
          "metadata": {},
          "output_type": "execute_result"
        }
      ],
      "source": [
        "# Prediction\n",
        "y_pred = np.argmax(model.predict(preprocessed_images), axis=-1)\n",
        "\n",
        "# Decode\n",
        "y_pred_class = [idx2label[i] for i in y_pred]\n",
        "y_pred_class"
      ]
    },
    {
      "cell_type": "markdown",
      "metadata": {
        "id": "SjAw34UUgtXM"
      },
      "source": [
        "----"
      ]
    }
  ],
  "metadata": {
    "accelerator": "GPU",
    "colab": {
      "gpuType": "T4",
      "provenance": []
    },
    "kernelspec": {
      "display_name": "Python 3",
      "name": "python3"
    },
    "language_info": {
      "name": "python"
    }
  },
  "nbformat": 4,
  "nbformat_minor": 0
}
